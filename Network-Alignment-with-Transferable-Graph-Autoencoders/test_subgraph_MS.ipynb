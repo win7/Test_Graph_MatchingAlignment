{
 "cells": [
  {
   "cell_type": "code",
   "execution_count": 251,
   "metadata": {},
   "outputs": [],
   "source": [
    "from graphMatching import *\n",
    "from networkx import read_edgelist\n",
    "from scipy.io import loadmat\n",
    "from model import *\n",
    "from utils import *"
   ]
  },
  {
   "cell_type": "code",
   "execution_count": 252,
   "metadata": {},
   "outputs": [],
   "source": [
    "# import networkx as nx\n",
    "import pandas as pd\n",
    "import matplotlib.pyplot as plt\n",
    "from matplotlib.patches import ConnectionPatch"
   ]
  },
  {
   "cell_type": "code",
   "execution_count": 253,
   "metadata": {},
   "outputs": [],
   "source": [
    "data = \"MS\" # args.dataset\n",
    "\n",
    "device = torch.device('cuda:0' if torch.cuda.is_available() else \"cpu\")\n",
    "train_features = {}\n",
    "if (data == \"ACM_DBLP\"):\n",
    "\ttrain_set = [\"ACM\", \"DBLP\"]\n",
    "\tinput_dim = 17\n",
    "\tb = np.load('data/ACM-DBLP.npz')\n",
    "\ttrain_features[\"ACM\"] = [torch.from_numpy(b[\"x1\"]).float()]\n",
    "\ttrain_features[\"DBLP\"] = [torch.from_numpy(b[\"x2\"]).float()]\n",
    "\ttest_pairs = b['test_pairs'].astype(np.int32)\n",
    "\tNUM_HIDDEN_LAYERS = 12\n",
    "\tHIDDEN_DIM = 1024\n",
    "\toutput_feature_size = 1024\n",
    "\tlr = 0.0001\n",
    "\tepoch = 100\n",
    "elif (data == \"Douban Online_Offline\"):\n",
    "\ta1, f1, a2, f2, test_pairs = load_douban()\n",
    "\tf1 = f1.A\n",
    "\tf2 = f2.A\n",
    "\ttrain_set = [\"Online\", \"Offline\"]\n",
    "\tinput_dim = 538\n",
    "\ttest_pairs = torch.tensor(np.array(test_pairs, dtype=int)) - 1\n",
    "\ttest_pairs = test_pairs.numpy()\n",
    "\ttrain_features[\"Online\"] = [torch.from_numpy(f1).float()]\n",
    "\ttrain_features[\"Offline\"] = [torch.from_numpy(f2).float()]\n",
    "\tNUM_HIDDEN_LAYERS = 6\n",
    "\tHIDDEN_DIM = 512\n",
    "\toutput_feature_size = 512\n",
    "\tlr = 0.0001\n",
    "\tepoch = 100\n",
    "elif (data == \"MS\"):\n",
    "\ttrain_set = [\"pck1_1\", \"pck1_2\"] # change\n",
    "\tinput_dim = 3 # features\n",
    "\t\n",
    "\tdf_nodes_1 = pd.read_csv(\"graphs_data/nodes_{}.csv\".format(train_set[0]))\n",
    "\tdf_nodes_2 = pd.read_csv(\"graphs_data/nodes_{}.csv\".format(train_set[1]))\n",
    "\t\n",
    "\ttrain_features[train_set[0]] = [torch.from_numpy(df_nodes_1.iloc[:, 2:].values).float()]\n",
    "\ttrain_features[train_set[1]] = [torch.from_numpy(df_nodes_2.iloc[:, 2:].values).float()]\n",
    "\t\n",
    "\tNUM_HIDDEN_LAYERS = 12\n",
    "\tHIDDEN_DIM = 1024\n",
    "\toutput_feature_size = 1024\n",
    "\tlr = 0.0001\n",
    "\tepoch = 100"
   ]
  },
  {
   "cell_type": "code",
   "execution_count": 254,
   "metadata": {},
   "outputs": [
    {
     "data": {
      "text/plain": [
       "' temp = torch.from_numpy(b[\"x1\"]).float() # G1, features\\nprint(temp.shape)\\ntemp '"
      ]
     },
     "execution_count": 254,
     "metadata": {},
     "output_type": "execute_result"
    }
   ],
   "source": [
    "\"\"\" temp = torch.from_numpy(b[\"x1\"]).float() # G1, features\n",
    "print(temp.shape)\n",
    "temp \"\"\""
   ]
  },
  {
   "cell_type": "code",
   "execution_count": 255,
   "metadata": {},
   "outputs": [
    {
     "data": {
      "text/plain": [
       "' temp = torch.from_numpy(b[\"x2\"]).float() # G2, features\\nprint(temp.shape)\\ntemp '"
      ]
     },
     "execution_count": 255,
     "metadata": {},
     "output_type": "execute_result"
    }
   ],
   "source": [
    "\"\"\" temp = torch.from_numpy(b[\"x2\"]).float() # G2, features\n",
    "print(temp.shape)\n",
    "temp \"\"\""
   ]
  },
  {
   "cell_type": "code",
   "execution_count": 256,
   "metadata": {},
   "outputs": [
    {
     "data": {
      "text/plain": [
       "' temp = b[\"test_pairs\"]\\nprint(temp.shape)\\ntemp '"
      ]
     },
     "execution_count": 256,
     "metadata": {},
     "output_type": "execute_result"
    }
   ],
   "source": [
    "\"\"\" temp = b[\"test_pairs\"]\n",
    "print(temp.shape)\n",
    "temp \"\"\""
   ]
  },
  {
   "cell_type": "code",
   "execution_count": 257,
   "metadata": {},
   "outputs": [],
   "source": [
    "# test_pairs"
   ]
  },
  {
   "cell_type": "code",
   "execution_count": 258,
   "metadata": {},
   "outputs": [
    {
     "data": {
      "text/plain": [
       "['pck1_1', 'pck1_2']"
      ]
     },
     "execution_count": 258,
     "metadata": {},
     "output_type": "execute_result"
    }
   ],
   "source": [
    "train_set"
   ]
  },
  {
   "cell_type": "code",
   "execution_count": 259,
   "metadata": {},
   "outputs": [
    {
     "name": "stdout",
     "output_type": "stream",
     "text": [
      "Loading training datasets\n"
     ]
    },
    {
     "data": {
      "text/plain": [
       "{'pck1_1': [tensor([[0., 1., 1.,  ..., 0., 0., 0.],\n",
       "          [1., 0., 1.,  ..., 1., 1., 1.],\n",
       "          [1., 1., 0.,  ..., 1., 1., 1.],\n",
       "          ...,\n",
       "          [0., 1., 1.,  ..., 0., 1., 1.],\n",
       "          [0., 1., 1.,  ..., 1., 0., 1.],\n",
       "          [0., 1., 1.,  ..., 1., 1., 0.]])],\n",
       " 'pck1_2': [tensor([[0., 1., 1.,  ..., 0., 0., 0.],\n",
       "          [1., 0., 0.,  ..., 1., 1., 1.],\n",
       "          [1., 0., 0.,  ..., 1., 0., 0.],\n",
       "          ...,\n",
       "          [0., 1., 1.,  ..., 0., 1., 1.],\n",
       "          [0., 1., 0.,  ..., 1., 0., 1.],\n",
       "          [0., 1., 0.,  ..., 1., 1., 0.]])]}"
      ]
     },
     "execution_count": 259,
     "metadata": {},
     "output_type": "execute_result"
    }
   ],
   "source": [
    "# for Mentos\n",
    "encoder = \"GIN\"\n",
    "use_input_augmentation = True\n",
    "use_output_augmentation = False\n",
    "print(\"Loading training datasets\")\n",
    "train_loader = {}\n",
    "for dataset in train_set:\n",
    "\tdf_edges_orange = pd.read_csv(\"graphs_data/edges_{}.csv\".format(dataset))\n",
    "\tedges = df_edges_orange.iloc[:, [0, 1]].values\n",
    "\t\n",
    "\tn = train_features[dataset][0].shape[0]\n",
    "\tmatrix = torch.zeros(n, n)\n",
    "\n",
    "\tfor item in edges:\n",
    "\t\tmatrix[item[0]][item[1]] = 1\n",
    "\t\tmatrix[item[1]][item[0]] = 1\n",
    "\n",
    "\ttrain_loader[dataset] = [matrix]\n",
    "\n",
    "train_loader"
   ]
  },
  {
   "cell_type": "code",
   "execution_count": 260,
   "metadata": {},
   "outputs": [
    {
     "data": {
      "text/plain": [
       "dict_keys(['pck1_1', 'pck1_2'])"
      ]
     },
     "execution_count": 260,
     "metadata": {},
     "output_type": "execute_result"
    }
   ],
   "source": [
    "train_loader.keys()"
   ]
  },
  {
   "cell_type": "code",
   "execution_count": 261,
   "metadata": {},
   "outputs": [
    {
     "data": {
      "image/png": "[encoded data removed]",
      "text/plain": [
       "<Figure size 640x480 with 1 Axes>"
      ]
     },
     "metadata": {},
     "output_type": "display_data"
    }
   ],
   "source": [
    "plt.imshow(train_loader[train_set[0]][0].cpu().numpy(), cmap=\"Blues\", interpolation=\"none\")\n",
    "plt.show()"
   ]
  },
  {
   "cell_type": "code",
   "execution_count": 262,
   "metadata": {},
   "outputs": [
    {
     "data": {
      "text/plain": [
       "' temp = train_loader[\"ACM\"][0]\\nprint(temp.shape)\\ntemp '"
      ]
     },
     "execution_count": 262,
     "metadata": {},
     "output_type": "execute_result"
    }
   ],
   "source": [
    "\"\"\" temp = train_loader[\"ACM\"][0]\n",
    "print(temp.shape)\n",
    "temp \"\"\""
   ]
  },
  {
   "cell_type": "code",
   "execution_count": 263,
   "metadata": {},
   "outputs": [
    {
     "data": {
      "text/plain": [
       "' temp = train_loader[\"DBLP\"][0]\\nprint(temp.shape)\\ntemp '"
      ]
     },
     "execution_count": 263,
     "metadata": {},
     "output_type": "execute_result"
    }
   ],
   "source": [
    "\"\"\" temp = train_loader[\"DBLP\"][0]\n",
    "print(temp.shape)\n",
    "temp \"\"\""
   ]
  },
  {
   "cell_type": "code",
   "execution_count": 264,
   "metadata": {},
   "outputs": [
    {
     "data": {
      "text/plain": [
       "GAE(\n",
       "  (base_gcn): GIN(\n",
       "    (in_proj): Linear(in_features=3, out_features=1024, bias=True)\n",
       "    (convs): ModuleList(\n",
       "      (0-13): 14 x GINConv(\n",
       "        (linear): Linear(in_features=1027, out_features=1024, bias=True)\n",
       "      )\n",
       "    )\n",
       "    (out_proj): Linear(in_features=15360, out_features=1024, bias=True)\n",
       "  )\n",
       ")"
      ]
     },
     "execution_count": 264,
     "metadata": {},
     "output_type": "execute_result"
    }
   ],
   "source": [
    "model = GAE(NUM_HIDDEN_LAYERS,\n",
    "\t\t\tinput_dim,\n",
    "\t\t\tHIDDEN_DIM,\n",
    "\t\t\toutput_feature_size, activation=F.relu,\n",
    "\t\t\tuse_input_augmentation=use_input_augmentation,\n",
    "\t\t\tuse_output_augmentation=use_output_augmentation,\n",
    "\t\t\tencoder=encoder).to(device)\n",
    "model"
   ]
  },
  {
   "cell_type": "code",
   "execution_count": 265,
   "metadata": {},
   "outputs": [
    {
     "name": "stdout",
     "output_type": "stream",
     "text": [
      "Generating training features\n"
     ]
    }
   ],
   "source": [
    "print(\"Generating training features\")\n"
   ]
  },
  {
   "cell_type": "code",
   "execution_count": 266,
   "metadata": {},
   "outputs": [
    {
     "data": {
      "text/plain": [
       "{'pck1_1': [tensor([[0., 1., 1.,  ..., 0., 0., 0.],\n",
       "          [1., 0., 1.,  ..., 1., 1., 1.],\n",
       "          [1., 1., 0.,  ..., 1., 1., 1.],\n",
       "          ...,\n",
       "          [0., 1., 1.,  ..., 0., 1., 1.],\n",
       "          [0., 1., 1.,  ..., 1., 0., 1.],\n",
       "          [0., 1., 1.,  ..., 1., 1., 0.]])],\n",
       " 'pck1_2': [tensor([[0., 1., 1.,  ..., 0., 0., 0.],\n",
       "          [1., 0., 0.,  ..., 1., 1., 1.],\n",
       "          [1., 0., 0.,  ..., 1., 0., 0.],\n",
       "          ...,\n",
       "          [0., 1., 1.,  ..., 0., 1., 1.],\n",
       "          [0., 1., 0.,  ..., 1., 0., 1.],\n",
       "          [0., 1., 0.,  ..., 1., 1., 0.]])]}"
      ]
     },
     "execution_count": 266,
     "metadata": {},
     "output_type": "execute_result"
    }
   ],
   "source": [
    "train_loader"
   ]
  },
  {
   "cell_type": "code",
   "execution_count": 267,
   "metadata": {},
   "outputs": [
    {
     "name": "stdout",
     "output_type": "stream",
     "text": [
      "Fitting model\n"
     ]
    },
    {
     "name": "stderr",
     "output_type": "stream",
     "text": [
      "100%|██████████| 100/100 [38:02<00:00, 22.82s/it]\n"
     ]
    }
   ],
   "source": [
    "print(\"Fitting model\")\n",
    "# fit_GAE_real(data, len(train_set) * (1 + 1), model, epoch, train_loader, train_features, device, lr,test_pairs)\n",
    "# fit_GAE_real(data, no_samples, GAE, epoch, train_loader, train_features, device, lr, test_pairs):\n",
    "\n",
    "no_samples = len(train_set) * (1 + 1)\n",
    "GAE = model\n",
    "# ---\n",
    "\n",
    "best_hitAtOne = 0\n",
    "best_hitAtFive = 0\n",
    "best_hitAtTen = 0\n",
    "best_hitAtFifty = 0\n",
    "optimizer = Adam(GAE.parameters(), lr=lr, weight_decay=5e-4)\n",
    "\n",
    "for step in tqdm(range(epoch)):\n",
    "\tloss = 0\n",
    "\t\n",
    "\tfor dataset in train_loader.keys():\n",
    "\t\tS = train_loader[dataset][0]\n",
    "\t\tinitial_features = train_features[dataset]\n",
    "\t\t\n",
    "\t\tfor i in range(len(train_loader[dataset])):\n",
    "\t\t\tadj_tensor = train_loader[dataset][i]\n",
    "\t\t\tadj = coo_matrix(adj_tensor.numpy())\n",
    "\t\t\tadj_norm = preprocess_graph(adj)\n",
    "\t\t\tpos_weight = float(adj.shape[0] * adj.shape[0] - adj.sum()) / adj.sum()\n",
    "\t\t\tnorm = adj.shape[0] * adj.shape[0] / float((adj.shape[0] * adj.shape[0] - adj.sum()) * 2)\n",
    "\n",
    "\t\t\tadj_label = coo_matrix(S.numpy())\n",
    "\t\t\tadj_label = sparse_to_tuple(adj_label)\n",
    "\n",
    "\t\t\tadj_norm = torch.sparse.FloatTensor(torch.LongTensor(adj_norm[0].T),\n",
    "\t\t\t\t\t\t\t\t\t\t\t\ttorch.FloatTensor(adj_norm[1]),\n",
    "\t\t\t\t\t\t\t\t\t\t\t\ttorch.Size(adj_norm[2])).to(device)\n",
    "\t\t\tadj_label = torch.sparse.FloatTensor(torch.LongTensor(adj_label[0].T),\n",
    "\t\t\t\t\t\t\t\t\t\t\t\ttorch.FloatTensor(adj_label[1]),\n",
    "\t\t\t\t\t\t\t\t\t\t\t\ttorch.Size(adj_label[2])).to(device)\n",
    "\n",
    "\t\t\tinitial_feature = initial_features[i].to(device)\n",
    "\n",
    "\t\t\tweight_mask = adj_label.to_dense().view(-1) == 1\n",
    "\t\t\tweight_tensor = torch.ones(weight_mask.size(0))\n",
    "\t\t\tweight_tensor[weight_mask] = pos_weight\n",
    "\t\t\tweight_tensor = weight_tensor.to(device)\n",
    "\t\t\tz = GAE(initial_feature, adj_norm)\n",
    "\t\t\tA_pred = torch.sigmoid(torch.matmul(z,z.t()))\n",
    "\t\t\tloss += norm * F.binary_cross_entropy(A_pred.view(-1), adj_label.to_dense().view(-1),\n",
    "\t\t\t\t\t\t\t\t\t\t\t\t\t\tweight=weight_tensor)\n",
    "\t\n",
    "\toptimizer.zero_grad()\n",
    "\tloss = loss / no_samples\n",
    "\tloss.backward()\n",
    "\toptimizer.step()\n",
    "\n",
    "\t# ---\n",
    "\tkeys = list(train_loader.keys())\n",
    "\tS1 = train_loader[keys[0]][0]\n",
    "\tS2 = train_loader[keys[1]][0]\n",
    "\t\n",
    "\tadj_S1 = coo_matrix(S1.numpy())\n",
    "\tadj_norm_1 = preprocess_graph(adj_S1)\n",
    "\tadj_norm_1 = torch.sparse.FloatTensor(torch.LongTensor(adj_norm_1[0].T),\n",
    "\t\t\t\t\t\t\t\t\t\t\ttorch.FloatTensor(adj_norm_1[1]),\n",
    "\t\t\t\t\t\t\t\t\t\t\ttorch.Size(adj_norm_1[2])).to(device)\n",
    "\tadj_S2 = coo_matrix(S2.numpy())\n",
    "\tadj_norm_2 = preprocess_graph(adj_S2)\n",
    "\tadj_norm_2 = torch.sparse.FloatTensor(torch.LongTensor(adj_norm_2[0].T),\n",
    "\t\t\t\t\t\t\t\t\t\t\ttorch.FloatTensor(adj_norm_2[1]),\n",
    "\t\t\t\t\t\t\t\t\t\t\ttorch.Size(adj_norm_2[2])).to(device)\n",
    "\t\"\"\" if (data == \"ACM_DBLP\"):\n",
    "\t\tS1_feat = train_features[\"ACM\"][0]\n",
    "\t\tS2_feat = train_features[\"DBLP\"][0]\n",
    "\telif (data == \"Douban Online_Offline\"):\n",
    "\t\tS1_feat = train_features[\"Online\"][0]\n",
    "\t\tS2_feat = train_features[\"Offline\"][0] \"\"\"\n",
    "\n",
    "\tS1_feat = train_features[train_set[0]][0]\n",
    "\tS2_feat = train_features[train_set[1]][0]\n",
    "\n",
    "\t# ---\n",
    "\tS1_emb = GAE(S1_feat.to(device), adj_norm_1).detach()\n",
    "\tS2_emb = GAE(S2_feat.to(device), adj_norm_2).detach()\n",
    "\n",
    "\tD = torch.cdist(S1_emb, S2_emb, 2) # Euclidean distance"
   ]
  },
  {
   "cell_type": "code",
   "execution_count": 268,
   "metadata": {},
   "outputs": [
    {
     "name": "stdout",
     "output_type": "stream",
     "text": [
      "torch.Size([6242, 6239])\n"
     ]
    },
    {
     "data": {
      "text/plain": [
       "tensor([[12.8858, 13.1990, 11.2741,  ..., 14.8778, 13.7783, 18.6992],\n",
       "        [12.6786, 12.3643, 14.3546,  ..., 10.6749, 11.7790,  6.8461],\n",
       "        [ 3.2178,  2.8858,  4.8840,  ...,  1.3221,  2.3962,  2.8088],\n",
       "        ...,\n",
       "        [ 7.3822,  7.0783,  9.0575,  ...,  5.3705,  6.4730,  1.5551],\n",
       "        [ 7.4115,  7.1078,  9.0858,  ...,  5.3984,  6.5009,  1.5750],\n",
       "        [ 9.3853,  9.0733, 11.0615,  ...,  7.3765,  8.4817,  3.5539]],\n",
       "       device='cuda:0')"
      ]
     },
     "execution_count": 268,
     "metadata": {},
     "output_type": "execute_result"
    }
   ],
   "source": [
    "print(D.shape)\n",
    "D"
   ]
  },
  {
   "cell_type": "markdown",
   "metadata": {},
   "source": [
    "#### Truth"
   ]
  },
  {
   "cell_type": "code",
   "execution_count": 269,
   "metadata": {},
   "outputs": [
    {
     "data": {
      "text/plain": [
       "' print(data)\\nprint(test_pairs.shape)\\nprint(test_pairs) '"
      ]
     },
     "execution_count": 269,
     "metadata": {},
     "output_type": "execute_result"
    }
   ],
   "source": [
    "\"\"\" print(data)\n",
    "print(test_pairs.shape)\n",
    "print(test_pairs) \"\"\""
   ]
  },
  {
   "cell_type": "code",
   "execution_count": 270,
   "metadata": {},
   "outputs": [
    {
     "data": {
      "text/plain": [
       "' if (data == \"ACM_DBLP\"):\\n\\ttest_pairs_ = test_pairs\\nelif (data == \"Douban Online_Offline\"):\\n\\ttest_pairs_ = test_pairs.T\\n\\t\\ntruth = test_pairs_[test_pairs_[:, 1].argsort()]\\nprint(truth.shape)\\ntruth '"
      ]
     },
     "execution_count": 270,
     "metadata": {},
     "output_type": "execute_result"
    }
   ],
   "source": [
    "\"\"\" if (data == \"ACM_DBLP\"):\n",
    "\ttest_pairs_ = test_pairs\n",
    "elif (data == \"Douban Online_Offline\"):\n",
    "\ttest_pairs_ = test_pairs.T\n",
    "\t\n",
    "truth = test_pairs_[test_pairs_[:, 1].argsort()]\n",
    "print(truth.shape)\n",
    "truth \"\"\""
   ]
  },
  {
   "cell_type": "code",
   "execution_count": 271,
   "metadata": {},
   "outputs": [
    {
     "data": {
      "text/plain": [
       "' truth_ = test_pairs_[test_pairs_[:, 0].argsort()]\\nprint(truth_.shape)\\ntruth_ '"
      ]
     },
     "execution_count": 271,
     "metadata": {},
     "output_type": "execute_result"
    }
   ],
   "source": [
    "\"\"\" truth_ = test_pairs_[test_pairs_[:, 0].argsort()]\n",
    "print(truth_.shape)\n",
    "truth_ \"\"\""
   ]
  },
  {
   "cell_type": "markdown",
   "metadata": {},
   "source": [
    "#### Metadata"
   ]
  },
  {
   "cell_type": "code",
   "execution_count": 272,
   "metadata": {},
   "outputs": [],
   "source": [
    "df_nodes_1 = pd.read_csv(\"graphs_data/nodes_{}.csv\".format(train_set[0]))\n",
    "df_nodes_1\n",
    "map1 = dict(zip(df_nodes_1.iloc[:, 0].values, df_nodes_1.iloc[:, 1].values))\n",
    "map1\n",
    "\n",
    "df_nodes_2 = pd.read_csv(\"graphs_data/nodes_{}.csv\".format(train_set[1]))\n",
    "df_nodes_2\n",
    "map2 = dict(zip(df_nodes_2.iloc[:, 0].values, df_nodes_2.iloc[:, 1].values))\n",
    "# map2"
   ]
  },
  {
   "cell_type": "markdown",
   "metadata": {},
   "source": [
    "#### Option 0"
   ]
  },
  {
   "cell_type": "code",
   "execution_count": null,
   "metadata": {},
   "outputs": [],
   "source": [
    "def hungarian(D):\n",
    "\tprint(\"0\")\n",
    "\tP = torch.zeros_like(D)\n",
    "\tmatrix = D.tolist()\n",
    "\tm = Munkres()\n",
    "\tprint(\"1\")\n",
    "\tindexes = m.compute(matrix)\n",
    "\tprint(\"2\")\n",
    "\ttotal = 0\n",
    "\tfor r, c in tqdm(indexes):\n",
    "\t\tprint(r)\n",
    "\t\tP[r][c] = 1\n",
    "\t\ttotal += matrix[r][c]\n",
    "\treturn P.t()\n",
    "\n",
    "X = hungarian(D)\n",
    "print(X.shape)\n",
    "# online_offline: 215m\n",
    "# acm_dblp: 2112m\n",
    "X"
   ]
  },
  {
   "cell_type": "code",
   "execution_count": null,
   "metadata": {},
   "outputs": [],
   "source": [
    "# save\n",
    "\n",
    "X = X.cpu().numpy()\n",
    "np.save(\"P_hungarian_ACM_DBLP\", X)"
   ]
  },
  {
   "cell_type": "code",
   "execution_count": null,
   "metadata": {},
   "outputs": [],
   "source": [
    "# load\n",
    "\n",
    "X = np.load(\"P_hungarian.npy\")\n",
    "X"
   ]
  },
  {
   "cell_type": "code",
   "execution_count": null,
   "metadata": {},
   "outputs": [],
   "source": [
    "option0 = []\n",
    "m, n = X.shape\n",
    "for i in range(m):\n",
    "\tfor j in range(n):\n",
    "\t\tif X[i][j] == 1:\n",
    "\t\t\toption0.append([j, i]) # S, S_hat\n",
    "option0 = np.array(option0)\n",
    "print(len(option0))\n",
    "option0"
   ]
  },
  {
   "cell_type": "code",
   "execution_count": null,
   "metadata": {},
   "outputs": [],
   "source": [
    "matching = test_matching(truth, option0)\n",
    "print(len(matching))\n",
    "print(len(matching) / len(truth))\n",
    "matching"
   ]
  },
  {
   "cell_type": "markdown",
   "metadata": {},
   "source": [
    "#### Option 1"
   ]
  },
  {
   "cell_type": "code",
   "execution_count": 273,
   "metadata": {},
   "outputs": [],
   "source": [
    "total_cost, assignments = hungarian_algorithm(D.cpu())"
   ]
  },
  {
   "cell_type": "code",
   "execution_count": 274,
   "metadata": {},
   "outputs": [
    {
     "name": "stdout",
     "output_type": "stream",
     "text": [
      "(6239, 2)\n"
     ]
    },
    {
     "data": {
      "text/plain": [
       "array([[2560,    0],\n",
       "       [2439,    1],\n",
       "       [5736,    2],\n",
       "       ...,\n",
       "       [2545, 6236],\n",
       "       [1760, 6237],\n",
       "       [2301, 6238]])"
      ]
     },
     "execution_count": 274,
     "metadata": {},
     "output_type": "execute_result"
    }
   ],
   "source": [
    "option1 = np.array(assignments)\n",
    "option1 = option1[option1[:, 1].argsort()]\n",
    "print(option1.shape)\n",
    "option1"
   ]
  },
  {
   "cell_type": "code",
   "execution_count": 275,
   "metadata": {},
   "outputs": [
    {
     "data": {
      "text/plain": [
       "array([[   0, 2560],\n",
       "       [   1, 2439],\n",
       "       [   2, 5736],\n",
       "       ...,\n",
       "       [6236, 2545],\n",
       "       [6237, 1760],\n",
       "       [6238, 2301]])"
      ]
     },
     "execution_count": 275,
     "metadata": {},
     "output_type": "execute_result"
    }
   ],
   "source": [
    "option1_ = option1[:, [1, 0]]\n",
    "option1_"
   ]
  },
  {
   "cell_type": "code",
   "execution_count": 276,
   "metadata": {},
   "outputs": [
    {
     "data": {
      "text/plain": [
       "' matching = test_match(truth, option1)\\nprint(len(matching))\\nprint(len(matching) / len(truth))\\nmatching '"
      ]
     },
     "execution_count": 276,
     "metadata": {},
     "output_type": "execute_result"
    }
   ],
   "source": [
    "\"\"\" matching = test_match(truth, option1)\n",
    "print(len(matching))\n",
    "print(len(matching) / len(truth))\n",
    "matching \"\"\""
   ]
  },
  {
   "cell_type": "code",
   "execution_count": 277,
   "metadata": {},
   "outputs": [
    {
     "data": {
      "text/plain": [
       "[174, 374, 1312, 1603, 3771, 3797, 4770, 5054, 5164, 5324, 5641, 5736, 6168]"
      ]
     },
     "execution_count": 277,
     "metadata": {},
     "output_type": "execute_result"
    }
   ],
   "source": [
    "# Analysis\n",
    "\n",
    "def match_nodes(option, map1, map2):\n",
    "    df_match = pd.DataFrame(option)\n",
    "    df_match.columns = [\"g1\", \"g2\"]\n",
    "    df_match\n",
    "\n",
    "    df_match.replace({\"g1\": map1}, inplace=True) \n",
    "    df_match.replace({\"g2\": map2}, inplace=True) \n",
    "    df_match\n",
    "\n",
    "    df_match = df_match[df_match[\"g1\"] == df_match[\"g2\"]]\n",
    "    return sorted(df_match.iloc[:, 0].values)\n",
    "\n",
    "df_match = match_nodes(option1.copy(), map1, map2)\n",
    "df_match"
   ]
  },
  {
   "cell_type": "code",
   "execution_count": 278,
   "metadata": {},
   "outputs": [
    {
     "data": {
      "text/plain": [
       "' G1 = build_graph(adj_norm_1)\\nG2 = build_graph(adj_norm_2)\\n\\nplot_match(G1, G2, matching)'"
      ]
     },
     "execution_count": 278,
     "metadata": {},
     "output_type": "execute_result"
    }
   ],
   "source": [
    "\"\"\" G1 = build_graph(adj_norm_1)\n",
    "G2 = build_graph(adj_norm_2)\n",
    "\n",
    "plot_match(G1, G2, matching)\"\"\""
   ]
  },
  {
   "cell_type": "markdown",
   "metadata": {},
   "source": [
    "#### Option 2"
   ]
  },
  {
   "cell_type": "code",
   "execution_count": 279,
   "metadata": {},
   "outputs": [
    {
     "name": "stdout",
     "output_type": "stream",
     "text": [
      "(6242, 6239)\n"
     ]
    },
    {
     "data": {
      "text/plain": [
       "array([[0., 0., 0., ..., 0., 0., 0.],\n",
       "       [0., 0., 0., ..., 0., 0., 0.],\n",
       "       [0., 0., 0., ..., 0., 0., 0.],\n",
       "       ...,\n",
       "       [0., 0., 0., ..., 0., 0., 0.],\n",
       "       [0., 0., 0., ..., 0., 0., 0.],\n",
       "       [0., 0., 0., ..., 0., 0., 0.]], dtype=float32)"
      ]
     },
     "execution_count": 279,
     "metadata": {},
     "output_type": "execute_result"
    }
   ],
   "source": [
    "import pygmtools as pygm\n",
    "\n",
    "X = pygm.hungarian(D.cpu().numpy())\n",
    "print(X.shape)\n",
    "X"
   ]
  },
  {
   "cell_type": "code",
   "execution_count": 280,
   "metadata": {},
   "outputs": [
    {
     "name": "stdout",
     "output_type": "stream",
     "text": [
      "(6239, 2)\n"
     ]
    },
    {
     "data": {
      "text/plain": [
       "array([[5729,    0],\n",
       "       [3251,    1],\n",
       "       [2825,    2],\n",
       "       ...,\n",
       "       [5700, 6236],\n",
       "       [4828, 6237],\n",
       "       [5191, 6238]])"
      ]
     },
     "execution_count": 280,
     "metadata": {},
     "output_type": "execute_result"
    }
   ],
   "source": [
    "option2 = matrix_to_edge(X)\n",
    "option2"
   ]
  },
  {
   "cell_type": "code",
   "execution_count": 281,
   "metadata": {},
   "outputs": [
    {
     "data": {
      "text/plain": [
       "array([[   0, 5729],\n",
       "       [   1, 3251],\n",
       "       [   2, 2825],\n",
       "       ...,\n",
       "       [6236, 5700],\n",
       "       [6237, 4828],\n",
       "       [6238, 5191]])"
      ]
     },
     "execution_count": 281,
     "metadata": {},
     "output_type": "execute_result"
    }
   ],
   "source": [
    "option2_ = option2[:, [1, 0]]\n",
    "option2_"
   ]
  },
  {
   "cell_type": "code",
   "execution_count": 282,
   "metadata": {},
   "outputs": [
    {
     "data": {
      "text/plain": [
       "' matching = test_match(truth, option2)\\nprint(len(matching))\\nprint(len(matching) / len(truth))\\nmatching '"
      ]
     },
     "execution_count": 282,
     "metadata": {},
     "output_type": "execute_result"
    }
   ],
   "source": [
    "\"\"\" matching = test_match(truth, option2)\n",
    "print(len(matching))\n",
    "print(len(matching) / len(truth))\n",
    "matching \"\"\""
   ]
  },
  {
   "cell_type": "code",
   "execution_count": 283,
   "metadata": {},
   "outputs": [
    {
     "data": {
      "text/plain": [
       "[636]"
      ]
     },
     "execution_count": 283,
     "metadata": {},
     "output_type": "execute_result"
    }
   ],
   "source": [
    "df_match = match_nodes(option2.copy(), map1, map2)\n",
    "df_match"
   ]
  },
  {
   "cell_type": "code",
   "execution_count": 284,
   "metadata": {},
   "outputs": [
    {
     "data": {
      "text/plain": [
       "' G1 = build_graph(adj_norm_1)\\nG2 = build_graph(adj_norm_2)\\nplot_match(G1, G2, matching) '"
      ]
     },
     "execution_count": 284,
     "metadata": {},
     "output_type": "execute_result"
    }
   ],
   "source": [
    "\"\"\" G1 = build_graph(adj_norm_1)\n",
    "G2 = build_graph(adj_norm_2)\n",
    "plot_match(G1, G2, matching) \"\"\""
   ]
  },
  {
   "cell_type": "markdown",
   "metadata": {},
   "source": [
    "#### Option 3"
   ]
  },
  {
   "cell_type": "code",
   "execution_count": 285,
   "metadata": {},
   "outputs": [
    {
     "name": "stdout",
     "output_type": "stream",
     "text": [
      "(6242, 2)\n"
     ]
    },
    {
     "data": {
      "text/plain": [
       "array([[  38,    0],\n",
       "       [2560,    0],\n",
       "       [5736,    2],\n",
       "       ...,\n",
       "       [ 708, 6235],\n",
       "       [ 905, 6236],\n",
       "       [2301, 6238]])"
      ]
     },
     "execution_count": 285,
     "metadata": {},
     "output_type": "execute_result"
    }
   ],
   "source": [
    "indices = []\n",
    "for i in range(D.shape[0]):\n",
    "\tdist_list = D[i]\n",
    "\tsorted_neighbors = torch.argsort(dist_list).cpu()\n",
    "\tindices.append([i, sorted_neighbors[0]])\n",
    "\n",
    "option3 = np.array(indices)\n",
    "option3 = option3[option3[:, 1].argsort()]\n",
    "print(option3.shape)\n",
    "option3"
   ]
  },
  {
   "cell_type": "code",
   "execution_count": 286,
   "metadata": {},
   "outputs": [
    {
     "data": {
      "text/plain": [
       "array([[   0,   38],\n",
       "       [   0, 2560],\n",
       "       [   2, 5736],\n",
       "       ...,\n",
       "       [6235,  708],\n",
       "       [6236,  905],\n",
       "       [6238, 2301]])"
      ]
     },
     "execution_count": 286,
     "metadata": {},
     "output_type": "execute_result"
    }
   ],
   "source": [
    "option3_ = option3[:, [1, 0]]\n",
    "option3_"
   ]
  },
  {
   "cell_type": "code",
   "execution_count": 287,
   "metadata": {},
   "outputs": [
    {
     "data": {
      "text/plain": [
       "' matching = test_match(truth, option3)\\nprint(len(matching))\\nprint(len(matching) / len(truth))\\nmatching '"
      ]
     },
     "execution_count": 287,
     "metadata": {},
     "output_type": "execute_result"
    }
   ],
   "source": [
    "\"\"\" matching = test_match(truth, option3)\n",
    "print(len(matching))\n",
    "print(len(matching) / len(truth))\n",
    "matching \"\"\""
   ]
  },
  {
   "cell_type": "code",
   "execution_count": 288,
   "metadata": {},
   "outputs": [
    {
     "data": {
      "text/plain": [
       "[84, 119, 124, 475, 878, 1255, 3626, 3771, 4264, 4389, 4715, 6096, 6193]"
      ]
     },
     "execution_count": 288,
     "metadata": {},
     "output_type": "execute_result"
    }
   ],
   "source": [
    "df_match = match_nodes(option3, map1, map2)\n",
    "df_match"
   ]
  },
  {
   "cell_type": "code",
   "execution_count": 289,
   "metadata": {},
   "outputs": [
    {
     "data": {
      "text/plain": [
       "' G1 = build_graph(adj_norm_1)\\nG2 = build_graph(adj_norm_2)\\nplot_match(G1, G2, matching) '"
      ]
     },
     "execution_count": 289,
     "metadata": {},
     "output_type": "execute_result"
    }
   ],
   "source": [
    "\"\"\" G1 = build_graph(adj_norm_1)\n",
    "G2 = build_graph(adj_norm_2)\n",
    "plot_match(G1, G2, matching) \"\"\""
   ]
  },
  {
   "cell_type": "markdown",
   "metadata": {},
   "source": [
    "#### Option 4"
   ]
  },
  {
   "cell_type": "code",
   "execution_count": 290,
   "metadata": {},
   "outputs": [
    {
     "name": "stdout",
     "output_type": "stream",
     "text": [
      "(6242, 6239)\n",
      "[[0. 0. 0. ... 0. 0. 0.]\n",
      " [0. 0. 0. ... 0. 0. 0.]\n",
      " [0. 0. 0. ... 0. 0. 0.]\n",
      " ...\n",
      " [0. 0. 0. ... 0. 0. 0.]\n",
      " [0. 0. 0. ... 0. 0. 0.]\n",
      " [0. 0. 0. ... 0. 0. 0.]]\n"
     ]
    }
   ],
   "source": [
    "X = greedy_match(D)\n",
    "X = X.todense()\n",
    "X = np.array(X)\n",
    "print(X.shape)\n",
    "print(X)"
   ]
  },
  {
   "cell_type": "code",
   "execution_count": 291,
   "metadata": {},
   "outputs": [
    {
     "name": "stdout",
     "output_type": "stream",
     "text": [
      "(6239, 2)\n"
     ]
    },
    {
     "data": {
      "text/plain": [
       "array([[1150,    0],\n",
       "       [3113,    1],\n",
       "       [1144,    2],\n",
       "       ...,\n",
       "       [3125, 6236],\n",
       "       [3122, 6237],\n",
       "       [3119, 6238]])"
      ]
     },
     "execution_count": 291,
     "metadata": {},
     "output_type": "execute_result"
    }
   ],
   "source": [
    "option4 = matrix_to_edge(X)\n",
    "option4"
   ]
  },
  {
   "cell_type": "code",
   "execution_count": 292,
   "metadata": {},
   "outputs": [
    {
     "data": {
      "text/plain": [
       "array([[   0, 1150],\n",
       "       [   1, 3113],\n",
       "       [   2, 1144],\n",
       "       ...,\n",
       "       [6236, 3125],\n",
       "       [6237, 3122],\n",
       "       [6238, 3119]])"
      ]
     },
     "execution_count": 292,
     "metadata": {},
     "output_type": "execute_result"
    }
   ],
   "source": [
    "option4_ = option4[:, [1, 0]]\n",
    "option4_"
   ]
  },
  {
   "cell_type": "code",
   "execution_count": 293,
   "metadata": {},
   "outputs": [
    {
     "data": {
      "text/plain": [
       "' matching = test_match(truth, option4)\\nprint(len(matching))\\nprint(len(matching) / len(truth))\\nmatching '"
      ]
     },
     "execution_count": 293,
     "metadata": {},
     "output_type": "execute_result"
    }
   ],
   "source": [
    "\"\"\" matching = test_match(truth, option4)\n",
    "print(len(matching))\n",
    "print(len(matching) / len(truth))\n",
    "matching \"\"\""
   ]
  },
  {
   "cell_type": "code",
   "execution_count": 294,
   "metadata": {},
   "outputs": [
    {
     "data": {
      "text/plain": [
       "[4539]"
      ]
     },
     "execution_count": 294,
     "metadata": {},
     "output_type": "execute_result"
    }
   ],
   "source": [
    "df_match = match_nodes(option4, map1, map2)\n",
    "df_match"
   ]
  },
  {
   "cell_type": "code",
   "execution_count": 295,
   "metadata": {},
   "outputs": [
    {
     "data": {
      "text/plain": [
       "' G1 = build_graph(adj_norm_1)\\nG2 = build_graph(adj_norm_2)\\nplot_match(G1, G2, matching) '"
      ]
     },
     "execution_count": 295,
     "metadata": {},
     "output_type": "execute_result"
    }
   ],
   "source": [
    "\"\"\" G1 = build_graph(adj_norm_1)\n",
    "G2 = build_graph(adj_norm_2)\n",
    "plot_match(G1, G2, matching) \"\"\""
   ]
  },
  {
   "cell_type": "markdown",
   "metadata": {},
   "source": [
    "#### Option 5"
   ]
  },
  {
   "cell_type": "code",
   "execution_count": 296,
   "metadata": {},
   "outputs": [
    {
     "name": "stdout",
     "output_type": "stream",
     "text": [
      "(6242, 6242)\n"
     ]
    },
    {
     "data": {
      "text/plain": [
       "array([[ 12.88584232,  13.1989727 ,  11.27408409, ..., 100.        ,\n",
       "        100.        , 100.        ],\n",
       "       [ 12.67858791,  12.36432266,  14.35463905, ..., 100.        ,\n",
       "        100.        , 100.        ],\n",
       "       [  3.2177639 ,   2.8857646 ,   4.88400602, ..., 100.        ,\n",
       "        100.        , 100.        ],\n",
       "       ...,\n",
       "       [  7.38224602,   7.07834911,   9.05754185, ..., 100.        ,\n",
       "        100.        , 100.        ],\n",
       "       [  7.41152239,   7.10777807,   9.08582687, ..., 100.        ,\n",
       "        100.        , 100.        ],\n",
       "       [  9.38528061,   9.07334995,  11.06152916, ..., 100.        ,\n",
       "        100.        , 100.        ]])"
      ]
     },
     "execution_count": 296,
     "metadata": {},
     "output_type": "execute_result"
    }
   ],
   "source": [
    "D_ = complete_to_square(D.cpu(), pad_value=100.0)\n",
    "print(D_.shape)\n",
    "D_"
   ]
  },
  {
   "cell_type": "code",
   "execution_count": 297,
   "metadata": {},
   "outputs": [
    {
     "name": "stdout",
     "output_type": "stream",
     "text": [
      "torch.Size([6242, 6242])\n"
     ]
    },
    {
     "data": {
      "text/plain": [
       "tensor([[0., 0., 0.,  ..., 0., 0., 0.],\n",
       "        [0., 0., 0.,  ..., 0., 0., 0.],\n",
       "        [0., 0., 0.,  ..., 0., 0., 0.],\n",
       "        ...,\n",
       "        [0., 0., 0.,  ..., 0., 0., 0.],\n",
       "        [0., 0., 0.,  ..., 0., 0., 0.],\n",
       "        [0., 0., 0.,  ..., 0., 0., 0.]], dtype=torch.float64)"
      ]
     },
     "execution_count": 297,
     "metadata": {},
     "output_type": "execute_result"
    }
   ],
   "source": [
    "X = get_match(torch.tensor(D_), device)\n",
    "print(X.shape)\n",
    "X"
   ]
  },
  {
   "cell_type": "code",
   "execution_count": 298,
   "metadata": {},
   "outputs": [
    {
     "name": "stdout",
     "output_type": "stream",
     "text": [
      "(6242, 2)\n"
     ]
    },
    {
     "data": {
      "text/plain": [
       "array([[5788,    0],\n",
       "       [5948,    1],\n",
       "       [5249,    2],\n",
       "       ...,\n",
       "       [4548, 6239],\n",
       "       [1885, 6240],\n",
       "       [3144, 6241]])"
      ]
     },
     "execution_count": 298,
     "metadata": {},
     "output_type": "execute_result"
    }
   ],
   "source": [
    "option5 = matrix_to_edge(X)\n",
    "option5"
   ]
  },
  {
   "cell_type": "code",
   "execution_count": 299,
   "metadata": {},
   "outputs": [
    {
     "data": {
      "text/plain": [
       "array([[   0, 5788],\n",
       "       [   1, 5948],\n",
       "       [   2, 5249],\n",
       "       ...,\n",
       "       [6239, 4548],\n",
       "       [6240, 1885],\n",
       "       [6241, 3144]])"
      ]
     },
     "execution_count": 299,
     "metadata": {},
     "output_type": "execute_result"
    }
   ],
   "source": [
    "option5_ = option5[:, [1, 0]]\n",
    "option5_"
   ]
  },
  {
   "cell_type": "code",
   "execution_count": 300,
   "metadata": {},
   "outputs": [
    {
     "data": {
      "text/plain": [
       "' matching = test_match(truth, option5_) # ACM_DBLP (option5_)\\nprint(len(matching))\\nprint(len(matching) / len(truth))\\nmatching '"
      ]
     },
     "execution_count": 300,
     "metadata": {},
     "output_type": "execute_result"
    }
   ],
   "source": [
    "\"\"\" matching = test_match(truth, option5_) # ACM_DBLP (option5_)\n",
    "print(len(matching))\n",
    "print(len(matching) / len(truth))\n",
    "matching \"\"\""
   ]
  },
  {
   "cell_type": "code",
   "execution_count": 301,
   "metadata": {},
   "outputs": [
    {
     "data": {
      "text/plain": [
       "[4145]"
      ]
     },
     "execution_count": 301,
     "metadata": {},
     "output_type": "execute_result"
    }
   ],
   "source": [
    "df_match = match_nodes(option5, map1, map2)\n",
    "df_match"
   ]
  },
  {
   "cell_type": "code",
   "execution_count": 302,
   "metadata": {},
   "outputs": [
    {
     "data": {
      "text/plain": [
       "' G1 = build_graph(adj_norm_1)\\nG2 = build_graph(adj_norm_2)\\nplot_match(G1, G2, matching) '"
      ]
     },
     "execution_count": 302,
     "metadata": {},
     "output_type": "execute_result"
    }
   ],
   "source": [
    "\"\"\" G1 = build_graph(adj_norm_1)\n",
    "G2 = build_graph(adj_norm_2)\n",
    "plot_match(G1, G2, matching) \"\"\""
   ]
  },
  {
   "cell_type": "markdown",
   "metadata": {},
   "source": [
    "---"
   ]
  },
  {
   "cell_type": "code",
   "execution_count": 303,
   "metadata": {},
   "outputs": [
    {
     "name": "stdout",
     "output_type": "stream",
     "text": [
      "tensor([[0., 0.],\n",
      "        [0., 1.],\n",
      "        [0., 2.]])\n",
      "tensor([[0., 1.],\n",
      "        [1., 1.]])\n"
     ]
    },
    {
     "data": {
      "text/plain": [
       "tensor([[1.0000, 1.4142],\n",
       "        [0.0000, 1.0000],\n",
       "        [1.0000, 1.4142]])"
      ]
     },
     "execution_count": 303,
     "metadata": {},
     "output_type": "execute_result"
    }
   ],
   "source": [
    "a = torch.tensor([[0.0,  0.0], [0.0, 1.0], [0.0,  2.0]])\n",
    "print(a)\n",
    "b = torch.tensor([[0.0, 1.0 ], [1.0,  1.0]])\n",
    "print(b)\n",
    "torch.cdist(a, b, p=2)"
   ]
  },
  {
   "cell_type": "code",
   "execution_count": 304,
   "metadata": {},
   "outputs": [
    {
     "name": "stdout",
     "output_type": "stream",
     "text": [
      "tensor([[4.0100, 3.0000, 2.0000, 0.1000, 4.0000]])\n"
     ]
    },
    {
     "data": {
      "text/plain": [
       "tensor([[3, 2, 1, 4, 0]])"
      ]
     },
     "execution_count": 304,
     "metadata": {},
     "output_type": "execute_result"
    }
   ],
   "source": [
    "a = torch.tensor([[4.01, 3.0, 2.0, 0.1, 4.0]])\n",
    "print(a)\n",
    "torch.argsort(a, dim=1)"
   ]
  },
  {
   "cell_type": "code",
   "execution_count": 305,
   "metadata": {},
   "outputs": [
    {
     "data": {
      "text/plain": [
       "array([[9, 2, 3],\n",
       "       [7, 0, 5],\n",
       "       [4, 5, 6]])"
      ]
     },
     "execution_count": 305,
     "metadata": {},
     "output_type": "execute_result"
    }
   ],
   "source": [
    "a = np.array([[9, 2, 3],\n",
    "\t\t\t  [4, 5, 6],\n",
    "\t\t\t  [7, 0, 5]])\n",
    "\n",
    "a[a[:, 2].argsort()]"
   ]
  },
  {
   "cell_type": "code",
   "execution_count": 306,
   "metadata": {},
   "outputs": [
    {
     "name": "stdout",
     "output_type": "stream",
     "text": [
      "tensor([[ 0.4548, -1.0062,  0.5188,  0.3027],\n",
      "        [-0.6604,  0.4135, -1.6810,  1.2078],\n",
      "        [ 0.0692,  0.1376,  1.1396,  0.5799],\n",
      "        [ 1.7649,  0.6876, -0.4978,  1.2050]])\n"
     ]
    },
    {
     "data": {
      "text/plain": [
       "tensor(6)"
      ]
     },
     "execution_count": 306,
     "metadata": {},
     "output_type": "execute_result"
    }
   ],
   "source": [
    "a = torch.randn(4, 4)\n",
    "print(a)\n",
    "\n",
    "torch.argmin(a)\n"
   ]
  }
 ],
 "metadata": {
  "kernelspec": {
   "display_name": "graph_alignment",
   "language": "python",
   "name": "python3"
  },
  "language_info": {
   "codemirror_mode": {
    "name": "ipython",
    "version": 3
   },
   "file_extension": ".py",
   "mimetype": "text/x-python",
   "name": "python",
   "nbconvert_exporter": "python",
   "pygments_lexer": "ipython3",
   "version": "3.10.14"
  }
 },
 "nbformat": 4,
 "nbformat_minor": 2
}
