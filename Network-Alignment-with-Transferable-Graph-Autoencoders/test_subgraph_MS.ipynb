{
 "cells": [
  {
   "cell_type": "code",
   "execution_count": 6,
   "metadata": {},
   "outputs": [],
   "source": [
    "from graphMatching import *\n",
    "from networkx import read_edgelist\n",
    "from scipy.io import loadmat\n",
    "from model import *\n",
    "from utils import *\n",
    "\n",
    "import pandas as pd"
   ]
  },
  {
   "cell_type": "code",
   "execution_count": 7,
   "metadata": {},
   "outputs": [
    {
     "data": {
      "text/html": [
       "<div>\n",
       "<style scoped>\n",
       "    .dataframe tbody tr th:only-of-type {\n",
       "        vertical-align: middle;\n",
       "    }\n",
       "\n",
       "    .dataframe tbody tr th {\n",
       "        vertical-align: top;\n",
       "    }\n",
       "\n",
       "    .dataframe thead th {\n",
       "        text-align: right;\n",
       "    }\n",
       "</style>\n",
       "<table border=\"1\" class=\"dataframe\">\n",
       "  <thead>\n",
       "    <tr style=\"text-align: right;\">\n",
       "      <th></th>\n",
       "      <th>idx</th>\n",
       "      <th>id</th>\n",
       "      <th>0</th>\n",
       "      <th>1</th>\n",
       "      <th>2</th>\n",
       "    </tr>\n",
       "  </thead>\n",
       "  <tbody>\n",
       "    <tr>\n",
       "      <th>0</th>\n",
       "      <td>0</td>\n",
       "      <td>4</td>\n",
       "      <td>-5.036212</td>\n",
       "      <td>-4.036212</td>\n",
       "      <td>-5.036212</td>\n",
       "    </tr>\n",
       "    <tr>\n",
       "      <th>1</th>\n",
       "      <td>1</td>\n",
       "      <td>33</td>\n",
       "      <td>4.393324</td>\n",
       "      <td>4.320525</td>\n",
       "      <td>5.374856</td>\n",
       "    </tr>\n",
       "    <tr>\n",
       "      <th>2</th>\n",
       "      <td>2</td>\n",
       "      <td>40</td>\n",
       "      <td>4.783502</td>\n",
       "      <td>4.564263</td>\n",
       "      <td>4.901967</td>\n",
       "    </tr>\n",
       "    <tr>\n",
       "      <th>3</th>\n",
       "      <td>3</td>\n",
       "      <td>50</td>\n",
       "      <td>4.137408</td>\n",
       "      <td>4.552624</td>\n",
       "      <td>4.098589</td>\n",
       "    </tr>\n",
       "    <tr>\n",
       "      <th>4</th>\n",
       "      <td>4</td>\n",
       "      <td>61</td>\n",
       "      <td>3.338557</td>\n",
       "      <td>3.296510</td>\n",
       "      <td>3.156526</td>\n",
       "    </tr>\n",
       "    <tr>\n",
       "      <th>...</th>\n",
       "      <td>...</td>\n",
       "      <td>...</td>\n",
       "      <td>...</td>\n",
       "      <td>...</td>\n",
       "      <td>...</td>\n",
       "    </tr>\n",
       "    <tr>\n",
       "      <th>1774</th>\n",
       "      <td>1774</td>\n",
       "      <td>2277</td>\n",
       "      <td>5.526112</td>\n",
       "      <td>5.385147</td>\n",
       "      <td>5.351916</td>\n",
       "    </tr>\n",
       "    <tr>\n",
       "      <th>1775</th>\n",
       "      <td>1775</td>\n",
       "      <td>2301</td>\n",
       "      <td>4.147657</td>\n",
       "      <td>4.617270</td>\n",
       "      <td>4.561308</td>\n",
       "    </tr>\n",
       "    <tr>\n",
       "      <th>1776</th>\n",
       "      <td>1776</td>\n",
       "      <td>2304</td>\n",
       "      <td>4.909301</td>\n",
       "      <td>5.034440</td>\n",
       "      <td>4.997961</td>\n",
       "    </tr>\n",
       "    <tr>\n",
       "      <th>1777</th>\n",
       "      <td>1777</td>\n",
       "      <td>2305</td>\n",
       "      <td>4.770953</td>\n",
       "      <td>5.085971</td>\n",
       "      <td>5.154957</td>\n",
       "    </tr>\n",
       "    <tr>\n",
       "      <th>1778</th>\n",
       "      <td>1778</td>\n",
       "      <td>2306</td>\n",
       "      <td>3.684160</td>\n",
       "      <td>3.959536</td>\n",
       "      <td>4.397807</td>\n",
       "    </tr>\n",
       "  </tbody>\n",
       "</table>\n",
       "<p>1779 rows × 5 columns</p>\n",
       "</div>"
      ],
      "text/plain": [
       "       idx    id         0         1         2\n",
       "0        0     4 -5.036212 -4.036212 -5.036212\n",
       "1        1    33  4.393324  4.320525  5.374856\n",
       "2        2    40  4.783502  4.564263  4.901967\n",
       "3        3    50  4.137408  4.552624  4.098589\n",
       "4        4    61  3.338557  3.296510  3.156526\n",
       "...    ...   ...       ...       ...       ...\n",
       "1774  1774  2277  5.526112  5.385147  5.351916\n",
       "1775  1775  2301  4.147657  4.617270  4.561308\n",
       "1776  1776  2304  4.909301  5.034440  4.997961\n",
       "1777  1777  2305  4.770953  5.085971  5.154957\n",
       "1778  1778  2306  3.684160  3.959536  4.397807\n",
       "\n",
       "[1779 rows x 5 columns]"
      ]
     },
     "execution_count": 7,
     "metadata": {},
     "output_type": "execute_result"
    }
   ],
   "source": [
    "# read MS data\n",
    "df_nodes_orange1 = pd.read_csv(\"graphs_data/nodes_Orange_1.csv\")\n",
    "df_nodes_orange1"
   ]
  },
  {
   "cell_type": "code",
   "execution_count": 8,
   "metadata": {},
   "outputs": [
    {
     "data": {
      "text/html": [
       "<div>\n",
       "<style scoped>\n",
       "    .dataframe tbody tr th:only-of-type {\n",
       "        vertical-align: middle;\n",
       "    }\n",
       "\n",
       "    .dataframe tbody tr th {\n",
       "        vertical-align: top;\n",
       "    }\n",
       "\n",
       "    .dataframe thead th {\n",
       "        text-align: right;\n",
       "    }\n",
       "</style>\n",
       "<table border=\"1\" class=\"dataframe\">\n",
       "  <thead>\n",
       "    <tr style=\"text-align: right;\">\n",
       "      <th></th>\n",
       "      <th>source</th>\n",
       "      <th>target</th>\n",
       "      <th>weight</th>\n",
       "      <th>subgroup</th>\n",
       "    </tr>\n",
       "  </thead>\n",
       "  <tbody>\n",
       "    <tr>\n",
       "      <th>0</th>\n",
       "      <td>0</td>\n",
       "      <td>1</td>\n",
       "      <td>0.675432</td>\n",
       "      <td>1</td>\n",
       "    </tr>\n",
       "    <tr>\n",
       "      <th>1</th>\n",
       "      <td>0</td>\n",
       "      <td>2</td>\n",
       "      <td>0.932253</td>\n",
       "      <td>1</td>\n",
       "    </tr>\n",
       "    <tr>\n",
       "      <th>2</th>\n",
       "      <td>0</td>\n",
       "      <td>3</td>\n",
       "      <td>-0.995776</td>\n",
       "      <td>1</td>\n",
       "    </tr>\n",
       "    <tr>\n",
       "      <th>3</th>\n",
       "      <td>0</td>\n",
       "      <td>4</td>\n",
       "      <td>-0.533443</td>\n",
       "      <td>1</td>\n",
       "    </tr>\n",
       "    <tr>\n",
       "      <th>4</th>\n",
       "      <td>0</td>\n",
       "      <td>5</td>\n",
       "      <td>-0.643461</td>\n",
       "      <td>1</td>\n",
       "    </tr>\n",
       "    <tr>\n",
       "      <th>...</th>\n",
       "      <td>...</td>\n",
       "      <td>...</td>\n",
       "      <td>...</td>\n",
       "      <td>...</td>\n",
       "    </tr>\n",
       "    <tr>\n",
       "      <th>1098764</th>\n",
       "      <td>1775</td>\n",
       "      <td>1777</td>\n",
       "      <td>-0.957947</td>\n",
       "      <td>1</td>\n",
       "    </tr>\n",
       "    <tr>\n",
       "      <th>1098765</th>\n",
       "      <td>1775</td>\n",
       "      <td>1778</td>\n",
       "      <td>-0.787670</td>\n",
       "      <td>1</td>\n",
       "    </tr>\n",
       "    <tr>\n",
       "      <th>1098766</th>\n",
       "      <td>1776</td>\n",
       "      <td>1777</td>\n",
       "      <td>-0.867200</td>\n",
       "      <td>1</td>\n",
       "    </tr>\n",
       "    <tr>\n",
       "      <th>1098767</th>\n",
       "      <td>1776</td>\n",
       "      <td>1778</td>\n",
       "      <td>-0.626310</td>\n",
       "      <td>1</td>\n",
       "    </tr>\n",
       "    <tr>\n",
       "      <th>1098768</th>\n",
       "      <td>1777</td>\n",
       "      <td>1778</td>\n",
       "      <td>-0.931332</td>\n",
       "      <td>1</td>\n",
       "    </tr>\n",
       "  </tbody>\n",
       "</table>\n",
       "<p>1098769 rows × 4 columns</p>\n",
       "</div>"
      ],
      "text/plain": [
       "         source  target    weight  subgroup\n",
       "0             0       1  0.675432         1\n",
       "1             0       2  0.932253         1\n",
       "2             0       3 -0.995776         1\n",
       "3             0       4 -0.533443         1\n",
       "4             0       5 -0.643461         1\n",
       "...         ...     ...       ...       ...\n",
       "1098764    1775    1777 -0.957947         1\n",
       "1098765    1775    1778 -0.787670         1\n",
       "1098766    1776    1777 -0.867200         1\n",
       "1098767    1776    1778 -0.626310         1\n",
       "1098768    1777    1778 -0.931332         1\n",
       "\n",
       "[1098769 rows x 4 columns]"
      ]
     },
     "execution_count": 8,
     "metadata": {},
     "output_type": "execute_result"
    }
   ],
   "source": [
    "df_edges_orange1 = pd.read_csv(\"graphs_data/edges_Orange_1.csv\")\n",
    "df_edges_orange1"
   ]
  },
  {
   "cell_type": "code",
   "execution_count": 9,
   "metadata": {},
   "outputs": [],
   "source": [
    "data = \"Mentos\" # args.dataset\n",
    "\n",
    "device = torch.device('cuda:0' if torch.cuda.is_available() else \"cpu\")\n",
    "train_features = {}\n",
    "if (data == \"ACM_DBLP\"):\n",
    "    train_set = [\"ACM\", \"DBLP\"]\n",
    "    input_dim = 17\n",
    "    b = np.load('data/ACM-DBLP.npz')\n",
    "    train_features[\"ACM\"] = [torch.from_numpy(b[\"x1\"]).float()]\n",
    "    train_features[\"DBLP\"] = [torch.from_numpy(b[\"x2\"]).float()]\n",
    "    test_pairs = b['test_pairs'].astype(np.int32)\n",
    "    \n",
    "    NUM_HIDDEN_LAYERS = 12\n",
    "    HIDDEN_DIM = 1024\n",
    "    output_feature_size = 1024\n",
    "    lr = 0.0001\n",
    "    epoch = 100\n",
    "elif (data == \"Douban Online_Offline\"):\n",
    "    a1, f1, a2, f2, test_pairs = load_douban()\n",
    "    f1 = f1.A\n",
    "    f2 = f2.A\n",
    "    train_set = [\"Online\", \"Offline\"]\n",
    "    input_dim = 538\n",
    "    test_pairs = torch.tensor(np.array(test_pairs, dtype=int)) - 1\n",
    "    test_pairs = test_pairs.numpy()\n",
    "    train_features[\"Online\"] = [torch.from_numpy(f1).float()]\n",
    "    train_features[\"Offline\"] = [torch.from_numpy(f2).float()]\n",
    "    \n",
    "    NUM_HIDDEN_LAYERS = 6\n",
    "    HIDDEN_DIM = 512\n",
    "    output_feature_size = 512\n",
    "    lr = 0.0001\n",
    "    epoch = 100\n",
    "elif (data == \"Mentos\"):\n",
    "    train_set = [\"Yellow_1\", \"Yellow_2\"] # change\n",
    "    input_dim = 3\n",
    "    \n",
    "    df_nodes_orange1 = pd.read_csv(\"graphs_data/nodes_{}.csv\".format(train_set[0]))\n",
    "    df_nodes_orange2 = pd.read_csv(\"graphs_data/nodes_{}.csv\".format(train_set[1]))\n",
    "    \n",
    "    train_features[train_set[0]] = [torch.from_numpy(df_nodes_orange1.iloc[:, 2:].values).float()]\n",
    "    train_features[train_set[1]] = [torch.from_numpy(df_nodes_orange2.iloc[:, 2:].values).float()]\n",
    "    \n",
    "    NUM_HIDDEN_LAYERS = 12\n",
    "    HIDDEN_DIM = 1024\n",
    "    output_feature_size = 1024\n",
    "    lr = 0.0001\n",
    "    epoch = 100\n"
   ]
  },
  {
   "cell_type": "code",
   "execution_count": 10,
   "metadata": {},
   "outputs": [
    {
     "data": {
      "text/plain": [
       "{'Yellow_1': [tensor([[-5.0362,  4.3302, -5.0362],\n",
       "          [ 5.1196,  4.9789,  5.7292],\n",
       "          [ 3.4125,  4.0691,  3.8856],\n",
       "          ...,\n",
       "          [ 5.3182,  5.2090,  5.1727],\n",
       "          [ 3.7634,  2.9065,  2.7108],\n",
       "          [ 4.7669,  4.4975,  4.4055]])],\n",
       " 'Yellow_2': [tensor([[ 0.4461, -5.0362,  2.3656],\n",
       "          [ 4.7068,  5.2440,  5.1232],\n",
       "          [ 5.1053,  5.0844,  4.3889],\n",
       "          ...,\n",
       "          [ 5.1388,  5.2630,  5.5164],\n",
       "          [ 5.0694,  5.0426,  4.9892],\n",
       "          [ 4.9751,  5.0408,  5.1473]])]}"
      ]
     },
     "execution_count": 10,
     "metadata": {},
     "output_type": "execute_result"
    }
   ],
   "source": [
    "train_features"
   ]
  },
  {
   "cell_type": "code",
   "execution_count": null,
   "metadata": {},
   "outputs": [],
   "source": [
    "\"\"\" temp = torch.from_numpy(b[\"x1\"]).float() # G1, features\n",
    "print(temp.shape)\n",
    "temp \"\"\""
   ]
  },
  {
   "cell_type": "code",
   "execution_count": null,
   "metadata": {},
   "outputs": [],
   "source": [
    "\"\"\" temp = torch.from_numpy(b[\"x2\"]).float() # G2, features\n",
    "print(temp.shape)\n",
    "temp \"\"\""
   ]
  },
  {
   "cell_type": "code",
   "execution_count": null,
   "metadata": {},
   "outputs": [],
   "source": [
    "\"\"\" temp = b[\"test_pairs\"]\n",
    "print(temp.shape)\n",
    "temp \"\"\""
   ]
  },
  {
   "cell_type": "code",
   "execution_count": 11,
   "metadata": {},
   "outputs": [],
   "source": [
    "try:\n",
    "    test_pairs\n",
    "except:\n",
    "    pass"
   ]
  },
  {
   "cell_type": "code",
   "execution_count": 12,
   "metadata": {},
   "outputs": [
    {
     "data": {
      "text/plain": [
       "['Yellow_1', 'Yellow_2']"
      ]
     },
     "execution_count": 12,
     "metadata": {},
     "output_type": "execute_result"
    }
   ],
   "source": [
    "train_set"
   ]
  },
  {
   "cell_type": "code",
   "execution_count": 13,
   "metadata": {},
   "outputs": [
    {
     "name": "stdout",
     "output_type": "stream",
     "text": [
      "Loading training datasets\n"
     ]
    },
    {
     "data": {
      "text/plain": [
       "{'Yellow_1': [tensor([[0., 1., 1.,  ..., 0., 0., 0.],\n",
       "          [1., 0., 0.,  ..., 0., 0., 0.],\n",
       "          [1., 0., 0.,  ..., 1., 1., 1.],\n",
       "          ...,\n",
       "          [0., 0., 1.,  ..., 0., 1., 1.],\n",
       "          [0., 0., 1.,  ..., 1., 0., 1.],\n",
       "          [0., 0., 1.,  ..., 1., 1., 0.]])],\n",
       " 'Yellow_2': [tensor([[0., 1., 1.,  ..., 0., 0., 0.],\n",
       "          [1., 0., 0.,  ..., 0., 0., 0.],\n",
       "          [1., 0., 0.,  ..., 1., 1., 1.],\n",
       "          ...,\n",
       "          [0., 0., 1.,  ..., 0., 1., 1.],\n",
       "          [0., 0., 1.,  ..., 1., 0., 1.],\n",
       "          [0., 0., 1.,  ..., 1., 1., 0.]])]}"
      ]
     },
     "execution_count": 13,
     "metadata": {},
     "output_type": "execute_result"
    }
   ],
   "source": [
    "# for Mentos\n",
    "encoder = \"GIN\"\n",
    "use_input_augmentation = True\n",
    "use_output_augmentation = False\n",
    "print(\"Loading training datasets\")\n",
    "train_loader = {}\n",
    "for dataset in train_set:\n",
    "    df_edges_orange = pd.read_csv(\"graphs_data/edges_{}.csv\".format(dataset))\n",
    "    edges = df_edges_orange.iloc[:, [0, 1]].values\n",
    "    \n",
    "    n = train_features[dataset][0].shape[0]\n",
    "    matrix = torch.zeros(n, n)\n",
    "\n",
    "    for item in edges:\n",
    "        matrix[item[0]][item[1]] = 1\n",
    "        matrix[item[1]][item[0]] = 1\n",
    "\n",
    "    train_loader[dataset] = [matrix]\n",
    "\n",
    "train_loader"
   ]
  },
  {
   "cell_type": "code",
   "execution_count": 14,
   "metadata": {},
   "outputs": [
    {
     "data": {
      "image/png": "[encoded data removed]",
      "text/plain": [
       "<Figure size 640x480 with 1 Axes>"
      ]
     },
     "metadata": {},
     "output_type": "display_data"
    }
   ],
   "source": [
    "# test heatmap\n",
    "import matplotlib.pyplot as plt \n",
    "\n",
    "data = np.random.random(( 12 , 12 )) \n",
    "plt.imshow(train_loader[train_set[0]][0].cpu().numpy(), cmap=\"Blues\", interpolation=\"none\")\n",
    "plt.show()"
   ]
  },
  {
   "cell_type": "code",
   "execution_count": null,
   "metadata": {},
   "outputs": [],
   "source": [
    "\"\"\" temp = train_loader[\"ACM\"][0]\n",
    "print(temp.shape)\n",
    "temp \"\"\""
   ]
  },
  {
   "cell_type": "code",
   "execution_count": null,
   "metadata": {},
   "outputs": [],
   "source": [
    "\"\"\" temp = train_loader[\"DBLP\"][0]\n",
    "print(temp.shape)\n",
    "temp \"\"\""
   ]
  },
  {
   "cell_type": "code",
   "execution_count": 15,
   "metadata": {},
   "outputs": [
    {
     "data": {
      "text/plain": [
       "GAE(\n",
       "  (base_gcn): GIN(\n",
       "    (in_proj): Linear(in_features=3, out_features=1024, bias=True)\n",
       "    (convs): ModuleList(\n",
       "      (0-13): 14 x GINConv(\n",
       "        (linear): Linear(in_features=1027, out_features=1024, bias=True)\n",
       "      )\n",
       "    )\n",
       "    (out_proj): Linear(in_features=15360, out_features=1024, bias=True)\n",
       "  )\n",
       ")"
      ]
     },
     "execution_count": 15,
     "metadata": {},
     "output_type": "execute_result"
    }
   ],
   "source": [
    "model = GAE(NUM_HIDDEN_LAYERS,\n",
    "            input_dim,\n",
    "            HIDDEN_DIM,\n",
    "            output_feature_size, activation=F.relu,\n",
    "            use_input_augmentation=use_input_augmentation,\n",
    "            use_output_augmentation=use_output_augmentation,\n",
    "            encoder=encoder).to(device)\n",
    "model"
   ]
  },
  {
   "cell_type": "code",
   "execution_count": null,
   "metadata": {},
   "outputs": [],
   "source": [
    "print(\"Generating training features\")\n"
   ]
  },
  {
   "cell_type": "code",
   "execution_count": 17,
   "metadata": {},
   "outputs": [
    {
     "name": "stdout",
     "output_type": "stream",
     "text": [
      "Fitting model\n"
     ]
    },
    {
     "name": "stderr",
     "output_type": "stream",
     "text": [
      "100%|██████████| 100/100 [02:55<00:00,  1.76s/it]\n"
     ]
    }
   ],
   "source": [
    "print(\"Fitting model\")\n",
    "# fit_GAE_real(data, len(train_set) * (1 + 1), model, epoch, train_loader, train_features, device, lr,test_pairs)\n",
    "# fit_GAE_real(data, no_samples, GAE, epoch, train_loader, train_features, device, lr, test_pairs):\n",
    "\n",
    "no_samples = len(train_set) * (1 + 1)\n",
    "GAE = model\n",
    "# ---\n",
    "\n",
    "best_hitAtOne = 0\n",
    "best_hitAtFive = 0\n",
    "best_hitAtTen = 0\n",
    "best_hitAtFifty = 0\n",
    "optimizer = Adam(GAE.parameters(), lr=lr, weight_decay=5e-4)\n",
    "\n",
    "for step in tqdm(range(epoch)):\n",
    "    loss = 0\n",
    "    \n",
    "    for dataset in train_loader.keys():\n",
    "        S = train_loader[dataset][0]\n",
    "        initial_features = train_features[dataset]\n",
    "        \n",
    "        for i in range(len(train_loader[dataset])):\n",
    "            adj_tensor = train_loader[dataset][i]\n",
    "            adj = coo_matrix(adj_tensor.numpy())\n",
    "            adj_norm = preprocess_graph(adj)\n",
    "            pos_weight = float(adj.shape[0] * adj.shape[0] - adj.sum()) / adj.sum()\n",
    "            norm = adj.shape[0] * adj.shape[0] / float((adj.shape[0] * adj.shape[0] - adj.sum()) * 2)\n",
    "\n",
    "            adj_label = coo_matrix(S.numpy())\n",
    "            adj_label = sparse_to_tuple(adj_label)\n",
    "\n",
    "            adj_norm = torch.sparse.FloatTensor(torch.LongTensor(adj_norm[0].T),\n",
    "                                                torch.FloatTensor(adj_norm[1]),\n",
    "                                                torch.Size(adj_norm[2])).to(device)\n",
    "            adj_label = torch.sparse.FloatTensor(torch.LongTensor(adj_label[0].T),\n",
    "                                                torch.FloatTensor(adj_label[1]),\n",
    "                                                torch.Size(adj_label[2])).to(device)\n",
    "\n",
    "            initial_feature = initial_features[i].to(device)\n",
    "\n",
    "            weight_mask = adj_label.to_dense().view(-1) == 1\n",
    "            weight_tensor = torch.ones(weight_mask.size(0))\n",
    "            weight_tensor[weight_mask] = pos_weight\n",
    "            weight_tensor = weight_tensor.to(device)\n",
    "            z = GAE(initial_feature, adj_norm)\n",
    "            A_pred = torch.sigmoid(torch.matmul(z,z.t()))\n",
    "            loss += norm * F.binary_cross_entropy(A_pred.view(-1), adj_label.to_dense().view(-1),\n",
    "                                                        weight=weight_tensor)\n",
    "    \n",
    "    optimizer.zero_grad()\n",
    "    loss = loss / no_samples\n",
    "    loss.backward()\n",
    "    optimizer.step()\n",
    "\n",
    "    # ---\n",
    "    keys = list(train_loader.keys())\n",
    "    S1 = train_loader[keys[0]][0]\n",
    "    S2 = train_loader[keys[1]][0]\n",
    "    \n",
    "    adj_S1 = coo_matrix(S1.numpy())\n",
    "    adj_norm_1 = preprocess_graph(adj_S1)\n",
    "    adj_norm_1 = torch.sparse.FloatTensor(torch.LongTensor(adj_norm_1[0].T),\n",
    "                                            torch.FloatTensor(adj_norm_1[1]),\n",
    "                                            torch.Size(adj_norm_1[2])).to(device)\n",
    "    adj_S2 = coo_matrix(S2.numpy())\n",
    "    adj_norm_2 = preprocess_graph(adj_S2)\n",
    "    adj_norm_2 = torch.sparse.FloatTensor(torch.LongTensor(adj_norm_2[0].T),\n",
    "                                            torch.FloatTensor(adj_norm_2[1]),\n",
    "                                            torch.Size(adj_norm_2[2])).to(device)\n",
    "    \"\"\" if (data == \"ACM_DBLP\"):\n",
    "        S1_feat = train_features[\"ACM\"][0]\n",
    "        S2_feat = train_features[\"DBLP\"][0]\n",
    "    elif (data == \"Douban Online_Offline\"):\n",
    "        S1_feat = train_features[\"Online\"][0]\n",
    "        S2_feat = train_features[\"Offline\"][0] \"\"\"\n",
    "    \n",
    "    S1_feat = train_features[list(train_features.keys())[0]][0]\n",
    "    S2_feat = train_features[list(train_features.keys())[1]][0]\n",
    "        \n",
    "\n",
    "    # ---\n",
    "    S1_emb = GAE(S1_feat.to(device), adj_norm_1).detach()\n",
    "    S2_emb = GAE(S2_feat.to(device), adj_norm_2).detach()\n",
    "\n",
    "    D = torch.cdist(S1_emb, S2_emb, 2) # Euclidean distance\n",
    "    \n",
    "    \"\"\" if (data == \"ACM_DBLP\"):\n",
    "        test_idx = test_pairs[:, 0].astype(np.int32)\n",
    "        labels = test_pairs[:, 1].astype(np.int32)\n",
    "    elif (data == \"Douban Online_Offline\"):\n",
    "        test_idx = test_pairs[0, :].astype(np.int32)\n",
    "        labels = test_pairs[1, :].astype(np.int32)\n",
    "    \n",
    "    hitAtOne = 0\n",
    "    hitAtFive = 0\n",
    "    hitAtTen = 0\n",
    "    hitAtFifty = 0\n",
    "    hitAtHundred = 0\n",
    "    \n",
    "    # test\n",
    "    \n",
    "    for i in range(len(test_idx)): # here\n",
    "        dist_list = D[test_idx[i]]\n",
    "        # print(i, test_idx[i], dist_list)\n",
    "        sorted_neighbors = torch.argsort(dist_list).cpu()\n",
    "        label = labels[i]\n",
    "        \n",
    "        \"\" \" if i == 0:\n",
    "            print(label, sorted_neighbors[0].item(), sorted_neighbors)\n",
    "            # 6829 6829 tensor([6829, 3102,  601,  ..., 7878, 9701, 2044]) \"\" \"\n",
    "        \n",
    "        for j in range(100):\n",
    "            if (sorted_neighbors[j].item() == label):\n",
    "                if (j == 0):\n",
    "                    hitAtOne += 1\n",
    "                    hitAtFive += 1\n",
    "                    hitAtTen += 1\n",
    "                    hitAtFifty += 1\n",
    "                    hitAtHundred += 1\n",
    "                    break\n",
    "                elif (j <= 4):\n",
    "                    hitAtFive += 1\n",
    "                    hitAtTen += 1\n",
    "                    hitAtFifty += 1\n",
    "                    hitAtHundred += 1\n",
    "                    break\n",
    "                elif (j <= 9):\n",
    "                    hitAtTen += 1\n",
    "                    hitAtFifty += 1\n",
    "                    hitAtHundred += 1\n",
    "                    break\n",
    "                elif (j <= 49):\n",
    "                    hitAtFifty += 1\n",
    "                    hitAtHundred += 1\n",
    "                    break\n",
    "                elif (j <= 100):\n",
    "                    hitAtHundred += 1\n",
    "                    break\n",
    "    \n",
    "    cur_hitAtOne = hitAtOne / len(test_idx)\n",
    "    cur_hitAtFive = hitAtFive / len(test_idx)\n",
    "    cur_hitAtTen = hitAtTen / len(test_idx)\n",
    "    cur_hitAtFifty = hitAtFifty / len(test_idx)\n",
    "\n",
    "    if(cur_hitAtOne > best_hitAtOne): best_hitAtOne = cur_hitAtOne\n",
    "    if (cur_hitAtFive > best_hitAtFive): best_hitAtFive = cur_hitAtFive\n",
    "    if (cur_hitAtTen > best_hitAtTen): best_hitAtTen = cur_hitAtTen\n",
    "    if (cur_hitAtFifty > best_hitAtFifty): best_hitAtFifty = cur_hitAtFifty \"\"\""
   ]
  },
  {
   "cell_type": "code",
   "execution_count": null,
   "metadata": {},
   "outputs": [],
   "source": [
    "print(\"The best results achieved:\")\n",
    "print(\"Hit@1: \", end=\"\")\n",
    "print(best_hitAtOne)\n",
    "print(\"Hit@5: \", end=\"\")\n",
    "print(best_hitAtFive)\n",
    "print(\"Hit@10: \", end=\"\")\n",
    "print(best_hitAtTen)\n",
    "print(\"Hit@50: \", end=\"\")\n",
    "print(best_hitAtFifty)"
   ]
  },
  {
   "cell_type": "code",
   "execution_count": 18,
   "metadata": {},
   "outputs": [
    {
     "data": {
      "text/plain": [
       "torch.Size([1780, 1771])"
      ]
     },
     "execution_count": 18,
     "metadata": {},
     "output_type": "execute_result"
    }
   ],
   "source": [
    "D.shape"
   ]
  },
  {
   "cell_type": "code",
   "execution_count": 19,
   "metadata": {},
   "outputs": [
    {
     "data": {
      "text/plain": [
       "tensor([[21.4153, 59.6990, 66.4143,  ..., 66.6818, 64.3076, 63.7862],\n",
       "        [47.0554,  3.4709, 18.2166,  ..., 13.1083, 12.2640, 10.9273],\n",
       "        [37.5955,  9.5990, 16.5671,  ..., 15.2285, 12.9192, 12.2398],\n",
       "        ...,\n",
       "        [50.6917,  8.6704,  7.2144,  ...,  2.1065,  1.6202,  1.2686],\n",
       "        [32.3460, 14.8757, 20.6876,  ..., 20.3103, 17.9053, 17.3968],\n",
       "        [44.8285,  6.8331,  9.7844,  ...,  7.6649,  5.3180,  4.6937]],\n",
       "       device='cuda:0')"
      ]
     },
     "execution_count": 19,
     "metadata": {},
     "output_type": "execute_result"
    }
   ],
   "source": [
    "D"
   ]
  },
  {
   "cell_type": "code",
   "execution_count": null,
   "metadata": {},
   "outputs": [],
   "source": [
    "def hungarian(D):\n",
    "    print(\"0\")\n",
    "    P = torch.zeros_like(D)\n",
    "    matrix = D.tolist()\n",
    "    m = Munkres()\n",
    "    print(\"1\")\n",
    "    indexes = m.compute(matrix)\n",
    "    print(\"2\")\n",
    "    total = 0\n",
    "    for r, c in tqdm(indexes):\n",
    "        print(r)\n",
    "        P[r][c] = 1\n",
    "        total += matrix[r][c]\n",
    "    return P.t()\n",
    "\n",
    "# hungarian(D)"
   ]
  },
  {
   "cell_type": "markdown",
   "metadata": {},
   "source": [
    "Truth"
   ]
  },
  {
   "cell_type": "code",
   "execution_count": null,
   "metadata": {},
   "outputs": [],
   "source": [
    "print(test_pairs.shape)\n",
    "print(test_pairs)"
   ]
  },
  {
   "cell_type": "code",
   "execution_count": null,
   "metadata": {},
   "outputs": [],
   "source": [
    "if (data == \"ACM_DBLP\"):\n",
    "    test_pairs_ = test_pairs\n",
    "elif (data == \"Douban Online_Offline\"):\n",
    "    test_pairs_ = test_pairs.T\n",
    "    \n",
    "truth = test_pairs_[test_pairs_[:, 1].argsort()]\n",
    "print(truth.shape)\n",
    "truth"
   ]
  },
  {
   "cell_type": "markdown",
   "metadata": {},
   "source": [
    "Option 1"
   ]
  },
  {
   "cell_type": "code",
   "execution_count": 20,
   "metadata": {},
   "outputs": [],
   "source": [
    "import numpy as np\n",
    "from scipy.optimize import linear_sum_assignment\n",
    "\n",
    "def hungarian_algorithm(cost_matrix):\n",
    "    # Use the linear_sum_assignment method from scipy\n",
    "    row_ind, col_ind = linear_sum_assignment(cost_matrix)\n",
    "    \n",
    "    # Total cost\n",
    "    total_cost = cost_matrix[row_ind, col_ind].sum()\n",
    "    \n",
    "    # The assignments are returned as (row, col) pairs\n",
    "    assignments = list(zip(row_ind, col_ind))\n",
    "    \n",
    "    return total_cost, assignments\n",
    "\n",
    "total_cost, assignments = hungarian_algorithm(D.cpu())"
   ]
  },
  {
   "cell_type": "code",
   "execution_count": 21,
   "metadata": {},
   "outputs": [
    {
     "name": "stdout",
     "output_type": "stream",
     "text": [
      "(1771, 2)\n"
     ]
    },
    {
     "data": {
      "text/plain": [
       "array([[1080,    0],\n",
       "       [1487,    1],\n",
       "       [1682,    2],\n",
       "       ...,\n",
       "       [1471, 1768],\n",
       "       [1215, 1769],\n",
       "       [1335, 1770]])"
      ]
     },
     "execution_count": 21,
     "metadata": {},
     "output_type": "execute_result"
    }
   ],
   "source": [
    "option1 = np.array(assignments)\n",
    "option1 = option1[option1[:, 1].argsort()]\n",
    "print(option1.shape)\n",
    "option1"
   ]
  },
  {
   "cell_type": "code",
   "execution_count": null,
   "metadata": {},
   "outputs": [],
   "source": [
    "def test_matching(truth, test):\n",
    "    matching = []\n",
    "    test = test.tolist()\n",
    "    truth = truth.tolist()\n",
    "\n",
    "    for item in test:\n",
    "        if item in truth:\n",
    "            matching.append(item)\n",
    "    return matching\n",
    "\n",
    "matching = test_matching(truth, option1)\n",
    "print(len(matching))\n",
    "print(len(matching) / len(truth))\n",
    "matching"
   ]
  },
  {
   "cell_type": "markdown",
   "metadata": {},
   "source": [
    "Analysis"
   ]
  },
  {
   "cell_type": "code",
   "execution_count": 22,
   "metadata": {},
   "outputs": [
    {
     "data": {
      "text/plain": [
       "['Yellow_1', 'Yellow_2']"
      ]
     },
     "execution_count": 22,
     "metadata": {},
     "output_type": "execute_result"
    }
   ],
   "source": [
    "train_set"
   ]
  },
  {
   "cell_type": "code",
   "execution_count": 23,
   "metadata": {},
   "outputs": [],
   "source": [
    "# Analysis\n",
    "\n",
    "df_nodes_orange1 = pd.read_csv(\"graphs_data/nodes_{}.csv\".format(train_set[0]))\n",
    "df_nodes_orange1\n",
    "map1 = dict(zip(df_nodes_orange1.iloc[:, 0].values, df_nodes_orange1.iloc[:, 1].values))\n",
    "map1\n",
    "\n",
    "df_nodes_orange2 = pd.read_csv(\"graphs_data/nodes_{}.csv\".format(train_set[1]))\n",
    "df_nodes_orange2\n",
    "map2 = dict(zip(df_nodes_orange2.iloc[:, 0].values, df_nodes_orange2.iloc[:, 1].values))\n",
    "# map2\n"
   ]
  },
  {
   "cell_type": "code",
   "execution_count": 24,
   "metadata": {},
   "outputs": [
    {
     "data": {
      "text/html": [
       "<div>\n",
       "<style scoped>\n",
       "    .dataframe tbody tr th:only-of-type {\n",
       "        vertical-align: middle;\n",
       "    }\n",
       "\n",
       "    .dataframe tbody tr th {\n",
       "        vertical-align: top;\n",
       "    }\n",
       "\n",
       "    .dataframe thead th {\n",
       "        text-align: right;\n",
       "    }\n",
       "</style>\n",
       "<table border=\"1\" class=\"dataframe\">\n",
       "  <thead>\n",
       "    <tr style=\"text-align: right;\">\n",
       "      <th></th>\n",
       "      <th>g1</th>\n",
       "      <th>g2</th>\n",
       "    </tr>\n",
       "  </thead>\n",
       "  <tbody>\n",
       "    <tr>\n",
       "      <th>0</th>\n",
       "      <td>1080</td>\n",
       "      <td>0</td>\n",
       "    </tr>\n",
       "    <tr>\n",
       "      <th>1</th>\n",
       "      <td>1487</td>\n",
       "      <td>1</td>\n",
       "    </tr>\n",
       "    <tr>\n",
       "      <th>2</th>\n",
       "      <td>1682</td>\n",
       "      <td>2</td>\n",
       "    </tr>\n",
       "    <tr>\n",
       "      <th>3</th>\n",
       "      <td>1719</td>\n",
       "      <td>3</td>\n",
       "    </tr>\n",
       "    <tr>\n",
       "      <th>4</th>\n",
       "      <td>593</td>\n",
       "      <td>4</td>\n",
       "    </tr>\n",
       "    <tr>\n",
       "      <th>...</th>\n",
       "      <td>...</td>\n",
       "      <td>...</td>\n",
       "    </tr>\n",
       "    <tr>\n",
       "      <th>1766</th>\n",
       "      <td>340</td>\n",
       "      <td>1766</td>\n",
       "    </tr>\n",
       "    <tr>\n",
       "      <th>1767</th>\n",
       "      <td>1765</td>\n",
       "      <td>1767</td>\n",
       "    </tr>\n",
       "    <tr>\n",
       "      <th>1768</th>\n",
       "      <td>1471</td>\n",
       "      <td>1768</td>\n",
       "    </tr>\n",
       "    <tr>\n",
       "      <th>1769</th>\n",
       "      <td>1215</td>\n",
       "      <td>1769</td>\n",
       "    </tr>\n",
       "    <tr>\n",
       "      <th>1770</th>\n",
       "      <td>1335</td>\n",
       "      <td>1770</td>\n",
       "    </tr>\n",
       "  </tbody>\n",
       "</table>\n",
       "<p>1771 rows × 2 columns</p>\n",
       "</div>"
      ],
      "text/plain": [
       "        g1    g2\n",
       "0     1080     0\n",
       "1     1487     1\n",
       "2     1682     2\n",
       "3     1719     3\n",
       "4      593     4\n",
       "...    ...   ...\n",
       "1766   340  1766\n",
       "1767  1765  1767\n",
       "1768  1471  1768\n",
       "1769  1215  1769\n",
       "1770  1335  1770\n",
       "\n",
       "[1771 rows x 2 columns]"
      ]
     },
     "execution_count": 24,
     "metadata": {},
     "output_type": "execute_result"
    }
   ],
   "source": [
    "df_match = pd.DataFrame(option1)\n",
    "df_match.columns = [\"g1\", \"g2\"]\n",
    "df_match"
   ]
  },
  {
   "cell_type": "code",
   "execution_count": 25,
   "metadata": {},
   "outputs": [
    {
     "data": {
      "text/html": [
       "<div>\n",
       "<style scoped>\n",
       "    .dataframe tbody tr th:only-of-type {\n",
       "        vertical-align: middle;\n",
       "    }\n",
       "\n",
       "    .dataframe tbody tr th {\n",
       "        vertical-align: top;\n",
       "    }\n",
       "\n",
       "    .dataframe thead th {\n",
       "        text-align: right;\n",
       "    }\n",
       "</style>\n",
       "<table border=\"1\" class=\"dataframe\">\n",
       "  <thead>\n",
       "    <tr style=\"text-align: right;\">\n",
       "      <th></th>\n",
       "      <th>idx</th>\n",
       "      <th>id</th>\n",
       "      <th>0</th>\n",
       "      <th>1</th>\n",
       "      <th>2</th>\n",
       "    </tr>\n",
       "  </thead>\n",
       "  <tbody>\n",
       "    <tr>\n",
       "      <th>0</th>\n",
       "      <td>0</td>\n",
       "      <td>4</td>\n",
       "      <td>-5.036212</td>\n",
       "      <td>4.330239</td>\n",
       "      <td>-5.036212</td>\n",
       "    </tr>\n",
       "    <tr>\n",
       "      <th>1</th>\n",
       "      <td>1</td>\n",
       "      <td>13</td>\n",
       "      <td>5.119596</td>\n",
       "      <td>4.978927</td>\n",
       "      <td>5.729183</td>\n",
       "    </tr>\n",
       "    <tr>\n",
       "      <th>2</th>\n",
       "      <td>2</td>\n",
       "      <td>28</td>\n",
       "      <td>3.412492</td>\n",
       "      <td>4.069115</td>\n",
       "      <td>3.885553</td>\n",
       "    </tr>\n",
       "    <tr>\n",
       "      <th>3</th>\n",
       "      <td>3</td>\n",
       "      <td>33</td>\n",
       "      <td>4.410005</td>\n",
       "      <td>4.581410</td>\n",
       "      <td>4.362290</td>\n",
       "    </tr>\n",
       "    <tr>\n",
       "      <th>4</th>\n",
       "      <td>4</td>\n",
       "      <td>50</td>\n",
       "      <td>4.484874</td>\n",
       "      <td>5.458105</td>\n",
       "      <td>4.475690</td>\n",
       "    </tr>\n",
       "    <tr>\n",
       "      <th>...</th>\n",
       "      <td>...</td>\n",
       "      <td>...</td>\n",
       "      <td>...</td>\n",
       "      <td>...</td>\n",
       "      <td>...</td>\n",
       "    </tr>\n",
       "    <tr>\n",
       "      <th>1775</th>\n",
       "      <td>1775</td>\n",
       "      <td>2212</td>\n",
       "      <td>6.177367</td>\n",
       "      <td>5.623698</td>\n",
       "      <td>5.581551</td>\n",
       "    </tr>\n",
       "    <tr>\n",
       "      <th>1776</th>\n",
       "      <td>1776</td>\n",
       "      <td>2216</td>\n",
       "      <td>5.084936</td>\n",
       "      <td>5.305111</td>\n",
       "      <td>5.374413</td>\n",
       "    </tr>\n",
       "    <tr>\n",
       "      <th>1777</th>\n",
       "      <td>1777</td>\n",
       "      <td>2225</td>\n",
       "      <td>5.318164</td>\n",
       "      <td>5.208979</td>\n",
       "      <td>5.172679</td>\n",
       "    </tr>\n",
       "    <tr>\n",
       "      <th>1778</th>\n",
       "      <td>1778</td>\n",
       "      <td>2261</td>\n",
       "      <td>3.763435</td>\n",
       "      <td>2.906473</td>\n",
       "      <td>2.710751</td>\n",
       "    </tr>\n",
       "    <tr>\n",
       "      <th>1779</th>\n",
       "      <td>1779</td>\n",
       "      <td>2297</td>\n",
       "      <td>4.766919</td>\n",
       "      <td>4.497536</td>\n",
       "      <td>4.405512</td>\n",
       "    </tr>\n",
       "  </tbody>\n",
       "</table>\n",
       "<p>1780 rows × 5 columns</p>\n",
       "</div>"
      ],
      "text/plain": [
       "       idx    id         0         1         2\n",
       "0        0     4 -5.036212  4.330239 -5.036212\n",
       "1        1    13  5.119596  4.978927  5.729183\n",
       "2        2    28  3.412492  4.069115  3.885553\n",
       "3        3    33  4.410005  4.581410  4.362290\n",
       "4        4    50  4.484874  5.458105  4.475690\n",
       "...    ...   ...       ...       ...       ...\n",
       "1775  1775  2212  6.177367  5.623698  5.581551\n",
       "1776  1776  2216  5.084936  5.305111  5.374413\n",
       "1777  1777  2225  5.318164  5.208979  5.172679\n",
       "1778  1778  2261  3.763435  2.906473  2.710751\n",
       "1779  1779  2297  4.766919  4.497536  4.405512\n",
       "\n",
       "[1780 rows x 5 columns]"
      ]
     },
     "execution_count": 25,
     "metadata": {},
     "output_type": "execute_result"
    }
   ],
   "source": [
    "df_nodes_orange1"
   ]
  },
  {
   "cell_type": "code",
   "execution_count": 26,
   "metadata": {},
   "outputs": [
    {
     "data": {
      "text/html": [
       "<div>\n",
       "<style scoped>\n",
       "    .dataframe tbody tr th:only-of-type {\n",
       "        vertical-align: middle;\n",
       "    }\n",
       "\n",
       "    .dataframe tbody tr th {\n",
       "        vertical-align: top;\n",
       "    }\n",
       "\n",
       "    .dataframe thead th {\n",
       "        text-align: right;\n",
       "    }\n",
       "</style>\n",
       "<table border=\"1\" class=\"dataframe\">\n",
       "  <thead>\n",
       "    <tr style=\"text-align: right;\">\n",
       "      <th></th>\n",
       "      <th>g1</th>\n",
       "      <th>g2</th>\n",
       "    </tr>\n",
       "  </thead>\n",
       "  <tbody>\n",
       "    <tr>\n",
       "      <th>0</th>\n",
       "      <td>2052</td>\n",
       "      <td>4</td>\n",
       "    </tr>\n",
       "    <tr>\n",
       "      <th>1</th>\n",
       "      <td>1677</td>\n",
       "      <td>13</td>\n",
       "    </tr>\n",
       "    <tr>\n",
       "      <th>2</th>\n",
       "      <td>1159</td>\n",
       "      <td>14</td>\n",
       "    </tr>\n",
       "    <tr>\n",
       "      <th>3</th>\n",
       "      <td>1528</td>\n",
       "      <td>24</td>\n",
       "    </tr>\n",
       "    <tr>\n",
       "      <th>4</th>\n",
       "      <td>1232</td>\n",
       "      <td>28</td>\n",
       "    </tr>\n",
       "    <tr>\n",
       "      <th>...</th>\n",
       "      <td>...</td>\n",
       "      <td>...</td>\n",
       "    </tr>\n",
       "    <tr>\n",
       "      <th>1766</th>\n",
       "      <td>835</td>\n",
       "      <td>2213</td>\n",
       "    </tr>\n",
       "    <tr>\n",
       "      <th>1767</th>\n",
       "      <td>2099</td>\n",
       "      <td>2222</td>\n",
       "    </tr>\n",
       "    <tr>\n",
       "      <th>1768</th>\n",
       "      <td>1624</td>\n",
       "      <td>2285</td>\n",
       "    </tr>\n",
       "    <tr>\n",
       "      <th>1769</th>\n",
       "      <td>320</td>\n",
       "      <td>2295</td>\n",
       "    </tr>\n",
       "    <tr>\n",
       "      <th>1770</th>\n",
       "      <td>904</td>\n",
       "      <td>2304</td>\n",
       "    </tr>\n",
       "  </tbody>\n",
       "</table>\n",
       "<p>1771 rows × 2 columns</p>\n",
       "</div>"
      ],
      "text/plain": [
       "        g1    g2\n",
       "0     2052     4\n",
       "1     1677    13\n",
       "2     1159    14\n",
       "3     1528    24\n",
       "4     1232    28\n",
       "...    ...   ...\n",
       "1766   835  2213\n",
       "1767  2099  2222\n",
       "1768  1624  2285\n",
       "1769   320  2295\n",
       "1770   904  2304\n",
       "\n",
       "[1771 rows x 2 columns]"
      ]
     },
     "execution_count": 26,
     "metadata": {},
     "output_type": "execute_result"
    }
   ],
   "source": [
    "df_match.replace({\"g1\": map1}, inplace=True) \n",
    "df_match.replace({\"g2\": map2}, inplace=True) \n",
    "df_match\n"
   ]
  },
  {
   "cell_type": "code",
   "execution_count": 27,
   "metadata": {},
   "outputs": [
    {
     "data": {
      "text/html": [
       "<div>\n",
       "<style scoped>\n",
       "    .dataframe tbody tr th:only-of-type {\n",
       "        vertical-align: middle;\n",
       "    }\n",
       "\n",
       "    .dataframe tbody tr th {\n",
       "        vertical-align: top;\n",
       "    }\n",
       "\n",
       "    .dataframe thead th {\n",
       "        text-align: right;\n",
       "    }\n",
       "</style>\n",
       "<table border=\"1\" class=\"dataframe\">\n",
       "  <thead>\n",
       "    <tr style=\"text-align: right;\">\n",
       "      <th></th>\n",
       "      <th>g1</th>\n",
       "      <th>g2</th>\n",
       "    </tr>\n",
       "  </thead>\n",
       "  <tbody>\n",
       "    <tr>\n",
       "      <th>347</th>\n",
       "      <td>807</td>\n",
       "      <td>807</td>\n",
       "    </tr>\n",
       "    <tr>\n",
       "      <th>377</th>\n",
       "      <td>848</td>\n",
       "      <td>848</td>\n",
       "    </tr>\n",
       "    <tr>\n",
       "      <th>675</th>\n",
       "      <td>1304</td>\n",
       "      <td>1304</td>\n",
       "    </tr>\n",
       "  </tbody>\n",
       "</table>\n",
       "</div>"
      ],
      "text/plain": [
       "       g1    g2\n",
       "347   807   807\n",
       "377   848   848\n",
       "675  1304  1304"
      ]
     },
     "execution_count": 27,
     "metadata": {},
     "output_type": "execute_result"
    }
   ],
   "source": [
    "df_match[df_match[\"g1\"] == df_match[\"g2\"]]"
   ]
  },
  {
   "cell_type": "markdown",
   "metadata": {},
   "source": [
    "Option 2"
   ]
  },
  {
   "cell_type": "code",
   "execution_count": 28,
   "metadata": {},
   "outputs": [
    {
     "name": "stdout",
     "output_type": "stream",
     "text": [
      "(1780, 1771)\n"
     ]
    },
    {
     "data": {
      "text/plain": [
       "array([[0., 0., 0., ..., 0., 0., 0.],\n",
       "       [0., 0., 0., ..., 0., 0., 0.],\n",
       "       [0., 0., 0., ..., 0., 0., 0.],\n",
       "       ...,\n",
       "       [0., 0., 0., ..., 0., 0., 0.],\n",
       "       [0., 0., 0., ..., 0., 0., 0.],\n",
       "       [0., 0., 0., ..., 0., 0., 0.]], dtype=float32)"
      ]
     },
     "execution_count": 28,
     "metadata": {},
     "output_type": "execute_result"
    }
   ],
   "source": [
    "import pygmtools as pygm\n",
    "\n",
    "X = pygm.hungarian(D.cpu().numpy())\n",
    "print(X.shape)\n",
    "X"
   ]
  },
  {
   "cell_type": "code",
   "execution_count": 29,
   "metadata": {},
   "outputs": [
    {
     "name": "stdout",
     "output_type": "stream",
     "text": [
      "(1771, 2)\n"
     ]
    },
    {
     "data": {
      "text/plain": [
       "array([[ 952,    0],\n",
       "       [1170,    1],\n",
       "       [1156,    2],\n",
       "       ...,\n",
       "       [1540, 1768],\n",
       "       [ 944, 1769],\n",
       "       [1306, 1770]])"
      ]
     },
     "execution_count": 29,
     "metadata": {},
     "output_type": "execute_result"
    }
   ],
   "source": [
    "indices = []\n",
    "row, col = X.shape\n",
    "for i in range(row):\n",
    "    for j in range(col):\n",
    "        if X[i][j] == 1:\n",
    "            indices.append([i, j])\n",
    "option2 = np.array(indices)\n",
    "option2 = option2[option2[:, 1].argsort()]\n",
    "print(option2.shape)\n",
    "option2"
   ]
  },
  {
   "cell_type": "code",
   "execution_count": null,
   "metadata": {},
   "outputs": [],
   "source": [
    "matching = test_matching(truth, option2)\n",
    "print(len(matching))\n",
    "print(len(matching) / len(truth))\n",
    "matching"
   ]
  },
  {
   "cell_type": "code",
   "execution_count": 30,
   "metadata": {},
   "outputs": [
    {
     "data": {
      "text/html": [
       "<div>\n",
       "<style scoped>\n",
       "    .dataframe tbody tr th:only-of-type {\n",
       "        vertical-align: middle;\n",
       "    }\n",
       "\n",
       "    .dataframe tbody tr th {\n",
       "        vertical-align: top;\n",
       "    }\n",
       "\n",
       "    .dataframe thead th {\n",
       "        text-align: right;\n",
       "    }\n",
       "</style>\n",
       "<table border=\"1\" class=\"dataframe\">\n",
       "  <thead>\n",
       "    <tr style=\"text-align: right;\">\n",
       "      <th></th>\n",
       "      <th>g1</th>\n",
       "      <th>g2</th>\n",
       "    </tr>\n",
       "  </thead>\n",
       "  <tbody>\n",
       "  </tbody>\n",
       "</table>\n",
       "</div>"
      ],
      "text/plain": [
       "Empty DataFrame\n",
       "Columns: [g1, g2]\n",
       "Index: []"
      ]
     },
     "execution_count": 30,
     "metadata": {},
     "output_type": "execute_result"
    }
   ],
   "source": [
    "df_match = pd.DataFrame(option2)\n",
    "df_match.columns = [\"g1\", \"g2\"]\n",
    "df_match\n",
    "\n",
    "df_match.replace({\"g1\": map1}, inplace=True) \n",
    "df_match.replace({\"g2\": map2}, inplace=True) \n",
    "df_match\n",
    "\n",
    "df_match[df_match[\"g1\"] == df_match[\"g2\"]]"
   ]
  },
  {
   "cell_type": "markdown",
   "metadata": {},
   "source": [
    "Option 3"
   ]
  },
  {
   "cell_type": "code",
   "execution_count": 31,
   "metadata": {},
   "outputs": [
    {
     "name": "stdout",
     "output_type": "stream",
     "text": [
      "(1780, 2)\n"
     ]
    },
    {
     "data": {
      "text/plain": [
       "array([[1392,    6],\n",
       "       [1370,    6],\n",
       "       [ 479,    6],\n",
       "       ...,\n",
       "       [1683, 1770],\n",
       "       [ 887, 1770],\n",
       "       [1768, 1770]])"
      ]
     },
     "execution_count": 31,
     "metadata": {},
     "output_type": "execute_result"
    }
   ],
   "source": [
    "indices = []\n",
    "for i in range(D.shape[0]):\n",
    "    dist_list = D[i]\n",
    "    sorted_neighbors = torch.argsort(dist_list).cpu()\n",
    "    indices.append([i, sorted_neighbors[0]])\n",
    "\n",
    "option3 = np.array(indices)\n",
    "option3 = option3[option3[:, 1].argsort()]\n",
    "print(option3.shape)\n",
    "option3"
   ]
  },
  {
   "cell_type": "code",
   "execution_count": null,
   "metadata": {},
   "outputs": [],
   "source": [
    "matching = test_matching(truth, option3)\n",
    "print(len(matching))\n",
    "print(len(matching) / len(truth))\n",
    "matching"
   ]
  },
  {
   "cell_type": "code",
   "execution_count": 32,
   "metadata": {},
   "outputs": [
    {
     "data": {
      "text/html": [
       "<div>\n",
       "<style scoped>\n",
       "    .dataframe tbody tr th:only-of-type {\n",
       "        vertical-align: middle;\n",
       "    }\n",
       "\n",
       "    .dataframe tbody tr th {\n",
       "        vertical-align: top;\n",
       "    }\n",
       "\n",
       "    .dataframe thead th {\n",
       "        text-align: right;\n",
       "    }\n",
       "</style>\n",
       "<table border=\"1\" class=\"dataframe\">\n",
       "  <thead>\n",
       "    <tr style=\"text-align: right;\">\n",
       "      <th></th>\n",
       "      <th>g1</th>\n",
       "      <th>g2</th>\n",
       "    </tr>\n",
       "  </thead>\n",
       "  <tbody>\n",
       "    <tr>\n",
       "      <th>665</th>\n",
       "      <td>2164</td>\n",
       "      <td>2164</td>\n",
       "    </tr>\n",
       "    <tr>\n",
       "      <th>1536</th>\n",
       "      <td>2059</td>\n",
       "      <td>2059</td>\n",
       "    </tr>\n",
       "  </tbody>\n",
       "</table>\n",
       "</div>"
      ],
      "text/plain": [
       "        g1    g2\n",
       "665   2164  2164\n",
       "1536  2059  2059"
      ]
     },
     "execution_count": 32,
     "metadata": {},
     "output_type": "execute_result"
    }
   ],
   "source": [
    "df_match = pd.DataFrame(option3)\n",
    "df_match.columns = [\"g1\", \"g2\"]\n",
    "df_match\n",
    "\n",
    "df_match.replace({\"g1\": map1}, inplace=True) \n",
    "df_match.replace({\"g2\": map2}, inplace=True) \n",
    "df_match\n",
    "\n",
    "df_match[df_match[\"g1\"] == df_match[\"g2\"]]"
   ]
  },
  {
   "cell_type": "markdown",
   "metadata": {},
   "source": [
    "---"
   ]
  },
  {
   "cell_type": "code",
   "execution_count": null,
   "metadata": {},
   "outputs": [],
   "source": [
    "a = torch.tensor([[0.0,  0.0], [0.0, 1.0], [0.0,  2.0]])\n",
    "print(a)\n",
    "b = torch.tensor([[0.0, 1.0 ], [1.0,  1.0]])\n",
    "print(b)\n",
    "torch.cdist(a, b, p=2)"
   ]
  },
  {
   "cell_type": "code",
   "execution_count": null,
   "metadata": {},
   "outputs": [],
   "source": [
    "a = torch.tensor([[4.01, 3.0, 2.0, 0.1, 4.0]])\n",
    "print(a)\n",
    "torch.argsort(a, dim=1)"
   ]
  },
  {
   "cell_type": "code",
   "execution_count": null,
   "metadata": {},
   "outputs": [],
   "source": [
    "a = np.array([[9, 2, 3],\n",
    "              [4, 5, 6],\n",
    "              [7, 0, 5]])\n",
    "\n",
    "a[a[:, 2].argsort()]\n"
   ]
  }
 ],
 "metadata": {
  "kernelspec": {
   "display_name": "graph_alignment",
   "language": "python",
   "name": "python3"
  },
  "language_info": {
   "codemirror_mode": {
    "name": "ipython",
    "version": 3
   },
   "file_extension": ".py",
   "mimetype": "text/x-python",
   "name": "python",
   "nbconvert_exporter": "python",
   "pygments_lexer": "ipython3",
   "version": "3.10.14"
  }
 },
 "nbformat": 4,
 "nbformat_minor": 2
}
