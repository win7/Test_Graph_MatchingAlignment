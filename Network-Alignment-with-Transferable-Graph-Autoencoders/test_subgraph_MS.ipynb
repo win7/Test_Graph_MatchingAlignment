{
 "cells": [
  {
   "cell_type": "code",
   "execution_count": 1,
   "metadata": {},
   "outputs": [],
   "source": [
    "from graphMatching import *\n",
    "from networkx import read_edgelist\n",
    "from scipy.io import loadmat\n",
    "from model import *\n",
    "from utils import *"
   ]
  },
  {
   "cell_type": "code",
   "execution_count": 2,
   "metadata": {},
   "outputs": [],
   "source": [
    "# import networkx as nx\n",
    "import pandas as pd\n",
    "import matplotlib.pyplot as plt\n",
    "from matplotlib.patches import ConnectionPatch"
   ]
  },
  {
   "cell_type": "code",
   "execution_count": 3,
   "metadata": {},
   "outputs": [],
   "source": [
    "data = \"MS\" # args.dataset\n",
    "\n",
    "device = torch.device('cuda:0' if torch.cuda.is_available() else \"cpu\")\n",
    "train_features = {}\n",
    "if (data == \"ACM_DBLP\"):\n",
    "\ttrain_set = [\"ACM\", \"DBLP\"]\n",
    "\tinput_dim = 17\n",
    "\tb = np.load('data/ACM-DBLP.npz')\n",
    "\ttrain_features[\"ACM\"] = [torch.from_numpy(b[\"x1\"]).float()]\n",
    "\ttrain_features[\"DBLP\"] = [torch.from_numpy(b[\"x2\"]).float()]\n",
    "\ttest_pairs = b['test_pairs'].astype(np.int32)\n",
    "\tNUM_HIDDEN_LAYERS = 12\n",
    "\tHIDDEN_DIM = 1024\n",
    "\toutput_feature_size = 1024\n",
    "\tlr = 0.0001\n",
    "\tepoch = 100\n",
    "elif (data == \"Douban Online_Offline\"):\n",
    "\ta1, f1, a2, f2, test_pairs = load_douban()\n",
    "\tf1 = f1.A\n",
    "\tf2 = f2.A\n",
    "\ttrain_set = [\"Online\", \"Offline\"]\n",
    "\tinput_dim = 538\n",
    "\ttest_pairs = torch.tensor(np.array(test_pairs, dtype=int)) - 1\n",
    "\ttest_pairs = test_pairs.numpy()\n",
    "\ttrain_features[\"Online\"] = [torch.from_numpy(f1).float()]\n",
    "\ttrain_features[\"Offline\"] = [torch.from_numpy(f2).float()]\n",
    "\tNUM_HIDDEN_LAYERS = 6\n",
    "\tHIDDEN_DIM = 512\n",
    "\toutput_feature_size = 512\n",
    "\tlr = 0.0001\n",
    "\tepoch = 100\n",
    "elif (data == \"MS\"):\n",
    "\ttrain_set = [\"Orange_1\", \"Orange_2\"] # change\n",
    "\tinput_dim = 3 # features\n",
    "\t\n",
    "\tdf_nodes_1 = pd.read_csv(\"graphs_data/nodes_{}.csv\".format(train_set[0]))\n",
    "\tdf_nodes_2 = pd.read_csv(\"graphs_data/nodes_{}.csv\".format(train_set[1]))\n",
    "\t\n",
    "\ttrain_features[train_set[0]] = [torch.from_numpy(df_nodes_1.iloc[:, 2:].values).float()]\n",
    "\ttrain_features[train_set[1]] = [torch.from_numpy(df_nodes_2.iloc[:, 2:].values).float()]\n",
    "\t\n",
    "\tNUM_HIDDEN_LAYERS = 12\n",
    "\tHIDDEN_DIM = 1024\n",
    "\toutput_feature_size = 1024\n",
    "\tlr = 0.0001\n",
    "\tepoch = 100"
   ]
  },
  {
   "cell_type": "code",
   "execution_count": 4,
   "metadata": {},
   "outputs": [
    {
     "data": {
      "text/plain": [
       "' temp = torch.from_numpy(b[\"x1\"]).float() # G1, features\\nprint(temp.shape)\\ntemp '"
      ]
     },
     "execution_count": 4,
     "metadata": {},
     "output_type": "execute_result"
    }
   ],
   "source": [
    "\"\"\" temp = torch.from_numpy(b[\"x1\"]).float() # G1, features\n",
    "print(temp.shape)\n",
    "temp \"\"\""
   ]
  },
  {
   "cell_type": "code",
   "execution_count": 5,
   "metadata": {},
   "outputs": [
    {
     "data": {
      "text/plain": [
       "' temp = torch.from_numpy(b[\"x2\"]).float() # G2, features\\nprint(temp.shape)\\ntemp '"
      ]
     },
     "execution_count": 5,
     "metadata": {},
     "output_type": "execute_result"
    }
   ],
   "source": [
    "\"\"\" temp = torch.from_numpy(b[\"x2\"]).float() # G2, features\n",
    "print(temp.shape)\n",
    "temp \"\"\""
   ]
  },
  {
   "cell_type": "code",
   "execution_count": 6,
   "metadata": {},
   "outputs": [
    {
     "data": {
      "text/plain": [
       "' temp = b[\"test_pairs\"]\\nprint(temp.shape)\\ntemp '"
      ]
     },
     "execution_count": 6,
     "metadata": {},
     "output_type": "execute_result"
    }
   ],
   "source": [
    "\"\"\" temp = b[\"test_pairs\"]\n",
    "print(temp.shape)\n",
    "temp \"\"\""
   ]
  },
  {
   "cell_type": "code",
   "execution_count": 7,
   "metadata": {},
   "outputs": [],
   "source": [
    "# test_pairs"
   ]
  },
  {
   "cell_type": "code",
   "execution_count": 8,
   "metadata": {},
   "outputs": [
    {
     "data": {
      "text/plain": [
       "['Orange_1', 'Orange_2']"
      ]
     },
     "execution_count": 8,
     "metadata": {},
     "output_type": "execute_result"
    }
   ],
   "source": [
    "train_set"
   ]
  },
  {
   "cell_type": "code",
   "execution_count": 9,
   "metadata": {},
   "outputs": [
    {
     "name": "stdout",
     "output_type": "stream",
     "text": [
      "Loading training datasets\n"
     ]
    },
    {
     "data": {
      "text/plain": [
       "{'Orange_1': [tensor([[0., 1., 1.,  ..., 0., 0., 0.],\n",
       "          [1., 0., 1.,  ..., 0., 1., 1.],\n",
       "          [1., 1., 0.,  ..., 0., 0., 1.],\n",
       "          ...,\n",
       "          [0., 0., 0.,  ..., 0., 1., 1.],\n",
       "          [0., 1., 0.,  ..., 1., 0., 1.],\n",
       "          [0., 1., 1.,  ..., 1., 1., 0.]])],\n",
       " 'Orange_2': [tensor([[0., 1., 1.,  ..., 0., 0., 0.],\n",
       "          [1., 0., 0.,  ..., 1., 1., 1.],\n",
       "          [1., 0., 0.,  ..., 1., 1., 0.],\n",
       "          ...,\n",
       "          [0., 1., 1.,  ..., 0., 1., 1.],\n",
       "          [0., 1., 1.,  ..., 1., 0., 1.],\n",
       "          [0., 1., 0.,  ..., 1., 1., 0.]])]}"
      ]
     },
     "execution_count": 9,
     "metadata": {},
     "output_type": "execute_result"
    }
   ],
   "source": [
    "# for Mentos\n",
    "encoder = \"GIN\"\n",
    "use_input_augmentation = True\n",
    "use_output_augmentation = False\n",
    "print(\"Loading training datasets\")\n",
    "train_loader = {}\n",
    "for dataset in train_set:\n",
    "\tdf_edges_orange = pd.read_csv(\"graphs_data/edges_{}.csv\".format(dataset))\n",
    "\tedges = df_edges_orange.iloc[:, [0, 1]].values\n",
    "\t\n",
    "\tn = train_features[dataset][0].shape[0]\n",
    "\tmatrix = torch.zeros(n, n)\n",
    "\n",
    "\tfor item in edges:\n",
    "\t\tmatrix[item[0]][item[1]] = 1\n",
    "\t\tmatrix[item[1]][item[0]] = 1\n",
    "\n",
    "\ttrain_loader[dataset] = [matrix]\n",
    "\n",
    "train_loader"
   ]
  },
  {
   "cell_type": "code",
   "execution_count": 10,
   "metadata": {},
   "outputs": [
    {
     "data": {
      "text/plain": [
       "dict_keys(['Orange_1', 'Orange_2'])"
      ]
     },
     "execution_count": 10,
     "metadata": {},
     "output_type": "execute_result"
    }
   ],
   "source": [
    "train_loader.keys()"
   ]
  },
  {
   "cell_type": "code",
   "execution_count": 11,
   "metadata": {},
   "outputs": [
    {
     "data": {
      "image/png": "[encoded data removed]",
      "text/plain": [
       "<Figure size 640x480 with 1 Axes>"
      ]
     },
     "metadata": {},
     "output_type": "display_data"
    }
   ],
   "source": [
    "plt.imshow(train_loader[train_set[0]][0].cpu().numpy(), cmap=\"Blues\", interpolation=\"none\")\n",
    "plt.show()"
   ]
  },
  {
   "cell_type": "code",
   "execution_count": 12,
   "metadata": {},
   "outputs": [
    {
     "data": {
      "text/plain": [
       "' temp = train_loader[\"ACM\"][0]\\nprint(temp.shape)\\ntemp '"
      ]
     },
     "execution_count": 12,
     "metadata": {},
     "output_type": "execute_result"
    }
   ],
   "source": [
    "\"\"\" temp = train_loader[\"ACM\"][0]\n",
    "print(temp.shape)\n",
    "temp \"\"\""
   ]
  },
  {
   "cell_type": "code",
   "execution_count": 13,
   "metadata": {},
   "outputs": [
    {
     "data": {
      "text/plain": [
       "' temp = train_loader[\"DBLP\"][0]\\nprint(temp.shape)\\ntemp '"
      ]
     },
     "execution_count": 13,
     "metadata": {},
     "output_type": "execute_result"
    }
   ],
   "source": [
    "\"\"\" temp = train_loader[\"DBLP\"][0]\n",
    "print(temp.shape)\n",
    "temp \"\"\""
   ]
  },
  {
   "cell_type": "code",
   "execution_count": 14,
   "metadata": {},
   "outputs": [
    {
     "data": {
      "text/plain": [
       "GAE(\n",
       "  (base_gcn): GIN(\n",
       "    (in_proj): Linear(in_features=3, out_features=1024, bias=True)\n",
       "    (convs): ModuleList(\n",
       "      (0-13): 14 x GINConv(\n",
       "        (linear): Linear(in_features=1027, out_features=1024, bias=True)\n",
       "      )\n",
       "    )\n",
       "    (out_proj): Linear(in_features=15360, out_features=1024, bias=True)\n",
       "  )\n",
       ")"
      ]
     },
     "execution_count": 14,
     "metadata": {},
     "output_type": "execute_result"
    }
   ],
   "source": [
    "model = GAE(NUM_HIDDEN_LAYERS,\n",
    "\t\t\tinput_dim,\n",
    "\t\t\tHIDDEN_DIM,\n",
    "\t\t\toutput_feature_size, activation=F.relu,\n",
    "\t\t\tuse_input_augmentation=use_input_augmentation,\n",
    "\t\t\tuse_output_augmentation=use_output_augmentation,\n",
    "\t\t\tencoder=encoder).to(device)\n",
    "model"
   ]
  },
  {
   "cell_type": "code",
   "execution_count": 15,
   "metadata": {},
   "outputs": [
    {
     "name": "stdout",
     "output_type": "stream",
     "text": [
      "Generating training features\n"
     ]
    }
   ],
   "source": [
    "print(\"Generating training features\")\n"
   ]
  },
  {
   "cell_type": "code",
   "execution_count": 16,
   "metadata": {},
   "outputs": [
    {
     "data": {
      "text/plain": [
       "{'Orange_1': [tensor([[0., 1., 1.,  ..., 0., 0., 0.],\n",
       "          [1., 0., 1.,  ..., 0., 1., 1.],\n",
       "          [1., 1., 0.,  ..., 0., 0., 1.],\n",
       "          ...,\n",
       "          [0., 0., 0.,  ..., 0., 1., 1.],\n",
       "          [0., 1., 0.,  ..., 1., 0., 1.],\n",
       "          [0., 1., 1.,  ..., 1., 1., 0.]])],\n",
       " 'Orange_2': [tensor([[0., 1., 1.,  ..., 0., 0., 0.],\n",
       "          [1., 0., 0.,  ..., 1., 1., 1.],\n",
       "          [1., 0., 0.,  ..., 1., 1., 0.],\n",
       "          ...,\n",
       "          [0., 1., 1.,  ..., 0., 1., 1.],\n",
       "          [0., 1., 1.,  ..., 1., 0., 1.],\n",
       "          [0., 1., 0.,  ..., 1., 1., 0.]])]}"
      ]
     },
     "execution_count": 16,
     "metadata": {},
     "output_type": "execute_result"
    }
   ],
   "source": [
    "train_loader"
   ]
  },
  {
   "cell_type": "code",
   "execution_count": 17,
   "metadata": {},
   "outputs": [
    {
     "name": "stdout",
     "output_type": "stream",
     "text": [
      "Fitting model\n"
     ]
    },
    {
     "name": "stderr",
     "output_type": "stream",
     "text": [
      " 13%|█▎        | 13/100 [00:21<02:22,  1.64s/it]"
     ]
    }
   ],
   "source": [
    "print(\"Fitting model\")\n",
    "# fit_GAE_real(data, len(train_set) * (1 + 1), model, epoch, train_loader, train_features, device, lr,test_pairs)\n",
    "# fit_GAE_real(data, no_samples, GAE, epoch, train_loader, train_features, device, lr, test_pairs):\n",
    "\n",
    "no_samples = len(train_set) * (1 + 1)\n",
    "GAE = model\n",
    "# ---\n",
    "\n",
    "best_hitAtOne = 0\n",
    "best_hitAtFive = 0\n",
    "best_hitAtTen = 0\n",
    "best_hitAtFifty = 0\n",
    "optimizer = Adam(GAE.parameters(), lr=lr, weight_decay=5e-4)\n",
    "\n",
    "for step in tqdm(range(epoch)):\n",
    "\tloss = 0\n",
    "\t\n",
    "\tfor dataset in train_loader.keys():\n",
    "\t\tS = train_loader[dataset][0]\n",
    "\t\tinitial_features = train_features[dataset]\n",
    "\t\t\n",
    "\t\tfor i in range(len(train_loader[dataset])):\n",
    "\t\t\tadj_tensor = train_loader[dataset][i]\n",
    "\t\t\tadj = coo_matrix(adj_tensor.numpy())\n",
    "\t\t\tadj_norm = preprocess_graph(adj)\n",
    "\t\t\tpos_weight = float(adj.shape[0] * adj.shape[0] - adj.sum()) / adj.sum()\n",
    "\t\t\tnorm = adj.shape[0] * adj.shape[0] / float((adj.shape[0] * adj.shape[0] - adj.sum()) * 2)\n",
    "\n",
    "\t\t\tadj_label = coo_matrix(S.numpy())\n",
    "\t\t\tadj_label = sparse_to_tuple(adj_label)\n",
    "\n",
    "\t\t\tadj_norm = torch.sparse.FloatTensor(torch.LongTensor(adj_norm[0].T),\n",
    "\t\t\t\t\t\t\t\t\t\t\t\ttorch.FloatTensor(adj_norm[1]),\n",
    "\t\t\t\t\t\t\t\t\t\t\t\ttorch.Size(adj_norm[2])).to(device)\n",
    "\t\t\tadj_label = torch.sparse.FloatTensor(torch.LongTensor(adj_label[0].T),\n",
    "\t\t\t\t\t\t\t\t\t\t\t\ttorch.FloatTensor(adj_label[1]),\n",
    "\t\t\t\t\t\t\t\t\t\t\t\ttorch.Size(adj_label[2])).to(device)\n",
    "\n",
    "\t\t\tinitial_feature = initial_features[i].to(device)\n",
    "\n",
    "\t\t\tweight_mask = adj_label.to_dense().view(-1) == 1\n",
    "\t\t\tweight_tensor = torch.ones(weight_mask.size(0))\n",
    "\t\t\tweight_tensor[weight_mask] = pos_weight\n",
    "\t\t\tweight_tensor = weight_tensor.to(device)\n",
    "\t\t\tz = GAE(initial_feature, adj_norm)\n",
    "\t\t\tA_pred = torch.sigmoid(torch.matmul(z,z.t()))\n",
    "\t\t\tloss += norm * F.binary_cross_entropy(A_pred.view(-1), adj_label.to_dense().view(-1),\n",
    "\t\t\t\t\t\t\t\t\t\t\t\t\t\tweight=weight_tensor)\n",
    "\t\n",
    "\toptimizer.zero_grad()\n",
    "\tloss = loss / no_samples\n",
    "\tloss.backward()\n",
    "\toptimizer.step()\n",
    "\n",
    "\t# ---\n",
    "\tkeys = list(train_loader.keys())\n",
    "\tS1 = train_loader[keys[0]][0]\n",
    "\tS2 = train_loader[keys[1]][0]\n",
    "\t\n",
    "\tadj_S1 = coo_matrix(S1.numpy())\n",
    "\tadj_norm_1 = preprocess_graph(adj_S1)\n",
    "\tadj_norm_1 = torch.sparse.FloatTensor(torch.LongTensor(adj_norm_1[0].T),\n",
    "\t\t\t\t\t\t\t\t\t\t\ttorch.FloatTensor(adj_norm_1[1]),\n",
    "\t\t\t\t\t\t\t\t\t\t\ttorch.Size(adj_norm_1[2])).to(device)\n",
    "\tadj_S2 = coo_matrix(S2.numpy())\n",
    "\tadj_norm_2 = preprocess_graph(adj_S2)\n",
    "\tadj_norm_2 = torch.sparse.FloatTensor(torch.LongTensor(adj_norm_2[0].T),\n",
    "\t\t\t\t\t\t\t\t\t\t\ttorch.FloatTensor(adj_norm_2[1]),\n",
    "\t\t\t\t\t\t\t\t\t\t\ttorch.Size(adj_norm_2[2])).to(device)\n",
    "\t\"\"\" if (data == \"ACM_DBLP\"):\n",
    "\t\tS1_feat = train_features[\"ACM\"][0]\n",
    "\t\tS2_feat = train_features[\"DBLP\"][0]\n",
    "\telif (data == \"Douban Online_Offline\"):\n",
    "\t\tS1_feat = train_features[\"Online\"][0]\n",
    "\t\tS2_feat = train_features[\"Offline\"][0] \"\"\"\n",
    "\n",
    "\tS1_feat = train_features[train_set[0]][0]\n",
    "\tS2_feat = train_features[train_set[1]][0]\n",
    "\n",
    "\t# ---\n",
    "\tS1_emb = GAE(S1_feat.to(device), adj_norm_1).detach()\n",
    "\tS2_emb = GAE(S2_feat.to(device), adj_norm_2).detach()\n",
    "\n",
    "\tD = torch.cdist(S1_emb, S2_emb, 2) # Euclidean distance"
   ]
  },
  {
   "cell_type": "code",
   "execution_count": null,
   "metadata": {},
   "outputs": [
    {
     "name": "stdout",
     "output_type": "stream",
     "text": [
      "torch.Size([1779, 1771])\n"
     ]
    },
    {
     "data": {
      "text/plain": [
       "tensor([[16.6508, 72.4502, 67.4461,  ..., 74.8673, 75.4645, 76.4854],\n",
       "        [55.8341,  4.8174,  3.0188,  ...,  6.7964,  7.4921,  8.8638],\n",
       "        [52.9480, 10.0633,  2.4598,  ..., 11.8927, 12.5935, 13.9321],\n",
       "        ...,\n",
       "        [54.3565,  9.0878,  1.6542,  ..., 10.7387, 11.4341, 12.7642],\n",
       "        [56.8036,  4.6601,  3.3154,  ...,  6.2346,  6.9329,  8.2723],\n",
       "        [51.2003,  8.0467,  4.2040,  ..., 10.4229, 11.0875, 12.3158]],\n",
       "       device='cuda:0')"
      ]
     },
     "execution_count": 60,
     "metadata": {},
     "output_type": "execute_result"
    }
   ],
   "source": [
    "print(D.shape)\n",
    "D"
   ]
  },
  {
   "cell_type": "markdown",
   "metadata": {},
   "source": [
    "Truth"
   ]
  },
  {
   "cell_type": "code",
   "execution_count": null,
   "metadata": {},
   "outputs": [],
   "source": [
    "\"\"\" print(data)\n",
    "print(test_pairs.shape)\n",
    "print(test_pairs) \"\"\""
   ]
  },
  {
   "cell_type": "code",
   "execution_count": null,
   "metadata": {},
   "outputs": [],
   "source": [
    "\"\"\" if (data == \"ACM_DBLP\"):\n",
    "\ttest_pairs_ = test_pairs\n",
    "elif (data == \"Douban Online_Offline\"):\n",
    "\ttest_pairs_ = test_pairs.T\n",
    "\t\n",
    "truth = test_pairs_[test_pairs_[:, 1].argsort()]\n",
    "print(truth.shape)\n",
    "truth \"\"\""
   ]
  },
  {
   "cell_type": "code",
   "execution_count": null,
   "metadata": {},
   "outputs": [],
   "source": [
    "\"\"\" truth_ = test_pairs_[test_pairs_[:, 0].argsort()]\n",
    "print(truth_.shape)\n",
    "truth_ \"\"\""
   ]
  },
  {
   "cell_type": "markdown",
   "metadata": {},
   "source": [
    "#### Metadata"
   ]
  },
  {
   "cell_type": "code",
   "execution_count": null,
   "metadata": {},
   "outputs": [],
   "source": [
    "df_nodes_1 = pd.read_csv(\"graphs_data/nodes_{}.csv\".format(train_set[0]))\n",
    "df_nodes_1\n",
    "map1 = dict(zip(df_nodes_1.iloc[:, 0].values, df_nodes_1.iloc[:, 1].values))\n",
    "map1\n",
    "\n",
    "df_nodes_2 = pd.read_csv(\"graphs_data/nodes_{}.csv\".format(train_set[1]))\n",
    "df_nodes_2\n",
    "map2 = dict(zip(df_nodes_2.iloc[:, 0].values, df_nodes_2.iloc[:, 1].values))\n",
    "# map2"
   ]
  },
  {
   "cell_type": "markdown",
   "metadata": {},
   "source": [
    "#### Option 0"
   ]
  },
  {
   "cell_type": "code",
   "execution_count": null,
   "metadata": {},
   "outputs": [],
   "source": [
    "def hungarian(D):\n",
    "\tprint(\"0\")\n",
    "\tP = torch.zeros_like(D)\n",
    "\tmatrix = D.tolist()\n",
    "\tm = Munkres()\n",
    "\tprint(\"1\")\n",
    "\tindexes = m.compute(matrix)\n",
    "\tprint(\"2\")\n",
    "\ttotal = 0\n",
    "\tfor r, c in tqdm(indexes):\n",
    "\t\tprint(r)\n",
    "\t\tP[r][c] = 1\n",
    "\t\ttotal += matrix[r][c]\n",
    "\treturn P.t()\n",
    "\n",
    "X = hungarian(D)\n",
    "print(X.shape)\n",
    "# online_offline: 215m\n",
    "# acm_dblp: 2112m\n",
    "X"
   ]
  },
  {
   "cell_type": "code",
   "execution_count": null,
   "metadata": {},
   "outputs": [],
   "source": [
    "# save\n",
    "\n",
    "X = X.cpu().numpy()\n",
    "np.save(\"P_hungarian_ACM_DBLP\", X)"
   ]
  },
  {
   "cell_type": "code",
   "execution_count": null,
   "metadata": {},
   "outputs": [],
   "source": [
    "# load\n",
    "\n",
    "X = np.load(\"P_hungarian.npy\")\n",
    "X"
   ]
  },
  {
   "cell_type": "code",
   "execution_count": null,
   "metadata": {},
   "outputs": [],
   "source": [
    "option0 = []\n",
    "m, n = X.shape\n",
    "for i in range(m):\n",
    "\tfor j in range(n):\n",
    "\t\tif X[i][j] == 1:\n",
    "\t\t\toption0.append([j, i]) # S, S_hat\n",
    "option0 = np.array(option0)\n",
    "print(len(option0))\n",
    "option0"
   ]
  },
  {
   "cell_type": "code",
   "execution_count": null,
   "metadata": {},
   "outputs": [],
   "source": [
    "matching = test_matching(truth, option0)\n",
    "print(len(matching))\n",
    "print(len(matching) / len(truth))\n",
    "matching"
   ]
  },
  {
   "cell_type": "markdown",
   "metadata": {},
   "source": [
    "#### Option 1"
   ]
  },
  {
   "cell_type": "code",
   "execution_count": 61,
   "metadata": {},
   "outputs": [],
   "source": [
    "total_cost, assignments = hungarian_algorithm(D.cpu())"
   ]
  },
  {
   "cell_type": "code",
   "execution_count": 62,
   "metadata": {},
   "outputs": [
    {
     "name": "stdout",
     "output_type": "stream",
     "text": [
      "(1771, 2)\n"
     ]
    },
    {
     "data": {
      "text/plain": [
       "array([[ 558,    0],\n",
       "       [1544,    1],\n",
       "       [ 629,    2],\n",
       "       ...,\n",
       "       [ 513, 1768],\n",
       "       [ 588, 1769],\n",
       "       [1549, 1770]])"
      ]
     },
     "execution_count": 62,
     "metadata": {},
     "output_type": "execute_result"
    }
   ],
   "source": [
    "option1 = np.array(assignments)\n",
    "option1 = option1[option1[:, 1].argsort()]\n",
    "print(option1.shape)\n",
    "option1"
   ]
  },
  {
   "cell_type": "code",
   "execution_count": 63,
   "metadata": {},
   "outputs": [
    {
     "data": {
      "text/plain": [
       "array([[   0,  558],\n",
       "       [   1, 1544],\n",
       "       [   2,  629],\n",
       "       ...,\n",
       "       [1768,  513],\n",
       "       [1769,  588],\n",
       "       [1770, 1549]])"
      ]
     },
     "execution_count": 63,
     "metadata": {},
     "output_type": "execute_result"
    }
   ],
   "source": [
    "option1_ = option1[:, [1, 0]]\n",
    "option1_"
   ]
  },
  {
   "cell_type": "code",
   "execution_count": null,
   "metadata": {},
   "outputs": [],
   "source": [
    "\"\"\" matching = test_match(truth, option1)\n",
    "print(len(matching))\n",
    "print(len(matching) / len(truth))\n",
    "matching \"\"\""
   ]
  },
  {
   "cell_type": "code",
   "execution_count": 67,
   "metadata": {},
   "outputs": [
    {
     "data": {
      "text/html": [
       "<div>\n",
       "<style scoped>\n",
       "    .dataframe tbody tr th:only-of-type {\n",
       "        vertical-align: middle;\n",
       "    }\n",
       "\n",
       "    .dataframe tbody tr th {\n",
       "        vertical-align: top;\n",
       "    }\n",
       "\n",
       "    .dataframe thead th {\n",
       "        text-align: right;\n",
       "    }\n",
       "</style>\n",
       "<table border=\"1\" class=\"dataframe\">\n",
       "  <thead>\n",
       "    <tr style=\"text-align: right;\">\n",
       "      <th></th>\n",
       "      <th>g1</th>\n",
       "      <th>g2</th>\n",
       "    </tr>\n",
       "  </thead>\n",
       "  <tbody>\n",
       "    <tr>\n",
       "      <th>1335</th>\n",
       "      <td>1966</td>\n",
       "      <td>1966</td>\n",
       "    </tr>\n",
       "  </tbody>\n",
       "</table>\n",
       "</div>"
      ],
      "text/plain": [
       "        g1    g2\n",
       "1335  1966  1966"
      ]
     },
     "execution_count": 67,
     "metadata": {},
     "output_type": "execute_result"
    }
   ],
   "source": [
    "# Analysis\n",
    "\n",
    "def match_nodes(option, map1, map2):\n",
    "    df_match = pd.DataFrame(option)\n",
    "    df_match.columns = [\"g1\", \"g2\"]\n",
    "    df_match\n",
    "\n",
    "    df_match.replace({\"g1\": map1}, inplace=True) \n",
    "    df_match.replace({\"g2\": map2}, inplace=True) \n",
    "    df_match\n",
    "\n",
    "    df_match = df_match[df_match[\"g1\"] == df_match[\"g2\"]]\n",
    "    return df_match\n",
    "\n",
    "df_match = match_nodes(option1, map1, map2)\n",
    "df_match"
   ]
  },
  {
   "cell_type": "code",
   "execution_count": null,
   "metadata": {},
   "outputs": [],
   "source": [
    "G1 = build_graph(adj_norm_1)\n",
    "G2 = build_graph(adj_norm_2)\n",
    "\n",
    "plot_match(G1, G2, matching)"
   ]
  },
  {
   "cell_type": "markdown",
   "metadata": {},
   "source": [
    "#### Option 2"
   ]
  },
  {
   "cell_type": "code",
   "execution_count": 68,
   "metadata": {},
   "outputs": [
    {
     "name": "stdout",
     "output_type": "stream",
     "text": [
      "(1779, 1771)\n"
     ]
    },
    {
     "data": {
      "text/plain": [
       "array([[0., 0., 0., ..., 0., 0., 0.],\n",
       "       [0., 0., 0., ..., 0., 0., 0.],\n",
       "       [0., 0., 0., ..., 0., 0., 0.],\n",
       "       ...,\n",
       "       [0., 0., 0., ..., 0., 0., 0.],\n",
       "       [0., 0., 0., ..., 0., 0., 0.],\n",
       "       [0., 0., 0., ..., 0., 0., 0.]], dtype=float32)"
      ]
     },
     "execution_count": 68,
     "metadata": {},
     "output_type": "execute_result"
    }
   ],
   "source": [
    "import pygmtools as pygm\n",
    "\n",
    "X = pygm.hungarian(D.cpu().numpy())\n",
    "print(X.shape)\n",
    "X"
   ]
  },
  {
   "cell_type": "code",
   "execution_count": 69,
   "metadata": {},
   "outputs": [
    {
     "name": "stdout",
     "output_type": "stream",
     "text": [
      "(1771, 2)\n"
     ]
    },
    {
     "data": {
      "text/plain": [
       "array([[1191,    0],\n",
       "       [1177,    1],\n",
       "       [ 400,    2],\n",
       "       ...,\n",
       "       [ 478, 1768],\n",
       "       [ 781, 1769],\n",
       "       [ 820, 1770]])"
      ]
     },
     "execution_count": 69,
     "metadata": {},
     "output_type": "execute_result"
    }
   ],
   "source": [
    "option2 = matrix_to_edge(X)\n",
    "option2"
   ]
  },
  {
   "cell_type": "code",
   "execution_count": null,
   "metadata": {},
   "outputs": [],
   "source": [
    "option2_ = option2[:, [1, 0]]\n",
    "option2_"
   ]
  },
  {
   "cell_type": "code",
   "execution_count": null,
   "metadata": {},
   "outputs": [],
   "source": [
    "\"\"\" matching = test_match(truth, option2)\n",
    "print(len(matching))\n",
    "print(len(matching) / len(truth))\n",
    "matching \"\"\""
   ]
  },
  {
   "cell_type": "code",
   "execution_count": 70,
   "metadata": {},
   "outputs": [
    {
     "data": {
      "text/html": [
       "<div>\n",
       "<style scoped>\n",
       "    .dataframe tbody tr th:only-of-type {\n",
       "        vertical-align: middle;\n",
       "    }\n",
       "\n",
       "    .dataframe tbody tr th {\n",
       "        vertical-align: top;\n",
       "    }\n",
       "\n",
       "    .dataframe thead th {\n",
       "        text-align: right;\n",
       "    }\n",
       "</style>\n",
       "<table border=\"1\" class=\"dataframe\">\n",
       "  <thead>\n",
       "    <tr style=\"text-align: right;\">\n",
       "      <th></th>\n",
       "      <th>g1</th>\n",
       "      <th>g2</th>\n",
       "    </tr>\n",
       "  </thead>\n",
       "  <tbody>\n",
       "    <tr>\n",
       "      <th>522</th>\n",
       "      <td>1220</td>\n",
       "      <td>1220</td>\n",
       "    </tr>\n",
       "    <tr>\n",
       "      <th>1579</th>\n",
       "      <td>1598</td>\n",
       "      <td>1598</td>\n",
       "    </tr>\n",
       "  </tbody>\n",
       "</table>\n",
       "</div>"
      ],
      "text/plain": [
       "        g1    g2\n",
       "522   1220  1220\n",
       "1579  1598  1598"
      ]
     },
     "execution_count": 70,
     "metadata": {},
     "output_type": "execute_result"
    }
   ],
   "source": [
    "df_match = match_nodes(option2, map1, map2)\n",
    "df_match"
   ]
  },
  {
   "cell_type": "code",
   "execution_count": null,
   "metadata": {},
   "outputs": [],
   "source": [
    "G1 = build_graph(adj_norm_1)\n",
    "G2 = build_graph(adj_norm_2)\n",
    "plot_match(G1, G2, matching)"
   ]
  },
  {
   "cell_type": "markdown",
   "metadata": {},
   "source": [
    "#### Option 3"
   ]
  },
  {
   "cell_type": "code",
   "execution_count": 77,
   "metadata": {},
   "outputs": [
    {
     "name": "stdout",
     "output_type": "stream",
     "text": [
      "(1779, 2)\n"
     ]
    },
    {
     "data": {
      "text/plain": [
       "array([[1765,    0],\n",
       "       [1266,    3],\n",
       "       [1772,    3],\n",
       "       ...,\n",
       "       [ 431, 1765],\n",
       "       [ 988, 1765],\n",
       "       [ 946, 1765]])"
      ]
     },
     "execution_count": 77,
     "metadata": {},
     "output_type": "execute_result"
    }
   ],
   "source": [
    "indices = []\n",
    "for i in range(D.shape[0]):\n",
    "\tdist_list = D[i]\n",
    "\tsorted_neighbors = torch.argsort(dist_list).cpu()\n",
    "\tindices.append([i, sorted_neighbors[0]])\n",
    "\n",
    "option3 = np.array(indices)\n",
    "option3 = option3[option3[:, 1].argsort()]\n",
    "print(option3.shape)\n",
    "option3"
   ]
  },
  {
   "cell_type": "code",
   "execution_count": 78,
   "metadata": {},
   "outputs": [
    {
     "data": {
      "text/plain": [
       "array([[   0, 1765],\n",
       "       [   3, 1266],\n",
       "       [   3, 1772],\n",
       "       ...,\n",
       "       [1765,  431],\n",
       "       [1765,  988],\n",
       "       [1765,  946]])"
      ]
     },
     "execution_count": 78,
     "metadata": {},
     "output_type": "execute_result"
    }
   ],
   "source": [
    "option3_ = option3[:, [1, 0]]\n",
    "option3_"
   ]
  },
  {
   "cell_type": "code",
   "execution_count": null,
   "metadata": {},
   "outputs": [],
   "source": [
    "\"\"\" matching = test_match(truth, option3)\n",
    "print(len(matching))\n",
    "print(len(matching) / len(truth))\n",
    "matching \"\"\""
   ]
  },
  {
   "cell_type": "code",
   "execution_count": 79,
   "metadata": {},
   "outputs": [
    {
     "data": {
      "text/html": [
       "<div>\n",
       "<style scoped>\n",
       "    .dataframe tbody tr th:only-of-type {\n",
       "        vertical-align: middle;\n",
       "    }\n",
       "\n",
       "    .dataframe tbody tr th {\n",
       "        vertical-align: top;\n",
       "    }\n",
       "\n",
       "    .dataframe thead th {\n",
       "        text-align: right;\n",
       "    }\n",
       "</style>\n",
       "<table border=\"1\" class=\"dataframe\">\n",
       "  <thead>\n",
       "    <tr style=\"text-align: right;\">\n",
       "      <th></th>\n",
       "      <th>g1</th>\n",
       "      <th>g2</th>\n",
       "    </tr>\n",
       "  </thead>\n",
       "  <tbody>\n",
       "    <tr>\n",
       "      <th>57</th>\n",
       "      <td>286</td>\n",
       "      <td>286</td>\n",
       "    </tr>\n",
       "    <tr>\n",
       "      <th>370</th>\n",
       "      <td>725</td>\n",
       "      <td>725</td>\n",
       "    </tr>\n",
       "    <tr>\n",
       "      <th>458</th>\n",
       "      <td>769</td>\n",
       "      <td>769</td>\n",
       "    </tr>\n",
       "    <tr>\n",
       "      <th>750</th>\n",
       "      <td>1229</td>\n",
       "      <td>1229</td>\n",
       "    </tr>\n",
       "    <tr>\n",
       "      <th>1777</th>\n",
       "      <td>2279</td>\n",
       "      <td>2279</td>\n",
       "    </tr>\n",
       "  </tbody>\n",
       "</table>\n",
       "</div>"
      ],
      "text/plain": [
       "        g1    g2\n",
       "57     286   286\n",
       "370    725   725\n",
       "458    769   769\n",
       "750   1229  1229\n",
       "1777  2279  2279"
      ]
     },
     "execution_count": 79,
     "metadata": {},
     "output_type": "execute_result"
    }
   ],
   "source": [
    "df_match = match_nodes(option3, map1, map2)\n",
    "df_match"
   ]
  },
  {
   "cell_type": "code",
   "execution_count": 80,
   "metadata": {},
   "outputs": [
    {
     "data": {
      "text/html": [
       "<div>\n",
       "<style scoped>\n",
       "    .dataframe tbody tr th:only-of-type {\n",
       "        vertical-align: middle;\n",
       "    }\n",
       "\n",
       "    .dataframe tbody tr th {\n",
       "        vertical-align: top;\n",
       "    }\n",
       "\n",
       "    .dataframe thead th {\n",
       "        text-align: right;\n",
       "    }\n",
       "</style>\n",
       "<table border=\"1\" class=\"dataframe\">\n",
       "  <thead>\n",
       "    <tr style=\"text-align: right;\">\n",
       "      <th></th>\n",
       "      <th>g1</th>\n",
       "      <th>g2</th>\n",
       "    </tr>\n",
       "  </thead>\n",
       "  <tbody>\n",
       "    <tr>\n",
       "      <th>57</th>\n",
       "      <td>286</td>\n",
       "      <td>286</td>\n",
       "    </tr>\n",
       "    <tr>\n",
       "      <th>370</th>\n",
       "      <td>725</td>\n",
       "      <td>725</td>\n",
       "    </tr>\n",
       "    <tr>\n",
       "      <th>458</th>\n",
       "      <td>769</td>\n",
       "      <td>769</td>\n",
       "    </tr>\n",
       "    <tr>\n",
       "      <th>750</th>\n",
       "      <td>1229</td>\n",
       "      <td>1229</td>\n",
       "    </tr>\n",
       "    <tr>\n",
       "      <th>1777</th>\n",
       "      <td>2279</td>\n",
       "      <td>2279</td>\n",
       "    </tr>\n",
       "  </tbody>\n",
       "</table>\n",
       "</div>"
      ],
      "text/plain": [
       "        g1    g2\n",
       "57     286   286\n",
       "370    725   725\n",
       "458    769   769\n",
       "750   1229  1229\n",
       "1777  2279  2279"
      ]
     },
     "execution_count": 80,
     "metadata": {},
     "output_type": "execute_result"
    }
   ],
   "source": [
    "df_match = match_nodes(option3_, map2, map1)\n",
    "df_match"
   ]
  },
  {
   "cell_type": "code",
   "execution_count": null,
   "metadata": {},
   "outputs": [],
   "source": [
    "G1 = build_graph(adj_norm_1)\n",
    "G2 = build_graph(adj_norm_2)\n",
    "plot_match(G1, G2, matching)"
   ]
  },
  {
   "cell_type": "markdown",
   "metadata": {},
   "source": [
    "#### Option 4"
   ]
  },
  {
   "cell_type": "code",
   "execution_count": null,
   "metadata": {},
   "outputs": [],
   "source": [
    "X = greedy_match(D)\n",
    "X = X.todense()\n",
    "X = np.array(X)\n",
    "print(X.shape)\n",
    "print(X)"
   ]
  },
  {
   "cell_type": "code",
   "execution_count": null,
   "metadata": {},
   "outputs": [],
   "source": [
    "option4 = matrix_to_edge(X)\n",
    "option4"
   ]
  },
  {
   "cell_type": "code",
   "execution_count": null,
   "metadata": {},
   "outputs": [],
   "source": [
    "option4_ = option4[:, [1, 0]]\n",
    "option4_"
   ]
  },
  {
   "cell_type": "code",
   "execution_count": null,
   "metadata": {},
   "outputs": [],
   "source": [
    "matching = test_match(truth, option4)\n",
    "print(len(matching))\n",
    "print(len(matching) / len(truth))\n",
    "matching"
   ]
  },
  {
   "cell_type": "code",
   "execution_count": null,
   "metadata": {},
   "outputs": [],
   "source": [
    "G1 = build_graph(adj_norm_1)\n",
    "G2 = build_graph(adj_norm_2)\n",
    "plot_match(G1, G2, matching)"
   ]
  },
  {
   "cell_type": "markdown",
   "metadata": {},
   "source": [
    "#### Option 5"
   ]
  },
  {
   "cell_type": "code",
   "execution_count": null,
   "metadata": {},
   "outputs": [],
   "source": [
    "D_ = complete_to_square(D.cpu(), pad_value=100.0)\n",
    "print(D_.shape)\n",
    "D_"
   ]
  },
  {
   "cell_type": "code",
   "execution_count": null,
   "metadata": {},
   "outputs": [],
   "source": [
    "X = get_match(torch.tensor(D_), device)\n",
    "print(X.shape)\n",
    "X"
   ]
  },
  {
   "cell_type": "code",
   "execution_count": null,
   "metadata": {},
   "outputs": [],
   "source": [
    "option5 = matrix_to_edge(X)\n",
    "option5"
   ]
  },
  {
   "cell_type": "code",
   "execution_count": null,
   "metadata": {},
   "outputs": [],
   "source": [
    "option5_ = option5[:, [1, 0]]\n",
    "option5_"
   ]
  },
  {
   "cell_type": "code",
   "execution_count": null,
   "metadata": {},
   "outputs": [],
   "source": [
    "matching = test_match(truth, option5_) # ACM_DBLP (option5_)\n",
    "print(len(matching))\n",
    "print(len(matching) / len(truth))\n",
    "matching"
   ]
  },
  {
   "cell_type": "code",
   "execution_count": null,
   "metadata": {},
   "outputs": [],
   "source": [
    "G1 = build_graph(adj_norm_1)\n",
    "G2 = build_graph(adj_norm_2)\n",
    "plot_match(G1, G2, matching)"
   ]
  },
  {
   "cell_type": "markdown",
   "metadata": {},
   "source": [
    "---"
   ]
  },
  {
   "cell_type": "code",
   "execution_count": null,
   "metadata": {},
   "outputs": [],
   "source": [
    "a = torch.tensor([[0.0,  0.0], [0.0, 1.0], [0.0,  2.0]])\n",
    "print(a)\n",
    "b = torch.tensor([[0.0, 1.0 ], [1.0,  1.0]])\n",
    "print(b)\n",
    "torch.cdist(a, b, p=2)"
   ]
  },
  {
   "cell_type": "code",
   "execution_count": null,
   "metadata": {},
   "outputs": [],
   "source": [
    "a = torch.tensor([[4.01, 3.0, 2.0, 0.1, 4.0]])\n",
    "print(a)\n",
    "torch.argsort(a, dim=1)"
   ]
  },
  {
   "cell_type": "code",
   "execution_count": null,
   "metadata": {},
   "outputs": [],
   "source": [
    "a = np.array([[9, 2, 3],\n",
    "\t\t\t  [4, 5, 6],\n",
    "\t\t\t  [7, 0, 5]])\n",
    "\n",
    "a[a[:, 2].argsort()]"
   ]
  }
 ],
 "metadata": {
  "kernelspec": {
   "display_name": "graph_alignment",
   "language": "python",
   "name": "python3"
  },
  "language_info": {
   "codemirror_mode": {
    "name": "ipython",
    "version": 3
   },
   "file_extension": ".py",
   "mimetype": "text/x-python",
   "name": "python",
   "nbconvert_exporter": "python",
   "pygments_lexer": "ipython3",
   "version": "3.10.14"
  }
 },
 "nbformat": 4,
 "nbformat_minor": 2
}
