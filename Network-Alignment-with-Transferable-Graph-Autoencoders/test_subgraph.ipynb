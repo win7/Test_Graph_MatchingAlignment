{
 "cells": [
  {
   "cell_type": "code",
   "execution_count": 42,
   "metadata": {},
   "outputs": [],
   "source": [
    "from graphMatching import *\n",
    "from networkx import read_edgelist\n",
    "from scipy.io import loadmat\n",
    "from model import *\n",
    "from utils import *"
   ]
  },
  {
   "cell_type": "code",
   "execution_count": 43,
   "metadata": {},
   "outputs": [],
   "source": [
    "# import networkx as nx\n",
    "import matplotlib.pyplot as plt\n",
    "import matplotlib.pyplot as plt\n",
    "from matplotlib.patches import ConnectionPatch"
   ]
  },
  {
   "cell_type": "code",
   "execution_count": 44,
   "metadata": {},
   "outputs": [],
   "source": [
    "def test_matching(truth, test):\n",
    "    matching = []\n",
    "    test = test.tolist()\n",
    "    truth = truth.tolist()\n",
    "\n",
    "    for item in test:\n",
    "        if item in truth:\n",
    "            matching.append(item)\n",
    "    return matching"
   ]
  },
  {
   "cell_type": "code",
   "execution_count": 45,
   "metadata": {},
   "outputs": [],
   "source": [
    "data = \"ACM_DBLP\" # args.dataset\n",
    "\n",
    "device = torch.device('cuda:0' if torch.cuda.is_available() else \"cpu\")\n",
    "train_features = {}\n",
    "if (data == \"ACM_DBLP\"):\n",
    "    train_set = [\"ACM\", \"DBLP\"]\n",
    "    input_dim = 17\n",
    "    b = np.load('data/ACM-DBLP.npz')\n",
    "    train_features[\"ACM\"] = [torch.from_numpy(b[\"x1\"]).float()]\n",
    "    train_features[\"DBLP\"] = [torch.from_numpy(b[\"x2\"]).float()]\n",
    "    test_pairs = b['test_pairs'].astype(np.int32)\n",
    "    NUM_HIDDEN_LAYERS = 12\n",
    "    HIDDEN_DIM = 1024\n",
    "    output_feature_size = 1024\n",
    "    lr = 0.0001\n",
    "    epoch = 100\n",
    "elif (data == \"Douban Online_Offline\"):\n",
    "    a1, f1, a2, f2, test_pairs = load_douban()\n",
    "    f1 = f1.A\n",
    "    f2 = f2.A\n",
    "    train_set = [\"Online\", \"Offline\"]\n",
    "    input_dim = 538\n",
    "    test_pairs = torch.tensor(np.array(test_pairs, dtype=int)) - 1\n",
    "    test_pairs = test_pairs.numpy()\n",
    "    train_features[\"Online\"] = [torch.from_numpy(f1).float()]\n",
    "    train_features[\"Offline\"] = [torch.from_numpy(f2).float()]\n",
    "    NUM_HIDDEN_LAYERS = 6\n",
    "    HIDDEN_DIM = 512\n",
    "    output_feature_size = 512\n",
    "    lr = 0.0001\n",
    "    epoch = 100\n"
   ]
  },
  {
   "cell_type": "code",
   "execution_count": 46,
   "metadata": {},
   "outputs": [
    {
     "data": {
      "text/plain": [
       "' temp = torch.from_numpy(b[\"x1\"]).float() # G1, features\\nprint(temp.shape)\\ntemp '"
      ]
     },
     "execution_count": 46,
     "metadata": {},
     "output_type": "execute_result"
    }
   ],
   "source": [
    "\"\"\" temp = torch.from_numpy(b[\"x1\"]).float() # G1, features\n",
    "print(temp.shape)\n",
    "temp \"\"\""
   ]
  },
  {
   "cell_type": "code",
   "execution_count": 47,
   "metadata": {},
   "outputs": [
    {
     "data": {
      "text/plain": [
       "' temp = torch.from_numpy(b[\"x2\"]).float() # G2, features\\nprint(temp.shape)\\ntemp '"
      ]
     },
     "execution_count": 47,
     "metadata": {},
     "output_type": "execute_result"
    }
   ],
   "source": [
    "\"\"\" temp = torch.from_numpy(b[\"x2\"]).float() # G2, features\n",
    "print(temp.shape)\n",
    "temp \"\"\""
   ]
  },
  {
   "cell_type": "code",
   "execution_count": 48,
   "metadata": {},
   "outputs": [
    {
     "data": {
      "text/plain": [
       "' temp = b[\"test_pairs\"]\\nprint(temp.shape)\\ntemp '"
      ]
     },
     "execution_count": 48,
     "metadata": {},
     "output_type": "execute_result"
    }
   ],
   "source": [
    "\"\"\" temp = b[\"test_pairs\"]\n",
    "print(temp.shape)\n",
    "temp \"\"\""
   ]
  },
  {
   "cell_type": "code",
   "execution_count": 49,
   "metadata": {},
   "outputs": [
    {
     "data": {
      "text/plain": [
       "array([[   0, 6829],\n",
       "       [   2, 3102],\n",
       "       [   3, 3584],\n",
       "       ...,\n",
       "       [9841, 3392],\n",
       "       [9850,  306],\n",
       "       [9868, 9011]], dtype=int32)"
      ]
     },
     "execution_count": 49,
     "metadata": {},
     "output_type": "execute_result"
    }
   ],
   "source": [
    "test_pairs"
   ]
  },
  {
   "cell_type": "code",
   "execution_count": 50,
   "metadata": {},
   "outputs": [
    {
     "data": {
      "text/plain": [
       "['ACM', 'DBLP']"
      ]
     },
     "execution_count": 50,
     "metadata": {},
     "output_type": "execute_result"
    }
   ],
   "source": [
    "train_set"
   ]
  },
  {
   "cell_type": "code",
   "execution_count": 51,
   "metadata": {},
   "outputs": [
    {
     "name": "stdout",
     "output_type": "stream",
     "text": [
      "Loading training datasets\n"
     ]
    },
    {
     "data": {
      "text/plain": [
       "{'ACM': [tensor([[0., 1., 1.,  ..., 0., 0., 0.],\n",
       "          [1., 0., 1.,  ..., 0., 0., 0.],\n",
       "          [1., 1., 0.,  ..., 0., 0., 0.],\n",
       "          ...,\n",
       "          [0., 0., 0.,  ..., 0., 0., 0.],\n",
       "          [0., 0., 0.,  ..., 0., 0., 0.],\n",
       "          [0., 0., 0.,  ..., 0., 0., 0.]])],\n",
       " 'DBLP': [tensor([[0., 0., 0.,  ..., 0., 0., 0.],\n",
       "          [0., 0., 0.,  ..., 0., 0., 0.],\n",
       "          [0., 0., 0.,  ..., 0., 0., 0.],\n",
       "          ...,\n",
       "          [0., 0., 0.,  ..., 0., 0., 0.],\n",
       "          [0., 0., 0.,  ..., 0., 0., 0.],\n",
       "          [0., 0., 0.,  ..., 0., 0., 0.]])]}"
      ]
     },
     "execution_count": 51,
     "metadata": {},
     "output_type": "execute_result"
    }
   ],
   "source": [
    "encoder = \"GIN\"\n",
    "use_input_augmentation = True\n",
    "use_output_augmentation = False\n",
    "print(\"Loading training datasets\")\n",
    "train_loader = {}\n",
    "for dataset in train_set:\n",
    "    train_loader[dataset] = [load_adj(dataset)]\n",
    "\n",
    "train_loader"
   ]
  },
  {
   "cell_type": "code",
   "execution_count": 52,
   "metadata": {},
   "outputs": [
    {
     "data": {
      "text/plain": [
       "dict_keys(['ACM', 'DBLP'])"
      ]
     },
     "execution_count": 52,
     "metadata": {},
     "output_type": "execute_result"
    }
   ],
   "source": [
    "train_loader.keys()"
   ]
  },
  {
   "cell_type": "code",
   "execution_count": 53,
   "metadata": {},
   "outputs": [
    {
     "data": {
      "text/plain": [
       "' temp = train_loader[\"ACM\"][0]\\nprint(temp.shape)\\ntemp '"
      ]
     },
     "execution_count": 53,
     "metadata": {},
     "output_type": "execute_result"
    }
   ],
   "source": [
    "\"\"\" temp = train_loader[\"ACM\"][0]\n",
    "print(temp.shape)\n",
    "temp \"\"\""
   ]
  },
  {
   "cell_type": "code",
   "execution_count": 54,
   "metadata": {},
   "outputs": [
    {
     "data": {
      "text/plain": [
       "' temp = train_loader[\"DBLP\"][0]\\nprint(temp.shape)\\ntemp '"
      ]
     },
     "execution_count": 54,
     "metadata": {},
     "output_type": "execute_result"
    }
   ],
   "source": [
    "\"\"\" temp = train_loader[\"DBLP\"][0]\n",
    "print(temp.shape)\n",
    "temp \"\"\""
   ]
  },
  {
   "cell_type": "code",
   "execution_count": 55,
   "metadata": {},
   "outputs": [
    {
     "data": {
      "text/plain": [
       "GAE(\n",
       "  (base_gcn): GIN(\n",
       "    (in_proj): Linear(in_features=17, out_features=1024, bias=True)\n",
       "    (convs): ModuleList(\n",
       "      (0-13): 14 x GINConv(\n",
       "        (linear): Linear(in_features=1041, out_features=1024, bias=True)\n",
       "      )\n",
       "    )\n",
       "    (out_proj): Linear(in_features=15360, out_features=1024, bias=True)\n",
       "  )\n",
       ")"
      ]
     },
     "execution_count": 55,
     "metadata": {},
     "output_type": "execute_result"
    }
   ],
   "source": [
    "model = GAE(NUM_HIDDEN_LAYERS,\n",
    "            input_dim,\n",
    "            HIDDEN_DIM,\n",
    "            output_feature_size, activation=F.relu,\n",
    "            use_input_augmentation=use_input_augmentation,\n",
    "            use_output_augmentation=use_output_augmentation,\n",
    "            encoder=encoder).to(device)\n",
    "model"
   ]
  },
  {
   "cell_type": "code",
   "execution_count": 56,
   "metadata": {},
   "outputs": [
    {
     "name": "stdout",
     "output_type": "stream",
     "text": [
      "Generating training features\n"
     ]
    }
   ],
   "source": [
    "print(\"Generating training features\")\n"
   ]
  },
  {
   "cell_type": "code",
   "execution_count": 57,
   "metadata": {},
   "outputs": [
    {
     "name": "stdout",
     "output_type": "stream",
     "text": [
      "Fitting model\n"
     ]
    },
    {
     "name": "stderr",
     "output_type": "stream",
     "text": [
      "100%|██████████| 100/100 [05:25<00:00,  3.25s/it]\n"
     ]
    }
   ],
   "source": [
    "print(\"Fitting model\")\n",
    "# fit_GAE_real(data, len(train_set) * (1 + 1), model, epoch, train_loader, train_features, device, lr,test_pairs)\n",
    "# fit_GAE_real(data, no_samples, GAE, epoch, train_loader, train_features, device, lr, test_pairs):\n",
    "\n",
    "no_samples = len(train_set) * (1 + 1)\n",
    "GAE = model\n",
    "# ---\n",
    "\n",
    "best_hitAtOne = 0\n",
    "best_hitAtFive = 0\n",
    "best_hitAtTen = 0\n",
    "best_hitAtFifty = 0\n",
    "optimizer = Adam(GAE.parameters(), lr=lr, weight_decay=5e-4)\n",
    "\n",
    "for step in tqdm(range(epoch)):\n",
    "    loss = 0\n",
    "    \n",
    "    for dataset in train_loader.keys():\n",
    "        S = train_loader[dataset][0]\n",
    "        initial_features = train_features[dataset]\n",
    "        \n",
    "        for i in range(len(train_loader[dataset])):\n",
    "            adj_tensor = train_loader[dataset][i]\n",
    "            adj = coo_matrix(adj_tensor.numpy())\n",
    "            adj_norm = preprocess_graph(adj)\n",
    "            pos_weight = float(adj.shape[0] * adj.shape[0] - adj.sum()) / adj.sum()\n",
    "            norm = adj.shape[0] * adj.shape[0] / float((adj.shape[0] * adj.shape[0] - adj.sum()) * 2)\n",
    "\n",
    "            adj_label = coo_matrix(S.numpy())\n",
    "            adj_label = sparse_to_tuple(adj_label)\n",
    "\n",
    "            adj_norm = torch.sparse.FloatTensor(torch.LongTensor(adj_norm[0].T),\n",
    "                                                torch.FloatTensor(adj_norm[1]),\n",
    "                                                torch.Size(adj_norm[2])).to(device)\n",
    "            adj_label = torch.sparse.FloatTensor(torch.LongTensor(adj_label[0].T),\n",
    "                                                torch.FloatTensor(adj_label[1]),\n",
    "                                                torch.Size(adj_label[2])).to(device)\n",
    "\n",
    "            initial_feature = initial_features[i].to(device)\n",
    "\n",
    "            weight_mask = adj_label.to_dense().view(-1) == 1\n",
    "            weight_tensor = torch.ones(weight_mask.size(0))\n",
    "            weight_tensor[weight_mask] = pos_weight\n",
    "            weight_tensor = weight_tensor.to(device)\n",
    "            z = GAE(initial_feature, adj_norm)\n",
    "            A_pred = torch.sigmoid(torch.matmul(z,z.t()))\n",
    "            loss += norm * F.binary_cross_entropy(A_pred.view(-1), adj_label.to_dense().view(-1),\n",
    "                                                        weight=weight_tensor)\n",
    "    \n",
    "    optimizer.zero_grad()\n",
    "    loss = loss / no_samples\n",
    "    loss.backward()\n",
    "    optimizer.step()\n",
    "\n",
    "    # ---\n",
    "    keys = list(train_loader.keys())\n",
    "    S1 = train_loader[keys[0]][0]\n",
    "    S2 = train_loader[keys[1]][0]\n",
    "    \n",
    "    adj_S1 = coo_matrix(S1.numpy())\n",
    "    adj_norm_1 = preprocess_graph(adj_S1)\n",
    "    adj_norm_1 = torch.sparse.FloatTensor(torch.LongTensor(adj_norm_1[0].T),\n",
    "                                            torch.FloatTensor(adj_norm_1[1]),\n",
    "                                            torch.Size(adj_norm_1[2])).to(device)\n",
    "    adj_S2 = coo_matrix(S2.numpy())\n",
    "    adj_norm_2 = preprocess_graph(adj_S2)\n",
    "    adj_norm_2 = torch.sparse.FloatTensor(torch.LongTensor(adj_norm_2[0].T),\n",
    "                                            torch.FloatTensor(adj_norm_2[1]),\n",
    "                                            torch.Size(adj_norm_2[2])).to(device)\n",
    "    if (data == \"ACM_DBLP\"):\n",
    "        S1_feat = train_features[\"ACM\"][0]\n",
    "        S2_feat = train_features[\"DBLP\"][0]\n",
    "    elif (data == \"Douban Online_Offline\"):\n",
    "        S1_feat = train_features[\"Online\"][0]\n",
    "        S2_feat = train_features[\"Offline\"][0]\n",
    "\n",
    "    # ---\n",
    "    S1_emb = GAE(S1_feat.to(device), adj_norm_1).detach()\n",
    "    S2_emb = GAE(S2_feat.to(device), adj_norm_2).detach()\n",
    "\n",
    "    D = torch.cdist(S1_emb, S2_emb, 2) # Euclidean distance\n",
    "    \n",
    "    if (data == \"ACM_DBLP\"):\n",
    "        test_idx = test_pairs[:, 0].astype(np.int32)\n",
    "        labels = test_pairs[:, 1].astype(np.int32)\n",
    "    elif (data == \"Douban Online_Offline\"):\n",
    "        test_idx = test_pairs[0, :].astype(np.int32)\n",
    "        labels = test_pairs[1, :].astype(np.int32)\n",
    "    \n",
    "    hitAtOne = 0\n",
    "    hitAtFive = 0\n",
    "    hitAtTen = 0\n",
    "    hitAtFifty = 0\n",
    "    hitAtHundred = 0\n",
    "    \n",
    "    # test\n",
    "    \n",
    "    for i in range(len(test_idx)): # here\n",
    "        dist_list = D[test_idx[i]]\n",
    "        # print(i, test_idx[i], dist_list)\n",
    "        sorted_neighbors = torch.argsort(dist_list).cpu()\n",
    "        label = labels[i]\n",
    "        \n",
    "        \"\"\" if i == 0:\n",
    "            print(label, sorted_neighbors[0].item(), sorted_neighbors)\n",
    "            # 6829 6829 tensor([6829, 3102,  601,  ..., 7878, 9701, 2044]) \"\"\"\n",
    "        \n",
    "        for j in range(100):\n",
    "            if (sorted_neighbors[j].item() == label):\n",
    "                if (j == 0):\n",
    "                    hitAtOne += 1\n",
    "                    hitAtFive += 1\n",
    "                    hitAtTen += 1\n",
    "                    hitAtFifty += 1\n",
    "                    hitAtHundred += 1\n",
    "                    break\n",
    "                elif (j <= 4):\n",
    "                    hitAtFive += 1\n",
    "                    hitAtTen += 1\n",
    "                    hitAtFifty += 1\n",
    "                    hitAtHundred += 1\n",
    "                    break\n",
    "                elif (j <= 9):\n",
    "                    hitAtTen += 1\n",
    "                    hitAtFifty += 1\n",
    "                    hitAtHundred += 1\n",
    "                    break\n",
    "                elif (j <= 49):\n",
    "                    hitAtFifty += 1\n",
    "                    hitAtHundred += 1\n",
    "                    break\n",
    "                elif (j <= 100):\n",
    "                    hitAtHundred += 1\n",
    "                    break\n",
    "    \n",
    "    cur_hitAtOne = hitAtOne / len(test_idx)\n",
    "    cur_hitAtFive = hitAtFive / len(test_idx)\n",
    "    cur_hitAtTen = hitAtTen / len(test_idx)\n",
    "    cur_hitAtFifty = hitAtFifty / len(test_idx)\n",
    "\n",
    "    if(cur_hitAtOne > best_hitAtOne): best_hitAtOne = cur_hitAtOne\n",
    "    if (cur_hitAtFive > best_hitAtFive): best_hitAtFive = cur_hitAtFive\n",
    "    if (cur_hitAtTen > best_hitAtTen): best_hitAtTen = cur_hitAtTen\n",
    "    if (cur_hitAtFifty > best_hitAtFifty): best_hitAtFifty = cur_hitAtFifty"
   ]
  },
  {
   "cell_type": "code",
   "execution_count": 64,
   "metadata": {},
   "outputs": [
    {
     "name": "stdout",
     "output_type": "stream",
     "text": [
      "The best results achieved:\n",
      "Hit@1: 0.7387351778656126\n",
      "Hit@5: 0.9132411067193675\n",
      "Hit@10: 0.9517786561264822\n",
      "Hit@50: 0.9806324110671937\n"
     ]
    }
   ],
   "source": [
    "print(\"The best results achieved:\")\n",
    "print(\"Hit@1: \", end=\"\")\n",
    "print(best_hitAtOne)\n",
    "print(\"Hit@5: \", end=\"\")\n",
    "print(best_hitAtFive)\n",
    "print(\"Hit@10: \", end=\"\")\n",
    "print(best_hitAtTen)\n",
    "print(\"Hit@50: \", end=\"\")\n",
    "print(best_hitAtFifty)"
   ]
  },
  {
   "cell_type": "code",
   "execution_count": 65,
   "metadata": {},
   "outputs": [
    {
     "data": {
      "text/plain": [
       "torch.Size([9872, 9916])"
      ]
     },
     "execution_count": 65,
     "metadata": {},
     "output_type": "execute_result"
    }
   ],
   "source": [
    "D.shape"
   ]
  },
  {
   "cell_type": "code",
   "execution_count": 66,
   "metadata": {},
   "outputs": [
    {
     "data": {
      "text/plain": [
       "tensor([[18.1876, 19.0532, 17.9709,  ..., 18.4254, 18.0560, 17.9208],\n",
       "        [16.1168, 15.2768, 15.7032,  ..., 16.3174, 15.9581, 15.8029],\n",
       "        [21.1922, 21.6910, 21.0044,  ..., 21.3225, 20.9596, 20.9315],\n",
       "        ...,\n",
       "        [ 2.3519,  4.3234,  1.1759,  ...,  3.5726,  2.2932,  1.9049],\n",
       "        [ 2.0501,  4.4289,  1.9376,  ...,  3.5604,  1.7815,  0.4585],\n",
       "        [ 1.7196,  4.5107,  1.9588,  ...,  3.5422,  1.4545,  1.3193]],\n",
       "       device='cuda:0')"
      ]
     },
     "execution_count": 66,
     "metadata": {},
     "output_type": "execute_result"
    }
   ],
   "source": [
    "D"
   ]
  },
  {
   "cell_type": "markdown",
   "metadata": {},
   "source": [
    "Truth"
   ]
  },
  {
   "cell_type": "code",
   "execution_count": 67,
   "metadata": {},
   "outputs": [
    {
     "name": "stdout",
     "output_type": "stream",
     "text": [
      "ACM_DBLP\n",
      "(5060, 2)\n",
      "[[   0 6829]\n",
      " [   2 3102]\n",
      " [   3 3584]\n",
      " ...\n",
      " [9841 3392]\n",
      " [9850  306]\n",
      " [9868 9011]]\n"
     ]
    }
   ],
   "source": [
    "print(data)\n",
    "print(test_pairs.shape)\n",
    "print(test_pairs)"
   ]
  },
  {
   "cell_type": "code",
   "execution_count": 68,
   "metadata": {},
   "outputs": [
    {
     "name": "stdout",
     "output_type": "stream",
     "text": [
      "(5060, 2)\n"
     ]
    },
    {
     "data": {
      "text/plain": [
       "array([[3615,    1],\n",
       "       [1302,    2],\n",
       "       [ 466,    3],\n",
       "       ...,\n",
       "       [6148, 9907],\n",
       "       [3826, 9911],\n",
       "       [7275, 9915]], dtype=int32)"
      ]
     },
     "execution_count": 68,
     "metadata": {},
     "output_type": "execute_result"
    }
   ],
   "source": [
    "if (data == \"ACM_DBLP\"):\n",
    "    test_pairs_ = test_pairs\n",
    "elif (data == \"Douban Online_Offline\"):\n",
    "    test_pairs_ = test_pairs.T\n",
    "    \n",
    "truth = test_pairs_[test_pairs_[:, 1].argsort()]\n",
    "print(truth.shape)\n",
    "truth"
   ]
  },
  {
   "cell_type": "markdown",
   "metadata": {},
   "source": [
    "Option 0"
   ]
  },
  {
   "cell_type": "code",
   "execution_count": 69,
   "metadata": {},
   "outputs": [
    {
     "name": "stdout",
     "output_type": "stream",
     "text": [
      "0\n",
      "1\n"
     ]
    }
   ],
   "source": [
    "def hungarian(D):\n",
    "    print(\"0\")\n",
    "    P = torch.zeros_like(D)\n",
    "    matrix = D.tolist()\n",
    "    m = Munkres()\n",
    "    print(\"1\")\n",
    "    indexes = m.compute(matrix)\n",
    "    print(\"2\")\n",
    "    total = 0\n",
    "    for r, c in tqdm(indexes):\n",
    "        print(r)\n",
    "        P[r][c] = 1\n",
    "        total += matrix[r][c]\n",
    "    return P.t()\n",
    "\n",
    "P = hungarian(D)\n",
    "print(P.shape)\n",
    "# online_offline: 215m\n",
    "P"
   ]
  },
  {
   "cell_type": "code",
   "execution_count": null,
   "metadata": {},
   "outputs": [
    {
     "data": {
      "text/plain": [
       "array([[0., 0., 0., ..., 0., 0., 0.],\n",
       "       [0., 0., 0., ..., 0., 0., 0.],\n",
       "       [0., 0., 0., ..., 0., 0., 0.],\n",
       "       ...,\n",
       "       [0., 0., 0., ..., 0., 0., 0.],\n",
       "       [0., 0., 0., ..., 0., 0., 0.],\n",
       "       [0., 0., 0., ..., 0., 0., 0.]], dtype=float32)"
      ]
     },
     "execution_count": 41,
     "metadata": {},
     "output_type": "execute_result"
    }
   ],
   "source": [
    "P"
   ]
  },
  {
   "cell_type": "code",
   "execution_count": 40,
   "metadata": {},
   "outputs": [
    {
     "ename": "AttributeError",
     "evalue": "'numpy.ndarray' object has no attribute 'cpu'",
     "output_type": "error",
     "traceback": [
      "\u001b[0;31m---------------------------------------------------------------------------\u001b[0m",
      "\u001b[0;31mAttributeError\u001b[0m                            Traceback (most recent call last)",
      "Cell \u001b[0;32mIn[40], line 3\u001b[0m\n\u001b[1;32m      1\u001b[0m \u001b[38;5;66;03m# save\u001b[39;00m\n\u001b[0;32m----> 3\u001b[0m X \u001b[38;5;241m=\u001b[39m \u001b[43mP\u001b[49m\u001b[38;5;241;43m.\u001b[39;49m\u001b[43mcpu\u001b[49m()\u001b[38;5;241m.\u001b[39mnumpy()\n\u001b[1;32m      4\u001b[0m np\u001b[38;5;241m.\u001b[39msave(\u001b[38;5;124m\"\u001b[39m\u001b[38;5;124mP_hungarian_Online_Offline\u001b[39m\u001b[38;5;124m\"\u001b[39m, X)\n",
      "\u001b[0;31mAttributeError\u001b[0m: 'numpy.ndarray' object has no attribute 'cpu'"
     ]
    }
   ],
   "source": [
    "# save\n",
    "\n",
    "X = P.cpu().numpy()\n",
    "np.save(\"P_hungarian_ACM_DBLP\", X)"
   ]
  },
  {
   "cell_type": "code",
   "execution_count": 24,
   "metadata": {},
   "outputs": [
    {
     "data": {
      "text/plain": [
       "array([[0., 0., 0., ..., 0., 0., 0.],\n",
       "       [0., 0., 0., ..., 0., 0., 0.],\n",
       "       [0., 0., 0., ..., 0., 0., 0.],\n",
       "       ...,\n",
       "       [0., 0., 0., ..., 0., 0., 0.],\n",
       "       [0., 0., 0., ..., 0., 0., 0.],\n",
       "       [0., 0., 0., ..., 0., 0., 0.]], dtype=float32)"
      ]
     },
     "execution_count": 24,
     "metadata": {},
     "output_type": "execute_result"
    }
   ],
   "source": [
    "# load\n",
    "\n",
    "P = np.load(\"P_hungarian.npy\")\n",
    "P"
   ]
  },
  {
   "cell_type": "code",
   "execution_count": 27,
   "metadata": {},
   "outputs": [
    {
     "name": "stdout",
     "output_type": "stream",
     "text": [
      "1118\n"
     ]
    },
    {
     "data": {
      "text/plain": [
       "array([[2952,    0],\n",
       "       [3417,    1],\n",
       "       [2013,    2],\n",
       "       ...,\n",
       "       [1010, 1115],\n",
       "       [2330, 1116],\n",
       "       [3646, 1117]])"
      ]
     },
     "execution_count": 27,
     "metadata": {},
     "output_type": "execute_result"
    }
   ],
   "source": [
    "# from Hungarian (source code)\n",
    "option0 = []\n",
    "m, n = P.shape\n",
    "for i in range(m):\n",
    "    for j in range(n):\n",
    "        if P[i][j] == 1:\n",
    "            option0.append([j, i]) # S, S_hat\n",
    "option0 = np.array(option0)\n",
    "print(len(option0))\n",
    "option0"
   ]
  },
  {
   "cell_type": "code",
   "execution_count": 28,
   "metadata": {},
   "outputs": [
    {
     "name": "stdout",
     "output_type": "stream",
     "text": [
      "255\n",
      "0.22808586762075134\n"
     ]
    },
    {
     "data": {
      "text/plain": [
       "[[2952, 0],\n",
       " [3417, 1],\n",
       " [2013, 2],\n",
       " [1581, 6],\n",
       " [1217, 8],\n",
       " [963, 21],\n",
       " [2254, 26],\n",
       " [1662, 29],\n",
       " [1563, 44],\n",
       " [1348, 46],\n",
       " [2538, 49],\n",
       " [2072, 50],\n",
       " [2399, 57],\n",
       " [731, 59],\n",
       " [834, 60],\n",
       " [341, 64],\n",
       " [2516, 68],\n",
       " [3274, 70],\n",
       " [835, 79],\n",
       " [3353, 87],\n",
       " [3169, 91],\n",
       " [2252, 94],\n",
       " [2232, 105],\n",
       " [3654, 108],\n",
       " [272, 115],\n",
       " [275, 117],\n",
       " [1672, 118],\n",
       " [1673, 122],\n",
       " [1945, 129],\n",
       " [3492, 134],\n",
       " [1378, 136],\n",
       " [3191, 145],\n",
       " [3034, 155],\n",
       " [2955, 162],\n",
       " [2275, 167],\n",
       " [1553, 168],\n",
       " [2186, 170],\n",
       " [2343, 176],\n",
       " [1510, 180],\n",
       " [1126, 190],\n",
       " [19, 191],\n",
       " [2194, 195],\n",
       " [1535, 196],\n",
       " [240, 205],\n",
       " [3181, 208],\n",
       " [2476, 209],\n",
       " [2452, 211],\n",
       " [942, 223],\n",
       " [936, 224],\n",
       " [3289, 226],\n",
       " [3608, 232],\n",
       " [3652, 234],\n",
       " [2416, 236],\n",
       " [670, 241],\n",
       " [1265, 243],\n",
       " [727, 252],\n",
       " [2972, 258],\n",
       " [3313, 268],\n",
       " [3673, 269],\n",
       " [380, 272],\n",
       " [385, 273],\n",
       " [2797, 274],\n",
       " [3257, 278],\n",
       " [2684, 286],\n",
       " [2666, 291],\n",
       " [1966, 292],\n",
       " [1106, 295],\n",
       " [1784, 300],\n",
       " [320, 303],\n",
       " [1251, 308],\n",
       " [266, 314],\n",
       " [3669, 315],\n",
       " [830, 318],\n",
       " [2813, 324],\n",
       " [1049, 326],\n",
       " [2274, 328],\n",
       " [3470, 329],\n",
       " [1314, 331],\n",
       " [389, 335],\n",
       " [2940, 336],\n",
       " [3573, 337],\n",
       " [1104, 342],\n",
       " [1277, 343],\n",
       " [396, 345],\n",
       " [2207, 349],\n",
       " [708, 356],\n",
       " [689, 360],\n",
       " [3161, 367],\n",
       " [152, 379],\n",
       " [147, 382],\n",
       " [2258, 384],\n",
       " [450, 387],\n",
       " [451, 388],\n",
       " [2595, 401],\n",
       " [1733, 404],\n",
       " [1687, 408],\n",
       " [2290, 410],\n",
       " [537, 417],\n",
       " [2691, 425],\n",
       " [847, 430],\n",
       " [3343, 434],\n",
       " [331, 439],\n",
       " [1679, 440],\n",
       " [3865, 450],\n",
       " [315, 456],\n",
       " [3491, 460],\n",
       " [1628, 462],\n",
       " [2463, 472],\n",
       " [2985, 474],\n",
       " [1229, 476],\n",
       " [3002, 477],\n",
       " [1915, 479],\n",
       " [2762, 480],\n",
       " [3562, 483],\n",
       " [2967, 484],\n",
       " [1284, 485],\n",
       " [3186, 486],\n",
       " [1085, 488],\n",
       " [3792, 491],\n",
       " [3204, 495],\n",
       " [1391, 507],\n",
       " [1696, 508],\n",
       " [563, 510],\n",
       " [1361, 518],\n",
       " [2446, 519],\n",
       " [2169, 525],\n",
       " [948, 531],\n",
       " [2026, 534],\n",
       " [1800, 539],\n",
       " [3226, 541],\n",
       " [2505, 547],\n",
       " [2129, 551],\n",
       " [2354, 567],\n",
       " [607, 570],\n",
       " [3316, 580],\n",
       " [1801, 582],\n",
       " [3833, 584],\n",
       " [3378, 586],\n",
       " [3048, 591],\n",
       " [1121, 592],\n",
       " [1907, 598],\n",
       " [3277, 605],\n",
       " [3291, 607],\n",
       " [3117, 613],\n",
       " [2418, 614],\n",
       " [2309, 625],\n",
       " [2019, 631],\n",
       " [3369, 634],\n",
       " [1042, 637],\n",
       " [3780, 656],\n",
       " [1599, 657],\n",
       " [2894, 660],\n",
       " [871, 663],\n",
       " [823, 664],\n",
       " [1479, 665],\n",
       " [1626, 670],\n",
       " [2427, 671],\n",
       " [2327, 674],\n",
       " [733, 679],\n",
       " [1619, 681],\n",
       " [418, 684],\n",
       " [3078, 698],\n",
       " [1113, 708],\n",
       " [1396, 709],\n",
       " [3130, 713],\n",
       " [3029, 714],\n",
       " [1747, 718],\n",
       " [3886, 721],\n",
       " [3823, 722],\n",
       " [3773, 725],\n",
       " [2549, 726],\n",
       " [1470, 731],\n",
       " [2448, 733],\n",
       " [1698, 740],\n",
       " [3105, 745],\n",
       " [2932, 749],\n",
       " [1556, 750],\n",
       " [249, 752],\n",
       " [230, 753],\n",
       " [1827, 754],\n",
       " [2858, 761],\n",
       " [1182, 764],\n",
       " [1917, 768],\n",
       " [1616, 773],\n",
       " [1598, 777],\n",
       " [2479, 779],\n",
       " [947, 782],\n",
       " [2175, 783],\n",
       " [2535, 795],\n",
       " [345, 796],\n",
       " [2460, 799],\n",
       " [2746, 801],\n",
       " [3735, 803],\n",
       " [1935, 806],\n",
       " [1059, 810],\n",
       " [600, 811],\n",
       " [1002, 814],\n",
       " [2628, 818],\n",
       " [3537, 819],\n",
       " [2239, 821],\n",
       " [44, 822],\n",
       " [3511, 836],\n",
       " [520, 837],\n",
       " [3529, 840],\n",
       " [992, 841],\n",
       " [2411, 842],\n",
       " [2593, 851],\n",
       " [2759, 852],\n",
       " [809, 854],\n",
       " [1837, 862],\n",
       " [795, 864],\n",
       " [3148, 880],\n",
       " [3725, 890],\n",
       " [2211, 894],\n",
       " [2206, 895],\n",
       " [3761, 907],\n",
       " [3460, 908],\n",
       " [2557, 912],\n",
       " [1293, 913],\n",
       " [1642, 921],\n",
       " [3644, 927],\n",
       " [3151, 928],\n",
       " [3602, 932],\n",
       " [1223, 936],\n",
       " [859, 944],\n",
       " [3607, 953],\n",
       " [2520, 963],\n",
       " [2378, 966],\n",
       " [1029, 976],\n",
       " [3297, 977],\n",
       " [517, 985],\n",
       " [1623, 996],\n",
       " [1843, 997],\n",
       " [306, 999],\n",
       " [1299, 1024],\n",
       " [1431, 1031],\n",
       " [921, 1037],\n",
       " [704, 1039],\n",
       " [419, 1047],\n",
       " [2744, 1051],\n",
       " [1338, 1052],\n",
       " [640, 1054],\n",
       " [3629, 1058],\n",
       " [2482, 1059],\n",
       " [1932, 1062],\n",
       " [445, 1064],\n",
       " [231, 1071],\n",
       " [460, 1077],\n",
       " [2891, 1081],\n",
       " [3567, 1084],\n",
       " [3243, 1085],\n",
       " [3282, 1090],\n",
       " [1336, 1095],\n",
       " [3505, 1110],\n",
       " [1010, 1115]]"
      ]
     },
     "execution_count": 28,
     "metadata": {},
     "output_type": "execute_result"
    }
   ],
   "source": [
    "matching = test_matching(truth, option0)\n",
    "print(len(matching))\n",
    "print(len(matching) / len(truth))\n",
    "matching"
   ]
  },
  {
   "cell_type": "markdown",
   "metadata": {},
   "source": [
    "Option 1"
   ]
  },
  {
   "cell_type": "code",
   "execution_count": 29,
   "metadata": {},
   "outputs": [],
   "source": [
    "import numpy as np\n",
    "from scipy.optimize import linear_sum_assignment\n",
    "\n",
    "def hungarian_algorithm(cost_matrix):\n",
    "    # Use the linear_sum_assignment method from scipy\n",
    "    row_ind, col_ind = linear_sum_assignment(cost_matrix)\n",
    "    \n",
    "    # Total cost\n",
    "    total_cost = cost_matrix[row_ind, col_ind].sum()\n",
    "    \n",
    "    # The assignments are returned as (row, col) pairs\n",
    "    assignments = list(zip(row_ind, col_ind))\n",
    "    \n",
    "    return total_cost, assignments\n",
    "\n",
    "total_cost, assignments = hungarian_algorithm(D.cpu())"
   ]
  },
  {
   "cell_type": "code",
   "execution_count": 30,
   "metadata": {},
   "outputs": [
    {
     "name": "stdout",
     "output_type": "stream",
     "text": [
      "(1118, 2)\n"
     ]
    },
    {
     "data": {
      "text/plain": [
       "array([[2952,    0],\n",
       "       [3417,    1],\n",
       "       [2013,    2],\n",
       "       ...,\n",
       "       [1010, 1115],\n",
       "       [2330, 1116],\n",
       "       [3646, 1117]])"
      ]
     },
     "execution_count": 30,
     "metadata": {},
     "output_type": "execute_result"
    }
   ],
   "source": [
    "option1 = np.array(assignments)\n",
    "option1 = option1[option1[:, 1].argsort()]\n",
    "print(option1.shape)\n",
    "option1"
   ]
  },
  {
   "cell_type": "code",
   "execution_count": 32,
   "metadata": {},
   "outputs": [
    {
     "name": "stdout",
     "output_type": "stream",
     "text": [
      "249\n",
      "0.22271914132379247\n"
     ]
    },
    {
     "data": {
      "text/plain": [
       "[[2952, 0],\n",
       " [3417, 1],\n",
       " [2013, 2],\n",
       " [1581, 6],\n",
       " [1217, 8],\n",
       " [963, 21],\n",
       " [2254, 26],\n",
       " [1662, 29],\n",
       " [1563, 44],\n",
       " [1348, 46],\n",
       " [2538, 49],\n",
       " [2072, 50],\n",
       " [2406, 54],\n",
       " [2399, 57],\n",
       " [731, 59],\n",
       " [834, 60],\n",
       " [341, 64],\n",
       " [2516, 68],\n",
       " [3274, 70],\n",
       " [835, 79],\n",
       " [3353, 87],\n",
       " [3169, 91],\n",
       " [2252, 94],\n",
       " [2038, 104],\n",
       " [2232, 105],\n",
       " [3654, 108],\n",
       " [272, 115],\n",
       " [275, 117],\n",
       " [1672, 118],\n",
       " [1673, 122],\n",
       " [1945, 129],\n",
       " [3492, 134],\n",
       " [1378, 136],\n",
       " [3191, 145],\n",
       " [3034, 155],\n",
       " [2275, 167],\n",
       " [1553, 168],\n",
       " [2186, 170],\n",
       " [2343, 176],\n",
       " [1510, 180],\n",
       " [1126, 190],\n",
       " [19, 191],\n",
       " [2194, 195],\n",
       " [1535, 196],\n",
       " [240, 205],\n",
       " [3181, 208],\n",
       " [2476, 209],\n",
       " [2452, 211],\n",
       " [942, 223],\n",
       " [936, 224],\n",
       " [3289, 226],\n",
       " [3608, 232],\n",
       " [3652, 234],\n",
       " [2416, 236],\n",
       " [670, 241],\n",
       " [1265, 243],\n",
       " [727, 252],\n",
       " [2972, 258],\n",
       " [3313, 268],\n",
       " [3673, 269],\n",
       " [380, 272],\n",
       " [385, 273],\n",
       " [2797, 274],\n",
       " [3257, 278],\n",
       " [2684, 286],\n",
       " [2666, 291],\n",
       " [1966, 292],\n",
       " [1106, 295],\n",
       " [1784, 300],\n",
       " [320, 303],\n",
       " [266, 314],\n",
       " [3669, 315],\n",
       " [2813, 324],\n",
       " [1049, 326],\n",
       " [2274, 328],\n",
       " [3470, 329],\n",
       " [1314, 331],\n",
       " [389, 335],\n",
       " [2940, 336],\n",
       " [3573, 337],\n",
       " [1104, 342],\n",
       " [1277, 343],\n",
       " [396, 345],\n",
       " [2207, 349],\n",
       " [708, 356],\n",
       " [689, 360],\n",
       " [1651, 363],\n",
       " [3161, 367],\n",
       " [152, 379],\n",
       " [147, 382],\n",
       " [2258, 384],\n",
       " [450, 387],\n",
       " [451, 388],\n",
       " [2595, 401],\n",
       " [1733, 404],\n",
       " [1687, 408],\n",
       " [2290, 410],\n",
       " [537, 417],\n",
       " [847, 430],\n",
       " [3343, 434],\n",
       " [331, 439],\n",
       " [1679, 440],\n",
       " [3865, 450],\n",
       " [315, 456],\n",
       " [3491, 460],\n",
       " [1628, 462],\n",
       " [2463, 472],\n",
       " [2985, 474],\n",
       " [1229, 476],\n",
       " [3002, 477],\n",
       " [1915, 479],\n",
       " [2762, 480],\n",
       " [3562, 483],\n",
       " [2967, 484],\n",
       " [1284, 485],\n",
       " [3186, 486],\n",
       " [1085, 488],\n",
       " [3792, 491],\n",
       " [3204, 495],\n",
       " [1391, 507],\n",
       " [1696, 508],\n",
       " [563, 510],\n",
       " [1361, 518],\n",
       " [2446, 519],\n",
       " [2169, 525],\n",
       " [948, 531],\n",
       " [2026, 534],\n",
       " [1800, 539],\n",
       " [3226, 541],\n",
       " [2505, 547],\n",
       " [2129, 551],\n",
       " [2354, 567],\n",
       " [607, 570],\n",
       " [3316, 580],\n",
       " [1801, 582],\n",
       " [3833, 584],\n",
       " [3378, 586],\n",
       " [3048, 591],\n",
       " [1121, 592],\n",
       " [1907, 598],\n",
       " [3277, 605],\n",
       " [3291, 607],\n",
       " [3117, 613],\n",
       " [2309, 625],\n",
       " [2019, 631],\n",
       " [3369, 634],\n",
       " [1042, 637],\n",
       " [3780, 656],\n",
       " [1599, 657],\n",
       " [2894, 660],\n",
       " [871, 663],\n",
       " [823, 664],\n",
       " [1479, 665],\n",
       " [1626, 670],\n",
       " [2427, 671],\n",
       " [2327, 674],\n",
       " [733, 679],\n",
       " [1619, 681],\n",
       " [418, 684],\n",
       " [3078, 698],\n",
       " [1113, 708],\n",
       " [1396, 709],\n",
       " [3130, 713],\n",
       " [3029, 714],\n",
       " [1747, 718],\n",
       " [3886, 721],\n",
       " [3823, 722],\n",
       " [3773, 725],\n",
       " [2549, 726],\n",
       " [1470, 731],\n",
       " [2448, 733],\n",
       " [1698, 740],\n",
       " [3105, 745],\n",
       " [2932, 749],\n",
       " [1556, 750],\n",
       " [249, 752],\n",
       " [230, 753],\n",
       " [1827, 754],\n",
       " [2858, 761],\n",
       " [1182, 764],\n",
       " [1616, 773],\n",
       " [1598, 777],\n",
       " [2479, 779],\n",
       " [2175, 783],\n",
       " [2535, 795],\n",
       " [345, 796],\n",
       " [2460, 799],\n",
       " [2746, 801],\n",
       " [3735, 803],\n",
       " [1935, 806],\n",
       " [1059, 810],\n",
       " [600, 811],\n",
       " [1002, 814],\n",
       " [2628, 818],\n",
       " [3537, 819],\n",
       " [44, 822],\n",
       " [3511, 836],\n",
       " [520, 837],\n",
       " [3529, 840],\n",
       " [992, 841],\n",
       " [2411, 842],\n",
       " [2593, 851],\n",
       " [809, 854],\n",
       " [1837, 862],\n",
       " [795, 864],\n",
       " [3148, 880],\n",
       " [3725, 890],\n",
       " [2211, 894],\n",
       " [2206, 895],\n",
       " [3761, 907],\n",
       " [3460, 908],\n",
       " [2557, 912],\n",
       " [1293, 913],\n",
       " [1642, 921],\n",
       " [3644, 927],\n",
       " [3151, 928],\n",
       " [3602, 932],\n",
       " [1223, 936],\n",
       " [859, 944],\n",
       " [3607, 953],\n",
       " [2520, 963],\n",
       " [2378, 966],\n",
       " [1029, 976],\n",
       " [3297, 977],\n",
       " [517, 985],\n",
       " [1843, 997],\n",
       " [306, 999],\n",
       " [1299, 1024],\n",
       " [1431, 1031],\n",
       " [921, 1037],\n",
       " [704, 1039],\n",
       " [419, 1047],\n",
       " [2744, 1051],\n",
       " [1338, 1052],\n",
       " [640, 1054],\n",
       " [3629, 1058],\n",
       " [2482, 1059],\n",
       " [1932, 1062],\n",
       " [445, 1064],\n",
       " [231, 1071],\n",
       " [180, 1072],\n",
       " [460, 1077],\n",
       " [2891, 1081],\n",
       " [3567, 1084],\n",
       " [3243, 1085],\n",
       " [3282, 1090],\n",
       " [1336, 1095],\n",
       " [3505, 1110],\n",
       " [1010, 1115]]"
      ]
     },
     "execution_count": 32,
     "metadata": {},
     "output_type": "execute_result"
    }
   ],
   "source": [
    "matching = test_matching(truth, option1)\n",
    "print(len(matching))\n",
    "print(len(matching) / len(truth))\n",
    "matching"
   ]
  },
  {
   "cell_type": "code",
   "execution_count": null,
   "metadata": {},
   "outputs": [],
   "source": [
    "# build graph\n",
    "def build_graph(adj_norm):\n",
    "    edges = adj_norm.coalesce().indices()\n",
    "\n",
    "    G = nx.from_edgelist(edges.T.cpu().numpy())\n",
    "    G.remove_edges_from(nx.selfloop_edges(G))\n",
    "    print(G.number_of_nodes(), G.number_of_edges())\n",
    "\n",
    "    return G\n",
    "\n",
    "G1 = build_graph(adj_norm_1)\n",
    "G2 = build_graph(adj_norm_2)"
   ]
  },
  {
   "cell_type": "code",
   "execution_count": null,
   "metadata": {},
   "outputs": [],
   "source": [
    "pos1 = nx.spring_layout(G1)\n",
    "pos2 = nx.spring_layout(G2)"
   ]
  },
  {
   "cell_type": "code",
   "execution_count": null,
   "metadata": {},
   "outputs": [],
   "source": [
    "plt.figure(figsize=(16, 8))\n",
    "ax1 = plt.subplot(1, 2, 1)\n",
    "plt.title('Graph 1')\n",
    "nx.draw_networkx(G1, pos=pos1, font_color=\"w\")\n",
    "ax2 = plt.subplot(1, 2, 2)\n",
    "plt.title('Graph 2')\n",
    "nx.draw_networkx(G2, pos=pos2, font_color=\"w\")\n",
    "\n",
    "# add connections\n",
    "for i in range(len(matching)):\n",
    "    con = ConnectionPatch(xyA=pos1[matching[i][0]], xyB=pos2[matching[i][1]], coordsA=ax1.transData, coordsB=ax2.transData, arrowstyle=\"-\", color=\"green\")\n",
    "    ax2.add_artist(con)\n",
    "plt.show()"
   ]
  },
  {
   "cell_type": "markdown",
   "metadata": {},
   "source": [
    "Option 2"
   ]
  },
  {
   "cell_type": "code",
   "execution_count": 33,
   "metadata": {},
   "outputs": [
    {
     "name": "stdout",
     "output_type": "stream",
     "text": [
      "(3906, 1118)\n"
     ]
    },
    {
     "data": {
      "text/plain": [
       "array([[0., 0., 0., ..., 0., 0., 0.],\n",
       "       [0., 0., 0., ..., 0., 0., 0.],\n",
       "       [0., 0., 0., ..., 0., 0., 0.],\n",
       "       ...,\n",
       "       [0., 0., 0., ..., 0., 0., 0.],\n",
       "       [0., 0., 0., ..., 0., 0., 0.],\n",
       "       [0., 0., 0., ..., 0., 0., 0.]], dtype=float32)"
      ]
     },
     "execution_count": 33,
     "metadata": {},
     "output_type": "execute_result"
    }
   ],
   "source": [
    "import pygmtools as pygm\n",
    "\n",
    "X = pygm.hungarian(D.cpu().numpy())\n",
    "print(X.shape)\n",
    "X"
   ]
  },
  {
   "cell_type": "code",
   "execution_count": 34,
   "metadata": {},
   "outputs": [
    {
     "name": "stdout",
     "output_type": "stream",
     "text": [
      "(1118, 2)\n"
     ]
    },
    {
     "data": {
      "text/plain": [
       "array([[ 801,    0],\n",
       "       [ 427,    1],\n",
       "       [2072,    2],\n",
       "       ...,\n",
       "       [ 583, 1115],\n",
       "       [1854, 1116],\n",
       "       [2703, 1117]])"
      ]
     },
     "execution_count": 34,
     "metadata": {},
     "output_type": "execute_result"
    }
   ],
   "source": [
    "indices = []\n",
    "row, col = X.shape\n",
    "for i in range(row):\n",
    "    for j in range(col):\n",
    "        if X[i][j] == 1:\n",
    "            indices.append([i, j])\n",
    "option2 = np.array(indices)\n",
    "option2 = option2[option2[:, 1].argsort()]\n",
    "print(option2.shape)\n",
    "option2"
   ]
  },
  {
   "cell_type": "code",
   "execution_count": 35,
   "metadata": {},
   "outputs": [
    {
     "name": "stdout",
     "output_type": "stream",
     "text": [
      "0\n",
      "0.0\n"
     ]
    },
    {
     "data": {
      "text/plain": [
       "[]"
      ]
     },
     "execution_count": 35,
     "metadata": {},
     "output_type": "execute_result"
    }
   ],
   "source": [
    "matching = test_matching(truth, option2)\n",
    "print(len(matching))\n",
    "print(len(matching) / len(truth))\n",
    "matching"
   ]
  },
  {
   "cell_type": "markdown",
   "metadata": {},
   "source": [
    "Option 3"
   ]
  },
  {
   "cell_type": "code",
   "execution_count": 36,
   "metadata": {},
   "outputs": [
    {
     "name": "stdout",
     "output_type": "stream",
     "text": [
      "(3906, 2)\n"
     ]
    },
    {
     "data": {
      "text/plain": [
       "array([[2952,    0],\n",
       "       [3639,    0],\n",
       "       [2112,    0],\n",
       "       ...,\n",
       "       [2046, 1115],\n",
       "       [1010, 1115],\n",
       "       [ 529, 1117]])"
      ]
     },
     "execution_count": 36,
     "metadata": {},
     "output_type": "execute_result"
    }
   ],
   "source": [
    "indices = []\n",
    "for i in range(D.shape[0]):\n",
    "    dist_list = D[i]\n",
    "    sorted_neighbors = torch.argsort(dist_list).cpu()\n",
    "    indices.append([i, sorted_neighbors[0]])\n",
    "\n",
    "option3 = np.array(indices)\n",
    "option3 = option3[option3[:, 1].argsort()]\n",
    "print(option3.shape)\n",
    "option3"
   ]
  },
  {
   "cell_type": "code",
   "execution_count": 37,
   "metadata": {},
   "outputs": [
    {
     "name": "stdout",
     "output_type": "stream",
     "text": [
      "313\n",
      "0.27996422182468694\n"
     ]
    },
    {
     "data": {
      "text/plain": [
       "[[2952, 0],\n",
       " [3417, 1],\n",
       " [1581, 6],\n",
       " [1217, 8],\n",
       " [3363, 10],\n",
       " [1954, 13],\n",
       " [1141, 17],\n",
       " [963, 21],\n",
       " [2254, 26],\n",
       " [165, 33],\n",
       " [2350, 37],\n",
       " [1337, 42],\n",
       " [1563, 44],\n",
       " [1348, 46],\n",
       " [883, 47],\n",
       " [2072, 50],\n",
       " [2406, 54],\n",
       " [2399, 57],\n",
       " [731, 59],\n",
       " [834, 60],\n",
       " [341, 64],\n",
       " [2516, 68],\n",
       " [3274, 70],\n",
       " [337, 73],\n",
       " [3039, 74],\n",
       " [835, 79],\n",
       " [3353, 87],\n",
       " [3169, 91],\n",
       " [470, 92],\n",
       " [2252, 94],\n",
       " [2332, 95],\n",
       " [2612, 96],\n",
       " [53, 97],\n",
       " [64, 101],\n",
       " [3776, 106],\n",
       " [3488, 110],\n",
       " [288, 116],\n",
       " [275, 117],\n",
       " [1672, 118],\n",
       " [1653, 121],\n",
       " [85, 126],\n",
       " [1945, 129],\n",
       " [3492, 134],\n",
       " [1378, 136],\n",
       " [2047, 137],\n",
       " [3191, 145],\n",
       " [3576, 150],\n",
       " [3034, 155],\n",
       " [3437, 161],\n",
       " [2955, 162],\n",
       " [2953, 164],\n",
       " [2275, 167],\n",
       " [1553, 168],\n",
       " [2186, 170],\n",
       " [3340, 171],\n",
       " [1538, 173],\n",
       " [2343, 176],\n",
       " [1510, 180],\n",
       " [2678, 186],\n",
       " [3816, 187],\n",
       " [2199, 189],\n",
       " [1126, 190],\n",
       " [19, 191],\n",
       " [2194, 195],\n",
       " [1535, 196],\n",
       " [240, 205],\n",
       " [233, 206],\n",
       " [3181, 208],\n",
       " [2452, 211],\n",
       " [3462, 215],\n",
       " [3358, 218],\n",
       " [942, 223],\n",
       " [936, 224],\n",
       " [3289, 226],\n",
       " [121, 231],\n",
       " [3608, 232],\n",
       " [3652, 234],\n",
       " [2416, 236],\n",
       " [670, 241],\n",
       " [3894, 250],\n",
       " [727, 252],\n",
       " [2625, 254],\n",
       " [2972, 258],\n",
       " [3313, 268],\n",
       " [3673, 269],\n",
       " [3866, 270],\n",
       " [380, 272],\n",
       " [385, 273],\n",
       " [2797, 274],\n",
       " [3257, 278],\n",
       " [2684, 286],\n",
       " [2666, 291],\n",
       " [1966, 292],\n",
       " [1106, 295],\n",
       " [1784, 300],\n",
       " [320, 303],\n",
       " [3786, 305],\n",
       " [266, 314],\n",
       " [3669, 315],\n",
       " [1045, 323],\n",
       " [1051, 325],\n",
       " [2274, 328],\n",
       " [1314, 331],\n",
       " [389, 335],\n",
       " [1097, 339],\n",
       " [206, 341],\n",
       " [1104, 342],\n",
       " [1277, 343],\n",
       " [226, 344],\n",
       " [396, 345],\n",
       " [1389, 352],\n",
       " [689, 360],\n",
       " [3161, 367],\n",
       " [152, 379],\n",
       " [3344, 380],\n",
       " [147, 382],\n",
       " [2258, 384],\n",
       " [450, 387],\n",
       " [451, 388],\n",
       " [2595, 401],\n",
       " [3448, 403],\n",
       " [1733, 404],\n",
       " [3142, 406],\n",
       " [1235, 407],\n",
       " [1687, 408],\n",
       " [2290, 410],\n",
       " [537, 417],\n",
       " [1591, 418],\n",
       " [2691, 425],\n",
       " [847, 430],\n",
       " [3343, 434],\n",
       " [548, 437],\n",
       " [331, 439],\n",
       " [1679, 440],\n",
       " [606, 446],\n",
       " [3865, 450],\n",
       " [315, 456],\n",
       " [1258, 458],\n",
       " [3491, 460],\n",
       " [1628, 462],\n",
       " [3805, 471],\n",
       " [2463, 472],\n",
       " [3309, 473],\n",
       " [1229, 476],\n",
       " [3002, 477],\n",
       " [1915, 479],\n",
       " [2762, 480],\n",
       " [3562, 483],\n",
       " [1284, 485],\n",
       " [3792, 491],\n",
       " [925, 494],\n",
       " [3204, 495],\n",
       " [1576, 505],\n",
       " [1392, 506],\n",
       " [1391, 507],\n",
       " [563, 510],\n",
       " [1361, 518],\n",
       " [2446, 519],\n",
       " [2169, 525],\n",
       " [761, 527],\n",
       " [948, 531],\n",
       " [3226, 541],\n",
       " [684, 549],\n",
       " [2129, 551],\n",
       " [2354, 567],\n",
       " [607, 570],\n",
       " [3316, 580],\n",
       " [1801, 582],\n",
       " [3833, 584],\n",
       " [1121, 592],\n",
       " [1907, 598],\n",
       " [3277, 605],\n",
       " [3291, 607],\n",
       " [3115, 612],\n",
       " [3117, 613],\n",
       " [2418, 614],\n",
       " [3636, 628],\n",
       " [2019, 631],\n",
       " [3369, 634],\n",
       " [1042, 637],\n",
       " [1039, 638],\n",
       " [745, 639],\n",
       " [648, 640],\n",
       " [960, 643],\n",
       " [3868, 646],\n",
       " [2565, 651],\n",
       " [3780, 656],\n",
       " [1599, 657],\n",
       " [2894, 660],\n",
       " [871, 663],\n",
       " [1479, 665],\n",
       " [1626, 670],\n",
       " [2427, 671],\n",
       " [2327, 674],\n",
       " [3643, 675],\n",
       " [733, 679],\n",
       " [418, 684],\n",
       " [2084, 692],\n",
       " [2508, 695],\n",
       " [3078, 698],\n",
       " [3420, 704],\n",
       " [2152, 705],\n",
       " [1113, 708],\n",
       " [1396, 709],\n",
       " [2532, 711],\n",
       " [3130, 713],\n",
       " [3029, 714],\n",
       " [1747, 718],\n",
       " [437, 720],\n",
       " [3823, 722],\n",
       " [3773, 725],\n",
       " [2549, 726],\n",
       " [485, 727],\n",
       " [3351, 729],\n",
       " [1470, 731],\n",
       " [2448, 733],\n",
       " [1698, 740],\n",
       " [1268, 741],\n",
       " [3105, 745],\n",
       " [227, 748],\n",
       " [2932, 749],\n",
       " [1556, 750],\n",
       " [230, 753],\n",
       " [1827, 754],\n",
       " [2869, 757],\n",
       " [2858, 761],\n",
       " [3244, 763],\n",
       " [3667, 771],\n",
       " [1616, 773],\n",
       " [2479, 779],\n",
       " [2175, 783],\n",
       " [2580, 785],\n",
       " [3628, 786],\n",
       " [1638, 790],\n",
       " [345, 796],\n",
       " [2460, 799],\n",
       " [3735, 803],\n",
       " [600, 811],\n",
       " [1002, 814],\n",
       " [988, 817],\n",
       " [3537, 819],\n",
       " [1772, 820],\n",
       " [44, 822],\n",
       " [3511, 836],\n",
       " [520, 837],\n",
       " [3529, 840],\n",
       " [992, 841],\n",
       " [2411, 842],\n",
       " [958, 845],\n",
       " [2593, 851],\n",
       " [1602, 853],\n",
       " [809, 854],\n",
       " [1837, 862],\n",
       " [2981, 863],\n",
       " [3233, 869],\n",
       " [3612, 875],\n",
       " [507, 879],\n",
       " [3148, 880],\n",
       " [3782, 887],\n",
       " [3725, 890],\n",
       " [2211, 894],\n",
       " [2206, 895],\n",
       " [3716, 896],\n",
       " [1056, 898],\n",
       " [2890, 902],\n",
       " [3761, 907],\n",
       " [3460, 908],\n",
       " [1293, 913],\n",
       " [3887, 914],\n",
       " [1642, 921],\n",
       " [1198, 923],\n",
       " [3644, 927],\n",
       " [3151, 928],\n",
       " [2008, 930],\n",
       " [3602, 932],\n",
       " [2942, 947],\n",
       " [3607, 953],\n",
       " [3331, 955],\n",
       " [2520, 963],\n",
       " [2378, 966],\n",
       " [2490, 968],\n",
       " [3297, 977],\n",
       " [3430, 983],\n",
       " [1843, 997],\n",
       " [306, 999],\n",
       " [625, 1012],\n",
       " [2956, 1017],\n",
       " [1299, 1024],\n",
       " [1431, 1031],\n",
       " [704, 1039],\n",
       " [419, 1047],\n",
       " [2744, 1051],\n",
       " [1338, 1052],\n",
       " [640, 1054],\n",
       " [1281, 1056],\n",
       " [3629, 1058],\n",
       " [2482, 1059],\n",
       " [1401, 1060],\n",
       " [1932, 1062],\n",
       " [445, 1064],\n",
       " [231, 1071],\n",
       " [460, 1077],\n",
       " [2891, 1081],\n",
       " [3567, 1084],\n",
       " [3243, 1085],\n",
       " [2413, 1088],\n",
       " [3282, 1090],\n",
       " [1336, 1095],\n",
       " [2305, 1097],\n",
       " [977, 1108],\n",
       " [3505, 1110],\n",
       " [1764, 1114],\n",
       " [1010, 1115]]"
      ]
     },
     "execution_count": 37,
     "metadata": {},
     "output_type": "execute_result"
    }
   ],
   "source": [
    "matching = test_matching(truth, option3)\n",
    "print(len(matching))\n",
    "print(len(matching) / len(truth))\n",
    "matching"
   ]
  },
  {
   "cell_type": "markdown",
   "metadata": {},
   "source": [
    "---"
   ]
  },
  {
   "cell_type": "code",
   "execution_count": null,
   "metadata": {},
   "outputs": [],
   "source": [
    "a = torch.tensor([[0.0,  0.0], [0.0, 1.0], [0.0,  2.0]])\n",
    "print(a)\n",
    "b = torch.tensor([[0.0, 1.0 ], [1.0,  1.0]])\n",
    "print(b)\n",
    "torch.cdist(a, b, p=2)"
   ]
  },
  {
   "cell_type": "code",
   "execution_count": null,
   "metadata": {},
   "outputs": [],
   "source": [
    "a = torch.tensor([[4.01, 3.0, 2.0, 0.1, 4.0]])\n",
    "print(a)\n",
    "torch.argsort(a, dim=1)"
   ]
  },
  {
   "cell_type": "code",
   "execution_count": null,
   "metadata": {},
   "outputs": [],
   "source": [
    "a = np.array([[9, 2, 3],\n",
    "              [4, 5, 6],\n",
    "              [7, 0, 5]])\n",
    "\n",
    "a[a[:, 2].argsort()]\n"
   ]
  }
 ],
 "metadata": {
  "kernelspec": {
   "display_name": "graph_alignment",
   "language": "python",
   "name": "python3"
  },
  "language_info": {
   "codemirror_mode": {
    "name": "ipython",
    "version": 3
   },
   "file_extension": ".py",
   "mimetype": "text/x-python",
   "name": "python",
   "nbconvert_exporter": "python",
   "pygments_lexer": "ipython3",
   "version": "3.10.14"
  }
 },
 "nbformat": 4,
 "nbformat_minor": 2
}
